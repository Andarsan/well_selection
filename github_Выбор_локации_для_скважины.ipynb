{
  "cells": [
    {
      "cell_type": "markdown",
      "metadata": {
        "id": "view-in-github",
        "colab_type": "text"
      },
      "source": [
        "<a href=\"https://colab.research.google.com/github/Andarsan/well_selection/blob/main/github_%D0%92%D1%8B%D0%B1%D0%BE%D1%80_%D0%BB%D0%BE%D0%BA%D0%B0%D1%86%D0%B8%D0%B8_%D0%B4%D0%BB%D1%8F_%D1%81%D0%BA%D0%B2%D0%B0%D0%B6%D0%B8%D0%BD%D1%8B.ipynb\" target=\"_parent\"><img src=\"https://colab.research.google.com/assets/colab-badge.svg\" alt=\"Open In Colab\"/></a>"
      ]
    },
    {
      "cell_type": "markdown",
      "metadata": {
        "id": "LHd5TXB07PKD"
      },
      "source": [
        "# Выбор локации для скважины"
      ]
    },
    {
      "cell_type": "markdown",
      "metadata": {
        "id": "EVbhnYIe7PKD"
      },
      "source": [
        "Допустим, вы работаете в добывающей компании «ГлавРосГосНефть». Нужно решить, где бурить новую скважину.\n",
        "\n",
        "Вам предоставлены пробы нефти в трёх регионах: в каждом 10 000 месторождений, где измерили качество нефти и объём её запасов. Постройте модель машинного обучения, которая поможет определить регион, где добыча принесёт наибольшую прибыль. Проанализируйте возможную прибыль и риски техникой *Bootstrap.*\n",
        "\n",
        "Шаги для выбора локации:\n",
        "\n",
        "- В избранном регионе ищут месторождения, для каждого определяют значения признаков;\n",
        "- Строят модель и оценивают объём запасов;\n",
        "- Выбирают месторождения с самым высокими оценками значений. Количество месторождений зависит от бюджета компании и стоимости разработки одной скважины;\n",
        "- Прибыль равна суммарной прибыли отобранных месторождений."
      ]
    },
    {
      "cell_type": "markdown",
      "metadata": {
        "id": "HW5chR7r7PKE"
      },
      "source": [
        "## Загрузка и подготовка данных"
      ]
    },
    {
      "cell_type": "code",
      "execution_count": 1,
      "metadata": {
        "colab": {
          "base_uri": "https://localhost:8080/"
        },
        "id": "XLcprv-Z7PKE",
        "outputId": "ea20eda3-e991-42c2-e8a7-35708e24b926"
      },
      "outputs": [
        {
          "output_type": "stream",
          "name": "stdout",
          "text": [
            "Mounted at /content/drive\n",
            "Collecting phik\n",
            "  Downloading phik-0.12.4-cp310-cp310-manylinux_2_17_x86_64.manylinux2014_x86_64.whl.metadata (5.6 kB)\n",
            "Requirement already satisfied: numpy>=1.18.0 in /usr/local/lib/python3.10/dist-packages (from phik) (1.26.4)\n",
            "Requirement already satisfied: scipy>=1.5.2 in /usr/local/lib/python3.10/dist-packages (from phik) (1.13.1)\n",
            "Requirement already satisfied: pandas>=0.25.1 in /usr/local/lib/python3.10/dist-packages (from phik) (2.2.2)\n",
            "Requirement already satisfied: matplotlib>=2.2.3 in /usr/local/lib/python3.10/dist-packages (from phik) (3.7.1)\n",
            "Requirement already satisfied: joblib>=0.14.1 in /usr/local/lib/python3.10/dist-packages (from phik) (1.4.2)\n",
            "Requirement already satisfied: contourpy>=1.0.1 in /usr/local/lib/python3.10/dist-packages (from matplotlib>=2.2.3->phik) (1.3.0)\n",
            "Requirement already satisfied: cycler>=0.10 in /usr/local/lib/python3.10/dist-packages (from matplotlib>=2.2.3->phik) (0.12.1)\n",
            "Requirement already satisfied: fonttools>=4.22.0 in /usr/local/lib/python3.10/dist-packages (from matplotlib>=2.2.3->phik) (4.54.1)\n",
            "Requirement already satisfied: kiwisolver>=1.0.1 in /usr/local/lib/python3.10/dist-packages (from matplotlib>=2.2.3->phik) (1.4.7)\n",
            "Requirement already satisfied: packaging>=20.0 in /usr/local/lib/python3.10/dist-packages (from matplotlib>=2.2.3->phik) (24.1)\n",
            "Requirement already satisfied: pillow>=6.2.0 in /usr/local/lib/python3.10/dist-packages (from matplotlib>=2.2.3->phik) (10.4.0)\n",
            "Requirement already satisfied: pyparsing>=2.3.1 in /usr/local/lib/python3.10/dist-packages (from matplotlib>=2.2.3->phik) (3.2.0)\n",
            "Requirement already satisfied: python-dateutil>=2.7 in /usr/local/lib/python3.10/dist-packages (from matplotlib>=2.2.3->phik) (2.8.2)\n",
            "Requirement already satisfied: pytz>=2020.1 in /usr/local/lib/python3.10/dist-packages (from pandas>=0.25.1->phik) (2024.2)\n",
            "Requirement already satisfied: tzdata>=2022.7 in /usr/local/lib/python3.10/dist-packages (from pandas>=0.25.1->phik) (2024.2)\n",
            "Requirement already satisfied: six>=1.5 in /usr/local/lib/python3.10/dist-packages (from python-dateutil>=2.7->matplotlib>=2.2.3->phik) (1.16.0)\n",
            "Downloading phik-0.12.4-cp310-cp310-manylinux_2_17_x86_64.manylinux2014_x86_64.whl (686 kB)\n",
            "\u001b[2K   \u001b[90m━━━━━━━━━━━━━━━━━━━━━━━━━━━━━━━━━━━━━━━━\u001b[0m \u001b[32m686.1/686.1 kB\u001b[0m \u001b[31m14.4 MB/s\u001b[0m eta \u001b[36m0:00:00\u001b[0m\n",
            "\u001b[?25hInstalling collected packages: phik\n",
            "Successfully installed phik-0.12.4\n"
          ]
        }
      ],
      "source": [
        "import pandas as pd\n",
        "import matplotlib.pyplot as plt\n",
        "import numpy as np\n",
        "from sklearn.preprocessing import StandardScaler\n",
        "from sklearn.linear_model import LinearRegression\n",
        "from sklearn.model_selection import train_test_split\n",
        "from sklearn.metrics import mean_squared_error\n",
        "import seaborn as sns\n",
        "\n",
        "# Вычисление доверительного интервала\n",
        "from scipy import stats as st\n",
        "\n",
        "\n",
        "import os\n",
        "try:\n",
        "  from google.colab import drive\n",
        "  drive.mount('/content/drive')\n",
        "except Exception as ex:\n",
        "    template = \"An exception of type {0} occurred. Arguments:\\n{1!r}\"\n",
        "    message = template.format(type(ex).__name__, ex.args)\n",
        "    print(message)\n",
        "\n",
        "\n",
        "! pip install phik\n",
        "# Вычисление матрицы корреляции с использованием phik\n",
        "import phik\n",
        "RANDOM_STATE = 42"
      ]
    },
    {
      "cell_type": "code",
      "execution_count": 2,
      "metadata": {
        "colab": {
          "base_uri": "https://localhost:8080/",
          "height": 35
        },
        "id": "pfrO9hU97PKF",
        "outputId": "6d773f44-83a6-4be4-8270-6e2296d56889"
      },
      "outputs": [
        {
          "output_type": "display_data",
          "data": {
            "text/plain": [
              "'рабочий каталог: /content/drive/MyDrive/Colab Notebooks/all_project'"
            ],
            "application/vnd.google.colaboratory.intrinsic+json": {
              "type": "string"
            }
          },
          "metadata": {}
        }
      ],
      "source": [
        "pth1 = '/datasets'#/ferma_main.csv'\n",
        "pth2 = '/content/drive/MyDrive/Colab Notebooks/all_project'#/ferma_main.csv'\n",
        "pth3 = 'C:/Users/andar/Downloads'\n",
        "if os.path.exists(pth1):\n",
        "  pth = pth1\n",
        "elif os.path.exists(pth2):\n",
        "  pth = pth2\n",
        "elif os.path.exists(pth3):\n",
        "  pth = pth3\n",
        "else:\n",
        "  pth = 'Something is wrong'\n",
        "display(f'рабочий каталог: {pth}')"
      ]
    },
    {
      "cell_type": "code",
      "execution_count": 3,
      "metadata": {
        "id": "tnDopZsa7PKG"
      },
      "outputs": [],
      "source": [
        "def df_plt_describe(_df,_for):\n",
        "  j=0\n",
        "  for i in _for:\n",
        "    # Set up the plot\n",
        "    ax = plt.subplot(2, 2, j + 1)\n",
        "    j = j+1\n",
        "    # Draw the plot\n",
        "    ax.boxplot(_df[i])\n",
        "    # Title and labels\n",
        "    ax.set_title(i)\n",
        "  plt.tight_layout()\n",
        "  plt.show()\n",
        "  j=0\n",
        "  #plt=reload(plt)\n",
        "  for i in _for:\n",
        "    # Set up the plot\n",
        "    ax = plt.subplot(2, 2, j + 1)\n",
        "    j = j+1\n",
        "    # Draw the plot\n",
        "    ax.hist(_df[i])\n",
        "    # Title and labels\n",
        "    ax.set_title(i)\n",
        "  plt.tight_layout()\n",
        "  plt.show()\n",
        "  display(df_0[_for].describe())"
      ]
    },
    {
      "cell_type": "markdown",
      "metadata": {
        "id": "i8NcUOQs7PKG"
      },
      "source": [
        "* для отрисовки и анализа данных\n",
        "* _df - датафрейм\n",
        "* _for - список колонок"
      ]
    },
    {
      "cell_type": "markdown",
      "metadata": {
        "id": "H9yqrwQH7PKG"
      },
      "source": [
        "### `df_0` это `geo_data_0.csv`"
      ]
    },
    {
      "cell_type": "code",
      "execution_count": 4,
      "metadata": {
        "colab": {
          "base_uri": "https://localhost:8080/",
          "height": 431
        },
        "id": "IoDG_H-b7PKG",
        "outputId": "ab66a2fe-7006-424a-fd48-c31093e654d8"
      },
      "outputs": [
        {
          "output_type": "display_data",
          "data": {
            "text/plain": [
              "      id        f0        f1        f2     product\n",
              "0  txEyH  0.705745 -0.497823  1.221170  105.280062\n",
              "1  2acmU  1.334711 -0.340164  4.365080   73.037750\n",
              "2  409Wp  1.022732  0.151990  1.419926   85.265647\n",
              "3  iJLyR -0.032172  0.139033  2.978566  168.620776\n",
              "4  Xdl7t  1.988431  0.155413  4.751769  154.036647"
            ],
            "text/html": [
              "\n",
              "  <div id=\"df-16c0dae0-093b-4533-9b3b-b904cf8946b6\" class=\"colab-df-container\">\n",
              "    <div>\n",
              "<style scoped>\n",
              "    .dataframe tbody tr th:only-of-type {\n",
              "        vertical-align: middle;\n",
              "    }\n",
              "\n",
              "    .dataframe tbody tr th {\n",
              "        vertical-align: top;\n",
              "    }\n",
              "\n",
              "    .dataframe thead th {\n",
              "        text-align: right;\n",
              "    }\n",
              "</style>\n",
              "<table border=\"1\" class=\"dataframe\">\n",
              "  <thead>\n",
              "    <tr style=\"text-align: right;\">\n",
              "      <th></th>\n",
              "      <th>id</th>\n",
              "      <th>f0</th>\n",
              "      <th>f1</th>\n",
              "      <th>f2</th>\n",
              "      <th>product</th>\n",
              "    </tr>\n",
              "  </thead>\n",
              "  <tbody>\n",
              "    <tr>\n",
              "      <th>0</th>\n",
              "      <td>txEyH</td>\n",
              "      <td>0.705745</td>\n",
              "      <td>-0.497823</td>\n",
              "      <td>1.221170</td>\n",
              "      <td>105.280062</td>\n",
              "    </tr>\n",
              "    <tr>\n",
              "      <th>1</th>\n",
              "      <td>2acmU</td>\n",
              "      <td>1.334711</td>\n",
              "      <td>-0.340164</td>\n",
              "      <td>4.365080</td>\n",
              "      <td>73.037750</td>\n",
              "    </tr>\n",
              "    <tr>\n",
              "      <th>2</th>\n",
              "      <td>409Wp</td>\n",
              "      <td>1.022732</td>\n",
              "      <td>0.151990</td>\n",
              "      <td>1.419926</td>\n",
              "      <td>85.265647</td>\n",
              "    </tr>\n",
              "    <tr>\n",
              "      <th>3</th>\n",
              "      <td>iJLyR</td>\n",
              "      <td>-0.032172</td>\n",
              "      <td>0.139033</td>\n",
              "      <td>2.978566</td>\n",
              "      <td>168.620776</td>\n",
              "    </tr>\n",
              "    <tr>\n",
              "      <th>4</th>\n",
              "      <td>Xdl7t</td>\n",
              "      <td>1.988431</td>\n",
              "      <td>0.155413</td>\n",
              "      <td>4.751769</td>\n",
              "      <td>154.036647</td>\n",
              "    </tr>\n",
              "  </tbody>\n",
              "</table>\n",
              "</div>\n",
              "    <div class=\"colab-df-buttons\">\n",
              "\n",
              "  <div class=\"colab-df-container\">\n",
              "    <button class=\"colab-df-convert\" onclick=\"convertToInteractive('df-16c0dae0-093b-4533-9b3b-b904cf8946b6')\"\n",
              "            title=\"Convert this dataframe to an interactive table.\"\n",
              "            style=\"display:none;\">\n",
              "\n",
              "  <svg xmlns=\"http://www.w3.org/2000/svg\" height=\"24px\" viewBox=\"0 -960 960 960\">\n",
              "    <path d=\"M120-120v-720h720v720H120Zm60-500h600v-160H180v160Zm220 220h160v-160H400v160Zm0 220h160v-160H400v160ZM180-400h160v-160H180v160Zm440 0h160v-160H620v160ZM180-180h160v-160H180v160Zm440 0h160v-160H620v160Z\"/>\n",
              "  </svg>\n",
              "    </button>\n",
              "\n",
              "  <style>\n",
              "    .colab-df-container {\n",
              "      display:flex;\n",
              "      gap: 12px;\n",
              "    }\n",
              "\n",
              "    .colab-df-convert {\n",
              "      background-color: #E8F0FE;\n",
              "      border: none;\n",
              "      border-radius: 50%;\n",
              "      cursor: pointer;\n",
              "      display: none;\n",
              "      fill: #1967D2;\n",
              "      height: 32px;\n",
              "      padding: 0 0 0 0;\n",
              "      width: 32px;\n",
              "    }\n",
              "\n",
              "    .colab-df-convert:hover {\n",
              "      background-color: #E2EBFA;\n",
              "      box-shadow: 0px 1px 2px rgba(60, 64, 67, 0.3), 0px 1px 3px 1px rgba(60, 64, 67, 0.15);\n",
              "      fill: #174EA6;\n",
              "    }\n",
              "\n",
              "    .colab-df-buttons div {\n",
              "      margin-bottom: 4px;\n",
              "    }\n",
              "\n",
              "    [theme=dark] .colab-df-convert {\n",
              "      background-color: #3B4455;\n",
              "      fill: #D2E3FC;\n",
              "    }\n",
              "\n",
              "    [theme=dark] .colab-df-convert:hover {\n",
              "      background-color: #434B5C;\n",
              "      box-shadow: 0px 1px 3px 1px rgba(0, 0, 0, 0.15);\n",
              "      filter: drop-shadow(0px 1px 2px rgba(0, 0, 0, 0.3));\n",
              "      fill: #FFFFFF;\n",
              "    }\n",
              "  </style>\n",
              "\n",
              "    <script>\n",
              "      const buttonEl =\n",
              "        document.querySelector('#df-16c0dae0-093b-4533-9b3b-b904cf8946b6 button.colab-df-convert');\n",
              "      buttonEl.style.display =\n",
              "        google.colab.kernel.accessAllowed ? 'block' : 'none';\n",
              "\n",
              "      async function convertToInteractive(key) {\n",
              "        const element = document.querySelector('#df-16c0dae0-093b-4533-9b3b-b904cf8946b6');\n",
              "        const dataTable =\n",
              "          await google.colab.kernel.invokeFunction('convertToInteractive',\n",
              "                                                    [key], {});\n",
              "        if (!dataTable) return;\n",
              "\n",
              "        const docLinkHtml = 'Like what you see? Visit the ' +\n",
              "          '<a target=\"_blank\" href=https://colab.research.google.com/notebooks/data_table.ipynb>data table notebook</a>'\n",
              "          + ' to learn more about interactive tables.';\n",
              "        element.innerHTML = '';\n",
              "        dataTable['output_type'] = 'display_data';\n",
              "        await google.colab.output.renderOutput(dataTable, element);\n",
              "        const docLink = document.createElement('div');\n",
              "        docLink.innerHTML = docLinkHtml;\n",
              "        element.appendChild(docLink);\n",
              "      }\n",
              "    </script>\n",
              "  </div>\n",
              "\n",
              "\n",
              "<div id=\"df-01786767-5c6d-4a7a-a8cb-0e66eb601625\">\n",
              "  <button class=\"colab-df-quickchart\" onclick=\"quickchart('df-01786767-5c6d-4a7a-a8cb-0e66eb601625')\"\n",
              "            title=\"Suggest charts\"\n",
              "            style=\"display:none;\">\n",
              "\n",
              "<svg xmlns=\"http://www.w3.org/2000/svg\" height=\"24px\"viewBox=\"0 0 24 24\"\n",
              "     width=\"24px\">\n",
              "    <g>\n",
              "        <path d=\"M19 3H5c-1.1 0-2 .9-2 2v14c0 1.1.9 2 2 2h14c1.1 0 2-.9 2-2V5c0-1.1-.9-2-2-2zM9 17H7v-7h2v7zm4 0h-2V7h2v10zm4 0h-2v-4h2v4z\"/>\n",
              "    </g>\n",
              "</svg>\n",
              "  </button>\n",
              "\n",
              "<style>\n",
              "  .colab-df-quickchart {\n",
              "      --bg-color: #E8F0FE;\n",
              "      --fill-color: #1967D2;\n",
              "      --hover-bg-color: #E2EBFA;\n",
              "      --hover-fill-color: #174EA6;\n",
              "      --disabled-fill-color: #AAA;\n",
              "      --disabled-bg-color: #DDD;\n",
              "  }\n",
              "\n",
              "  [theme=dark] .colab-df-quickchart {\n",
              "      --bg-color: #3B4455;\n",
              "      --fill-color: #D2E3FC;\n",
              "      --hover-bg-color: #434B5C;\n",
              "      --hover-fill-color: #FFFFFF;\n",
              "      --disabled-bg-color: #3B4455;\n",
              "      --disabled-fill-color: #666;\n",
              "  }\n",
              "\n",
              "  .colab-df-quickchart {\n",
              "    background-color: var(--bg-color);\n",
              "    border: none;\n",
              "    border-radius: 50%;\n",
              "    cursor: pointer;\n",
              "    display: none;\n",
              "    fill: var(--fill-color);\n",
              "    height: 32px;\n",
              "    padding: 0;\n",
              "    width: 32px;\n",
              "  }\n",
              "\n",
              "  .colab-df-quickchart:hover {\n",
              "    background-color: var(--hover-bg-color);\n",
              "    box-shadow: 0 1px 2px rgba(60, 64, 67, 0.3), 0 1px 3px 1px rgba(60, 64, 67, 0.15);\n",
              "    fill: var(--button-hover-fill-color);\n",
              "  }\n",
              "\n",
              "  .colab-df-quickchart-complete:disabled,\n",
              "  .colab-df-quickchart-complete:disabled:hover {\n",
              "    background-color: var(--disabled-bg-color);\n",
              "    fill: var(--disabled-fill-color);\n",
              "    box-shadow: none;\n",
              "  }\n",
              "\n",
              "  .colab-df-spinner {\n",
              "    border: 2px solid var(--fill-color);\n",
              "    border-color: transparent;\n",
              "    border-bottom-color: var(--fill-color);\n",
              "    animation:\n",
              "      spin 1s steps(1) infinite;\n",
              "  }\n",
              "\n",
              "  @keyframes spin {\n",
              "    0% {\n",
              "      border-color: transparent;\n",
              "      border-bottom-color: var(--fill-color);\n",
              "      border-left-color: var(--fill-color);\n",
              "    }\n",
              "    20% {\n",
              "      border-color: transparent;\n",
              "      border-left-color: var(--fill-color);\n",
              "      border-top-color: var(--fill-color);\n",
              "    }\n",
              "    30% {\n",
              "      border-color: transparent;\n",
              "      border-left-color: var(--fill-color);\n",
              "      border-top-color: var(--fill-color);\n",
              "      border-right-color: var(--fill-color);\n",
              "    }\n",
              "    40% {\n",
              "      border-color: transparent;\n",
              "      border-right-color: var(--fill-color);\n",
              "      border-top-color: var(--fill-color);\n",
              "    }\n",
              "    60% {\n",
              "      border-color: transparent;\n",
              "      border-right-color: var(--fill-color);\n",
              "    }\n",
              "    80% {\n",
              "      border-color: transparent;\n",
              "      border-right-color: var(--fill-color);\n",
              "      border-bottom-color: var(--fill-color);\n",
              "    }\n",
              "    90% {\n",
              "      border-color: transparent;\n",
              "      border-bottom-color: var(--fill-color);\n",
              "    }\n",
              "  }\n",
              "</style>\n",
              "\n",
              "  <script>\n",
              "    async function quickchart(key) {\n",
              "      const quickchartButtonEl =\n",
              "        document.querySelector('#' + key + ' button');\n",
              "      quickchartButtonEl.disabled = true;  // To prevent multiple clicks.\n",
              "      quickchartButtonEl.classList.add('colab-df-spinner');\n",
              "      try {\n",
              "        const charts = await google.colab.kernel.invokeFunction(\n",
              "            'suggestCharts', [key], {});\n",
              "      } catch (error) {\n",
              "        console.error('Error during call to suggestCharts:', error);\n",
              "      }\n",
              "      quickchartButtonEl.classList.remove('colab-df-spinner');\n",
              "      quickchartButtonEl.classList.add('colab-df-quickchart-complete');\n",
              "    }\n",
              "    (() => {\n",
              "      let quickchartButtonEl =\n",
              "        document.querySelector('#df-01786767-5c6d-4a7a-a8cb-0e66eb601625 button');\n",
              "      quickchartButtonEl.style.display =\n",
              "        google.colab.kernel.accessAllowed ? 'block' : 'none';\n",
              "    })();\n",
              "  </script>\n",
              "</div>\n",
              "    </div>\n",
              "  </div>\n"
            ],
            "application/vnd.google.colaboratory.intrinsic+json": {
              "type": "dataframe",
              "summary": "{\n  \"name\": \"display(df_0\",\n  \"rows\": 5,\n  \"fields\": [\n    {\n      \"column\": \"id\",\n      \"properties\": {\n        \"dtype\": \"string\",\n        \"num_unique_values\": 5,\n        \"samples\": [\n          \"2acmU\",\n          \"Xdl7t\",\n          \"409Wp\"\n        ],\n        \"semantic_type\": \"\",\n        \"description\": \"\"\n      }\n    },\n    {\n      \"column\": \"f0\",\n      \"properties\": {\n        \"dtype\": \"number\",\n        \"std\": 0.7485708043455399,\n        \"min\": -0.0321716245074397,\n        \"max\": 1.988431059439699,\n        \"num_unique_values\": 5,\n        \"samples\": [\n          1.3347112926051892,\n          1.988431059439699,\n          1.0227322634721168\n        ],\n        \"semantic_type\": \"\",\n        \"description\": \"\"\n      }\n    },\n    {\n      \"column\": \"f1\",\n      \"properties\": {\n        \"dtype\": \"number\",\n        \"std\": 0.31601456661014493,\n        \"min\": -0.4978225001976334,\n        \"max\": 0.1554126777766717,\n        \"num_unique_values\": 5,\n        \"samples\": [\n          -0.3401642528583136,\n          0.1554126777766717,\n          0.1519904445702294\n        ],\n        \"semantic_type\": \"\",\n        \"description\": \"\"\n      }\n    },\n    {\n      \"column\": \"f2\",\n      \"properties\": {\n        \"dtype\": \"number\",\n        \"std\": 1.6263135457005142,\n        \"min\": 1.22116994843607,\n        \"max\": 4.751769119262962,\n        \"num_unique_values\": 5,\n        \"samples\": [\n          4.3650803324282,\n          4.751769119262962,\n          1.4199262386740652\n        ],\n        \"semantic_type\": \"\",\n        \"description\": \"\"\n      }\n    },\n    {\n      \"column\": \"product\",\n      \"properties\": {\n        \"dtype\": \"number\",\n        \"std\": 42.16993958146888,\n        \"min\": 73.03775026515737,\n        \"max\": 168.62077555509563,\n        \"num_unique_values\": 5,\n        \"samples\": [\n          73.03775026515737,\n          154.03664673738086,\n          85.26564713099945\n        ],\n        \"semantic_type\": \"\",\n        \"description\": \"\"\n      }\n    }\n  ]\n}"
            }
          },
          "metadata": {}
        },
        {
          "output_type": "stream",
          "name": "stdout",
          "text": [
            "<class 'pandas.core.frame.DataFrame'>\n",
            "RangeIndex: 100000 entries, 0 to 99999\n",
            "Data columns (total 5 columns):\n",
            " #   Column   Non-Null Count   Dtype  \n",
            "---  ------   --------------   -----  \n",
            " 0   id       100000 non-null  object \n",
            " 1   f0       100000 non-null  float64\n",
            " 2   f1       100000 non-null  float64\n",
            " 3   f2       100000 non-null  float64\n",
            " 4   product  100000 non-null  float64\n",
            "dtypes: float64(4), object(1)\n",
            "memory usage: 3.8+ MB\n"
          ]
        },
        {
          "output_type": "display_data",
          "data": {
            "text/plain": [
              "None"
            ]
          },
          "metadata": {}
        }
      ],
      "source": [
        "df_0 = pd.read_csv(pth + '/geo_data_0.csv')\n",
        "display(df_0.head(5))\n",
        "display(df_0.info())"
      ]
    },
    {
      "cell_type": "code",
      "execution_count": 5,
      "metadata": {
        "colab": {
          "base_uri": "https://localhost:8080/",
          "height": 34
        },
        "id": "-DRy9aTo7PKH",
        "outputId": "8daf8bf2-1289-4c91-9d19-66665150b408"
      },
      "outputs": [
        {
          "output_type": "display_data",
          "data": {
            "text/plain": [
              "99990"
            ]
          },
          "metadata": {}
        }
      ],
      "source": [
        "display(len(df_0['id'].unique()))"
      ]
    },
    {
      "cell_type": "markdown",
      "metadata": {
        "id": "8vrB7iiE7PKH"
      },
      "source": [
        "* скважины не уникальны посмотрим на дубликаты"
      ]
    },
    {
      "cell_type": "code",
      "execution_count": 6,
      "metadata": {
        "colab": {
          "base_uri": "https://localhost:8080/",
          "height": 676
        },
        "id": "MjFGEc-M7PKH",
        "outputId": "b974ddfb-9698-4a71-b61f-41fcb4a9d4a0"
      },
      "outputs": [
        {
          "output_type": "execute_result",
          "data": {
            "text/plain": [
              "          id        f0        f1         f2     product\n",
              "66136  74z30  1.084962 -0.312358   6.990771  127.643327\n",
              "64022  74z30  0.741456  0.459229   5.153109  140.771492\n",
              "51970  A5aEY -0.180335  0.935548  -2.094773   33.020205\n",
              "3389   A5aEY -0.039949  0.156872   0.209861   89.249364\n",
              "69163  AGS9W -0.933795  0.116194  -3.655896   19.230453\n",
              "42529  AGS9W  1.454747 -0.479651   0.683380  126.370504\n",
              "931    HZww2  0.755284  0.368511   1.863211   30.681774\n",
              "7530   HZww2  1.061194 -0.373969  10.430210  158.828695\n",
              "63593  QcMuo  0.635635 -0.473422   0.862670   64.578675\n",
              "1949   QcMuo  0.506563 -0.323775  -2.215583   75.496502\n",
              "75715  Tdehs  0.112079  0.430296   3.218993   60.964018\n",
              "21426  Tdehs  0.829407  0.298807  -0.049563   96.035308\n",
              "92341  TtcGQ  0.110711  1.022689   0.911381  101.318008\n",
              "60140  TtcGQ  0.569276 -0.104876   6.440215   85.350186\n",
              "89582  bsk9y  0.398908 -0.400253  10.122376  163.433078\n",
              "97785  bsk9y  0.378429  0.005837   0.160827  160.637302\n",
              "41724  bxg6G -0.823752  0.546319   3.630479   93.007798\n",
              "1364   bxg6G  0.411645  0.856830  -3.653440   73.604260\n",
              "16633  fiKDv  0.157341  1.028359   5.585586   95.817889\n",
              "90815  fiKDv  0.049883  0.841313   6.394613  137.346586"
            ],
            "text/html": [
              "\n",
              "  <div id=\"df-b37b0fc3-755d-47e1-9f4a-c34bd48daf36\" class=\"colab-df-container\">\n",
              "    <div>\n",
              "<style scoped>\n",
              "    .dataframe tbody tr th:only-of-type {\n",
              "        vertical-align: middle;\n",
              "    }\n",
              "\n",
              "    .dataframe tbody tr th {\n",
              "        vertical-align: top;\n",
              "    }\n",
              "\n",
              "    .dataframe thead th {\n",
              "        text-align: right;\n",
              "    }\n",
              "</style>\n",
              "<table border=\"1\" class=\"dataframe\">\n",
              "  <thead>\n",
              "    <tr style=\"text-align: right;\">\n",
              "      <th></th>\n",
              "      <th>id</th>\n",
              "      <th>f0</th>\n",
              "      <th>f1</th>\n",
              "      <th>f2</th>\n",
              "      <th>product</th>\n",
              "    </tr>\n",
              "  </thead>\n",
              "  <tbody>\n",
              "    <tr>\n",
              "      <th>66136</th>\n",
              "      <td>74z30</td>\n",
              "      <td>1.084962</td>\n",
              "      <td>-0.312358</td>\n",
              "      <td>6.990771</td>\n",
              "      <td>127.643327</td>\n",
              "    </tr>\n",
              "    <tr>\n",
              "      <th>64022</th>\n",
              "      <td>74z30</td>\n",
              "      <td>0.741456</td>\n",
              "      <td>0.459229</td>\n",
              "      <td>5.153109</td>\n",
              "      <td>140.771492</td>\n",
              "    </tr>\n",
              "    <tr>\n",
              "      <th>51970</th>\n",
              "      <td>A5aEY</td>\n",
              "      <td>-0.180335</td>\n",
              "      <td>0.935548</td>\n",
              "      <td>-2.094773</td>\n",
              "      <td>33.020205</td>\n",
              "    </tr>\n",
              "    <tr>\n",
              "      <th>3389</th>\n",
              "      <td>A5aEY</td>\n",
              "      <td>-0.039949</td>\n",
              "      <td>0.156872</td>\n",
              "      <td>0.209861</td>\n",
              "      <td>89.249364</td>\n",
              "    </tr>\n",
              "    <tr>\n",
              "      <th>69163</th>\n",
              "      <td>AGS9W</td>\n",
              "      <td>-0.933795</td>\n",
              "      <td>0.116194</td>\n",
              "      <td>-3.655896</td>\n",
              "      <td>19.230453</td>\n",
              "    </tr>\n",
              "    <tr>\n",
              "      <th>42529</th>\n",
              "      <td>AGS9W</td>\n",
              "      <td>1.454747</td>\n",
              "      <td>-0.479651</td>\n",
              "      <td>0.683380</td>\n",
              "      <td>126.370504</td>\n",
              "    </tr>\n",
              "    <tr>\n",
              "      <th>931</th>\n",
              "      <td>HZww2</td>\n",
              "      <td>0.755284</td>\n",
              "      <td>0.368511</td>\n",
              "      <td>1.863211</td>\n",
              "      <td>30.681774</td>\n",
              "    </tr>\n",
              "    <tr>\n",
              "      <th>7530</th>\n",
              "      <td>HZww2</td>\n",
              "      <td>1.061194</td>\n",
              "      <td>-0.373969</td>\n",
              "      <td>10.430210</td>\n",
              "      <td>158.828695</td>\n",
              "    </tr>\n",
              "    <tr>\n",
              "      <th>63593</th>\n",
              "      <td>QcMuo</td>\n",
              "      <td>0.635635</td>\n",
              "      <td>-0.473422</td>\n",
              "      <td>0.862670</td>\n",
              "      <td>64.578675</td>\n",
              "    </tr>\n",
              "    <tr>\n",
              "      <th>1949</th>\n",
              "      <td>QcMuo</td>\n",
              "      <td>0.506563</td>\n",
              "      <td>-0.323775</td>\n",
              "      <td>-2.215583</td>\n",
              "      <td>75.496502</td>\n",
              "    </tr>\n",
              "    <tr>\n",
              "      <th>75715</th>\n",
              "      <td>Tdehs</td>\n",
              "      <td>0.112079</td>\n",
              "      <td>0.430296</td>\n",
              "      <td>3.218993</td>\n",
              "      <td>60.964018</td>\n",
              "    </tr>\n",
              "    <tr>\n",
              "      <th>21426</th>\n",
              "      <td>Tdehs</td>\n",
              "      <td>0.829407</td>\n",
              "      <td>0.298807</td>\n",
              "      <td>-0.049563</td>\n",
              "      <td>96.035308</td>\n",
              "    </tr>\n",
              "    <tr>\n",
              "      <th>92341</th>\n",
              "      <td>TtcGQ</td>\n",
              "      <td>0.110711</td>\n",
              "      <td>1.022689</td>\n",
              "      <td>0.911381</td>\n",
              "      <td>101.318008</td>\n",
              "    </tr>\n",
              "    <tr>\n",
              "      <th>60140</th>\n",
              "      <td>TtcGQ</td>\n",
              "      <td>0.569276</td>\n",
              "      <td>-0.104876</td>\n",
              "      <td>6.440215</td>\n",
              "      <td>85.350186</td>\n",
              "    </tr>\n",
              "    <tr>\n",
              "      <th>89582</th>\n",
              "      <td>bsk9y</td>\n",
              "      <td>0.398908</td>\n",
              "      <td>-0.400253</td>\n",
              "      <td>10.122376</td>\n",
              "      <td>163.433078</td>\n",
              "    </tr>\n",
              "    <tr>\n",
              "      <th>97785</th>\n",
              "      <td>bsk9y</td>\n",
              "      <td>0.378429</td>\n",
              "      <td>0.005837</td>\n",
              "      <td>0.160827</td>\n",
              "      <td>160.637302</td>\n",
              "    </tr>\n",
              "    <tr>\n",
              "      <th>41724</th>\n",
              "      <td>bxg6G</td>\n",
              "      <td>-0.823752</td>\n",
              "      <td>0.546319</td>\n",
              "      <td>3.630479</td>\n",
              "      <td>93.007798</td>\n",
              "    </tr>\n",
              "    <tr>\n",
              "      <th>1364</th>\n",
              "      <td>bxg6G</td>\n",
              "      <td>0.411645</td>\n",
              "      <td>0.856830</td>\n",
              "      <td>-3.653440</td>\n",
              "      <td>73.604260</td>\n",
              "    </tr>\n",
              "    <tr>\n",
              "      <th>16633</th>\n",
              "      <td>fiKDv</td>\n",
              "      <td>0.157341</td>\n",
              "      <td>1.028359</td>\n",
              "      <td>5.585586</td>\n",
              "      <td>95.817889</td>\n",
              "    </tr>\n",
              "    <tr>\n",
              "      <th>90815</th>\n",
              "      <td>fiKDv</td>\n",
              "      <td>0.049883</td>\n",
              "      <td>0.841313</td>\n",
              "      <td>6.394613</td>\n",
              "      <td>137.346586</td>\n",
              "    </tr>\n",
              "  </tbody>\n",
              "</table>\n",
              "</div>\n",
              "    <div class=\"colab-df-buttons\">\n",
              "\n",
              "  <div class=\"colab-df-container\">\n",
              "    <button class=\"colab-df-convert\" onclick=\"convertToInteractive('df-b37b0fc3-755d-47e1-9f4a-c34bd48daf36')\"\n",
              "            title=\"Convert this dataframe to an interactive table.\"\n",
              "            style=\"display:none;\">\n",
              "\n",
              "  <svg xmlns=\"http://www.w3.org/2000/svg\" height=\"24px\" viewBox=\"0 -960 960 960\">\n",
              "    <path d=\"M120-120v-720h720v720H120Zm60-500h600v-160H180v160Zm220 220h160v-160H400v160Zm0 220h160v-160H400v160ZM180-400h160v-160H180v160Zm440 0h160v-160H620v160ZM180-180h160v-160H180v160Zm440 0h160v-160H620v160Z\"/>\n",
              "  </svg>\n",
              "    </button>\n",
              "\n",
              "  <style>\n",
              "    .colab-df-container {\n",
              "      display:flex;\n",
              "      gap: 12px;\n",
              "    }\n",
              "\n",
              "    .colab-df-convert {\n",
              "      background-color: #E8F0FE;\n",
              "      border: none;\n",
              "      border-radius: 50%;\n",
              "      cursor: pointer;\n",
              "      display: none;\n",
              "      fill: #1967D2;\n",
              "      height: 32px;\n",
              "      padding: 0 0 0 0;\n",
              "      width: 32px;\n",
              "    }\n",
              "\n",
              "    .colab-df-convert:hover {\n",
              "      background-color: #E2EBFA;\n",
              "      box-shadow: 0px 1px 2px rgba(60, 64, 67, 0.3), 0px 1px 3px 1px rgba(60, 64, 67, 0.15);\n",
              "      fill: #174EA6;\n",
              "    }\n",
              "\n",
              "    .colab-df-buttons div {\n",
              "      margin-bottom: 4px;\n",
              "    }\n",
              "\n",
              "    [theme=dark] .colab-df-convert {\n",
              "      background-color: #3B4455;\n",
              "      fill: #D2E3FC;\n",
              "    }\n",
              "\n",
              "    [theme=dark] .colab-df-convert:hover {\n",
              "      background-color: #434B5C;\n",
              "      box-shadow: 0px 1px 3px 1px rgba(0, 0, 0, 0.15);\n",
              "      filter: drop-shadow(0px 1px 2px rgba(0, 0, 0, 0.3));\n",
              "      fill: #FFFFFF;\n",
              "    }\n",
              "  </style>\n",
              "\n",
              "    <script>\n",
              "      const buttonEl =\n",
              "        document.querySelector('#df-b37b0fc3-755d-47e1-9f4a-c34bd48daf36 button.colab-df-convert');\n",
              "      buttonEl.style.display =\n",
              "        google.colab.kernel.accessAllowed ? 'block' : 'none';\n",
              "\n",
              "      async function convertToInteractive(key) {\n",
              "        const element = document.querySelector('#df-b37b0fc3-755d-47e1-9f4a-c34bd48daf36');\n",
              "        const dataTable =\n",
              "          await google.colab.kernel.invokeFunction('convertToInteractive',\n",
              "                                                    [key], {});\n",
              "        if (!dataTable) return;\n",
              "\n",
              "        const docLinkHtml = 'Like what you see? Visit the ' +\n",
              "          '<a target=\"_blank\" href=https://colab.research.google.com/notebooks/data_table.ipynb>data table notebook</a>'\n",
              "          + ' to learn more about interactive tables.';\n",
              "        element.innerHTML = '';\n",
              "        dataTable['output_type'] = 'display_data';\n",
              "        await google.colab.output.renderOutput(dataTable, element);\n",
              "        const docLink = document.createElement('div');\n",
              "        docLink.innerHTML = docLinkHtml;\n",
              "        element.appendChild(docLink);\n",
              "      }\n",
              "    </script>\n",
              "  </div>\n",
              "\n",
              "\n",
              "<div id=\"df-6edc7140-d793-4abe-9d83-7a1ae0b6251e\">\n",
              "  <button class=\"colab-df-quickchart\" onclick=\"quickchart('df-6edc7140-d793-4abe-9d83-7a1ae0b6251e')\"\n",
              "            title=\"Suggest charts\"\n",
              "            style=\"display:none;\">\n",
              "\n",
              "<svg xmlns=\"http://www.w3.org/2000/svg\" height=\"24px\"viewBox=\"0 0 24 24\"\n",
              "     width=\"24px\">\n",
              "    <g>\n",
              "        <path d=\"M19 3H5c-1.1 0-2 .9-2 2v14c0 1.1.9 2 2 2h14c1.1 0 2-.9 2-2V5c0-1.1-.9-2-2-2zM9 17H7v-7h2v7zm4 0h-2V7h2v10zm4 0h-2v-4h2v4z\"/>\n",
              "    </g>\n",
              "</svg>\n",
              "  </button>\n",
              "\n",
              "<style>\n",
              "  .colab-df-quickchart {\n",
              "      --bg-color: #E8F0FE;\n",
              "      --fill-color: #1967D2;\n",
              "      --hover-bg-color: #E2EBFA;\n",
              "      --hover-fill-color: #174EA6;\n",
              "      --disabled-fill-color: #AAA;\n",
              "      --disabled-bg-color: #DDD;\n",
              "  }\n",
              "\n",
              "  [theme=dark] .colab-df-quickchart {\n",
              "      --bg-color: #3B4455;\n",
              "      --fill-color: #D2E3FC;\n",
              "      --hover-bg-color: #434B5C;\n",
              "      --hover-fill-color: #FFFFFF;\n",
              "      --disabled-bg-color: #3B4455;\n",
              "      --disabled-fill-color: #666;\n",
              "  }\n",
              "\n",
              "  .colab-df-quickchart {\n",
              "    background-color: var(--bg-color);\n",
              "    border: none;\n",
              "    border-radius: 50%;\n",
              "    cursor: pointer;\n",
              "    display: none;\n",
              "    fill: var(--fill-color);\n",
              "    height: 32px;\n",
              "    padding: 0;\n",
              "    width: 32px;\n",
              "  }\n",
              "\n",
              "  .colab-df-quickchart:hover {\n",
              "    background-color: var(--hover-bg-color);\n",
              "    box-shadow: 0 1px 2px rgba(60, 64, 67, 0.3), 0 1px 3px 1px rgba(60, 64, 67, 0.15);\n",
              "    fill: var(--button-hover-fill-color);\n",
              "  }\n",
              "\n",
              "  .colab-df-quickchart-complete:disabled,\n",
              "  .colab-df-quickchart-complete:disabled:hover {\n",
              "    background-color: var(--disabled-bg-color);\n",
              "    fill: var(--disabled-fill-color);\n",
              "    box-shadow: none;\n",
              "  }\n",
              "\n",
              "  .colab-df-spinner {\n",
              "    border: 2px solid var(--fill-color);\n",
              "    border-color: transparent;\n",
              "    border-bottom-color: var(--fill-color);\n",
              "    animation:\n",
              "      spin 1s steps(1) infinite;\n",
              "  }\n",
              "\n",
              "  @keyframes spin {\n",
              "    0% {\n",
              "      border-color: transparent;\n",
              "      border-bottom-color: var(--fill-color);\n",
              "      border-left-color: var(--fill-color);\n",
              "    }\n",
              "    20% {\n",
              "      border-color: transparent;\n",
              "      border-left-color: var(--fill-color);\n",
              "      border-top-color: var(--fill-color);\n",
              "    }\n",
              "    30% {\n",
              "      border-color: transparent;\n",
              "      border-left-color: var(--fill-color);\n",
              "      border-top-color: var(--fill-color);\n",
              "      border-right-color: var(--fill-color);\n",
              "    }\n",
              "    40% {\n",
              "      border-color: transparent;\n",
              "      border-right-color: var(--fill-color);\n",
              "      border-top-color: var(--fill-color);\n",
              "    }\n",
              "    60% {\n",
              "      border-color: transparent;\n",
              "      border-right-color: var(--fill-color);\n",
              "    }\n",
              "    80% {\n",
              "      border-color: transparent;\n",
              "      border-right-color: var(--fill-color);\n",
              "      border-bottom-color: var(--fill-color);\n",
              "    }\n",
              "    90% {\n",
              "      border-color: transparent;\n",
              "      border-bottom-color: var(--fill-color);\n",
              "    }\n",
              "  }\n",
              "</style>\n",
              "\n",
              "  <script>\n",
              "    async function quickchart(key) {\n",
              "      const quickchartButtonEl =\n",
              "        document.querySelector('#' + key + ' button');\n",
              "      quickchartButtonEl.disabled = true;  // To prevent multiple clicks.\n",
              "      quickchartButtonEl.classList.add('colab-df-spinner');\n",
              "      try {\n",
              "        const charts = await google.colab.kernel.invokeFunction(\n",
              "            'suggestCharts', [key], {});\n",
              "      } catch (error) {\n",
              "        console.error('Error during call to suggestCharts:', error);\n",
              "      }\n",
              "      quickchartButtonEl.classList.remove('colab-df-spinner');\n",
              "      quickchartButtonEl.classList.add('colab-df-quickchart-complete');\n",
              "    }\n",
              "    (() => {\n",
              "      let quickchartButtonEl =\n",
              "        document.querySelector('#df-6edc7140-d793-4abe-9d83-7a1ae0b6251e button');\n",
              "      quickchartButtonEl.style.display =\n",
              "        google.colab.kernel.accessAllowed ? 'block' : 'none';\n",
              "    })();\n",
              "  </script>\n",
              "</div>\n",
              "    </div>\n",
              "  </div>\n"
            ],
            "application/vnd.google.colaboratory.intrinsic+json": {
              "type": "dataframe",
              "summary": "{\n  \"name\": \"df_0[df_0['id']\",\n  \"rows\": 20,\n  \"fields\": [\n    {\n      \"column\": \"id\",\n      \"properties\": {\n        \"dtype\": \"string\",\n        \"num_unique_values\": 10,\n        \"samples\": [\n          \"bxg6G\",\n          \"A5aEY\",\n          \"Tdehs\"\n        ],\n        \"semantic_type\": \"\",\n        \"description\": \"\"\n      }\n    },\n    {\n      \"column\": \"f0\",\n      \"properties\": {\n        \"dtype\": \"number\",\n        \"std\": 0.592551090997382,\n        \"min\": -0.9337950254255925,\n        \"max\": 1.4547473615130813,\n        \"num_unique_values\": 20,\n        \"samples\": [\n          1.0849621430609833,\n          0.4116449402873586,\n          0.378428779393484\n        ],\n        \"semantic_type\": \"\",\n        \"description\": \"\"\n      }\n    },\n    {\n      \"column\": \"f1\",\n      \"properties\": {\n        \"dtype\": \"number\",\n        \"std\": 0.527591637953688,\n        \"min\": -0.4796514244044363,\n        \"max\": 1.0283587757772097,\n        \"num_unique_values\": 20,\n        \"samples\": [\n          -0.3123577141663048,\n          0.8568302740326846,\n          0.0058365400286942\n        ],\n        \"semantic_type\": \"\",\n        \"description\": \"\"\n      }\n    },\n    {\n      \"column\": \"f2\",\n      \"properties\": {\n        \"dtype\": \"number\",\n        \"std\": 4.201444263599245,\n        \"min\": -3.6558962908396535,\n        \"max\": 10.430210258820283,\n        \"num_unique_values\": 20,\n        \"samples\": [\n          6.990771006574128,\n          -3.653440019025573,\n          0.1608272207855412\n        ],\n        \"semantic_type\": \"\",\n        \"description\": \"\"\n      }\n    },\n    {\n      \"column\": \"product\",\n      \"properties\": {\n        \"dtype\": \"number\",\n        \"std\": 43.383789669932085,\n        \"min\": 19.2304533179062,\n        \"max\": 163.43307824343646,\n        \"num_unique_values\": 20,\n        \"samples\": [\n          127.64332680328752,\n          73.6042595114848,\n          160.6373017834086\n        ],\n        \"semantic_type\": \"\",\n        \"description\": \"\"\n      }\n    }\n  ]\n}"
            }
          },
          "metadata": {},
          "execution_count": 6
        }
      ],
      "source": [
        "_df_0 = df_0.groupby('id')['id'].count()\n",
        "df_0[df_0['id'].isin(_df_0[_df_0.values>1].index)].sort_values(by='id')"
      ]
    },
    {
      "cell_type": "markdown",
      "metadata": {
        "id": "Yv4Qhicq7PKH"
      },
      "source": [
        "* данные разные значит все их удалим"
      ]
    },
    {
      "cell_type": "code",
      "execution_count": 7,
      "metadata": {
        "id": "uBDTJQg77PKH"
      },
      "outputs": [],
      "source": [
        "df_0.drop_duplicates(subset='id',inplace=True)"
      ]
    },
    {
      "cell_type": "code",
      "execution_count": 8,
      "metadata": {
        "colab": {
          "base_uri": "https://localhost:8080/",
          "height": 53
        },
        "id": "p1-HgMml7PKH",
        "outputId": "b709700a-2561-41b5-881e-f470b79d8362"
      },
      "outputs": [
        {
          "output_type": "execute_result",
          "data": {
            "text/plain": [
              "Empty DataFrame\n",
              "Columns: [id, f0, f1, f2, product]\n",
              "Index: []"
            ],
            "text/html": [
              "\n",
              "  <div id=\"df-61f9bc1d-663c-4b20-aba2-73704050f00f\" class=\"colab-df-container\">\n",
              "    <div>\n",
              "<style scoped>\n",
              "    .dataframe tbody tr th:only-of-type {\n",
              "        vertical-align: middle;\n",
              "    }\n",
              "\n",
              "    .dataframe tbody tr th {\n",
              "        vertical-align: top;\n",
              "    }\n",
              "\n",
              "    .dataframe thead th {\n",
              "        text-align: right;\n",
              "    }\n",
              "</style>\n",
              "<table border=\"1\" class=\"dataframe\">\n",
              "  <thead>\n",
              "    <tr style=\"text-align: right;\">\n",
              "      <th></th>\n",
              "      <th>id</th>\n",
              "      <th>f0</th>\n",
              "      <th>f1</th>\n",
              "      <th>f2</th>\n",
              "      <th>product</th>\n",
              "    </tr>\n",
              "  </thead>\n",
              "  <tbody>\n",
              "  </tbody>\n",
              "</table>\n",
              "</div>\n",
              "    <div class=\"colab-df-buttons\">\n",
              "\n",
              "  <div class=\"colab-df-container\">\n",
              "    <button class=\"colab-df-convert\" onclick=\"convertToInteractive('df-61f9bc1d-663c-4b20-aba2-73704050f00f')\"\n",
              "            title=\"Convert this dataframe to an interactive table.\"\n",
              "            style=\"display:none;\">\n",
              "\n",
              "  <svg xmlns=\"http://www.w3.org/2000/svg\" height=\"24px\" viewBox=\"0 -960 960 960\">\n",
              "    <path d=\"M120-120v-720h720v720H120Zm60-500h600v-160H180v160Zm220 220h160v-160H400v160Zm0 220h160v-160H400v160ZM180-400h160v-160H180v160Zm440 0h160v-160H620v160ZM180-180h160v-160H180v160Zm440 0h160v-160H620v160Z\"/>\n",
              "  </svg>\n",
              "    </button>\n",
              "\n",
              "  <style>\n",
              "    .colab-df-container {\n",
              "      display:flex;\n",
              "      gap: 12px;\n",
              "    }\n",
              "\n",
              "    .colab-df-convert {\n",
              "      background-color: #E8F0FE;\n",
              "      border: none;\n",
              "      border-radius: 50%;\n",
              "      cursor: pointer;\n",
              "      display: none;\n",
              "      fill: #1967D2;\n",
              "      height: 32px;\n",
              "      padding: 0 0 0 0;\n",
              "      width: 32px;\n",
              "    }\n",
              "\n",
              "    .colab-df-convert:hover {\n",
              "      background-color: #E2EBFA;\n",
              "      box-shadow: 0px 1px 2px rgba(60, 64, 67, 0.3), 0px 1px 3px 1px rgba(60, 64, 67, 0.15);\n",
              "      fill: #174EA6;\n",
              "    }\n",
              "\n",
              "    .colab-df-buttons div {\n",
              "      margin-bottom: 4px;\n",
              "    }\n",
              "\n",
              "    [theme=dark] .colab-df-convert {\n",
              "      background-color: #3B4455;\n",
              "      fill: #D2E3FC;\n",
              "    }\n",
              "\n",
              "    [theme=dark] .colab-df-convert:hover {\n",
              "      background-color: #434B5C;\n",
              "      box-shadow: 0px 1px 3px 1px rgba(0, 0, 0, 0.15);\n",
              "      filter: drop-shadow(0px 1px 2px rgba(0, 0, 0, 0.3));\n",
              "      fill: #FFFFFF;\n",
              "    }\n",
              "  </style>\n",
              "\n",
              "    <script>\n",
              "      const buttonEl =\n",
              "        document.querySelector('#df-61f9bc1d-663c-4b20-aba2-73704050f00f button.colab-df-convert');\n",
              "      buttonEl.style.display =\n",
              "        google.colab.kernel.accessAllowed ? 'block' : 'none';\n",
              "\n",
              "      async function convertToInteractive(key) {\n",
              "        const element = document.querySelector('#df-61f9bc1d-663c-4b20-aba2-73704050f00f');\n",
              "        const dataTable =\n",
              "          await google.colab.kernel.invokeFunction('convertToInteractive',\n",
              "                                                    [key], {});\n",
              "        if (!dataTable) return;\n",
              "\n",
              "        const docLinkHtml = 'Like what you see? Visit the ' +\n",
              "          '<a target=\"_blank\" href=https://colab.research.google.com/notebooks/data_table.ipynb>data table notebook</a>'\n",
              "          + ' to learn more about interactive tables.';\n",
              "        element.innerHTML = '';\n",
              "        dataTable['output_type'] = 'display_data';\n",
              "        await google.colab.output.renderOutput(dataTable, element);\n",
              "        const docLink = document.createElement('div');\n",
              "        docLink.innerHTML = docLinkHtml;\n",
              "        element.appendChild(docLink);\n",
              "      }\n",
              "    </script>\n",
              "  </div>\n",
              "\n",
              "    </div>\n",
              "  </div>\n"
            ],
            "application/vnd.google.colaboratory.intrinsic+json": {
              "type": "dataframe",
              "repr_error": "Out of range float values are not JSON compliant: nan"
            }
          },
          "metadata": {},
          "execution_count": 8
        }
      ],
      "source": [
        "_df_0 = df_0.groupby('id')['id'].count()\n",
        "df_0[df_0['id'].isin(_df_0[_df_0.values>1].index)].sort_values(by='id')"
      ]
    },
    {
      "cell_type": "markdown",
      "metadata": {
        "id": "reUWQOtW7PKH"
      },
      "source": [
        "* удалили\n",
        "* пронумеровали заново"
      ]
    },
    {
      "cell_type": "code",
      "execution_count": 9,
      "metadata": {
        "colab": {
          "base_uri": "https://localhost:8080/",
          "height": 1000
        },
        "id": "MiMnnQcK7PKH",
        "outputId": "00837cbf-3589-470f-80fc-8403e40aac01"
      },
      "outputs": [
        {
          "output_type": "display_data",
          "data": {
            "text/plain": [
              "<Figure size 640x480 with 4 Axes>"
            ],
            "image/png": "[encoded data removed]"
          },
          "metadata": {}
        },
        {
          "output_type": "display_data",
          "data": {
            "text/plain": [
              "<Figure size 640x480 with 4 Axes>"
            ],
            "image/png": "[encoded data removed]"
          },
          "metadata": {}
        },
        {
          "output_type": "display_data",
          "data": {
            "text/plain": [
              "                 f0            f1            f2       product\n",
              "count  99990.000000  99990.000000  99990.000000  99990.000000\n",
              "mean       0.500454      0.250141      2.502629     92.499684\n",
              "std        0.871844      0.504430      3.248149     44.288304\n",
              "min       -1.408605     -0.848218    -12.088328      0.000000\n",
              "25%       -0.072572     -0.200877      0.287784     56.497069\n",
              "50%        0.502405      0.250252      2.515969     91.847928\n",
              "75%        1.073626      0.700640      4.715035    128.563699\n",
              "max        2.362331      1.343769     16.003790    185.364347"
            ],
            "text/html": [
              "\n",
              "  <div id=\"df-e049529f-91cc-4f04-be84-29360ba7bf55\" class=\"colab-df-container\">\n",
              "    <div>\n",
              "<style scoped>\n",
              "    .dataframe tbody tr th:only-of-type {\n",
              "        vertical-align: middle;\n",
              "    }\n",
              "\n",
              "    .dataframe tbody tr th {\n",
              "        vertical-align: top;\n",
              "    }\n",
              "\n",
              "    .dataframe thead th {\n",
              "        text-align: right;\n",
              "    }\n",
              "</style>\n",
              "<table border=\"1\" class=\"dataframe\">\n",
              "  <thead>\n",
              "    <tr style=\"text-align: right;\">\n",
              "      <th></th>\n",
              "      <th>f0</th>\n",
              "      <th>f1</th>\n",
              "      <th>f2</th>\n",
              "      <th>product</th>\n",
              "    </tr>\n",
              "  </thead>\n",
              "  <tbody>\n",
              "    <tr>\n",
              "      <th>count</th>\n",
              "      <td>99990.000000</td>\n",
              "      <td>99990.000000</td>\n",
              "      <td>99990.000000</td>\n",
              "      <td>99990.000000</td>\n",
              "    </tr>\n",
              "    <tr>\n",
              "      <th>mean</th>\n",
              "      <td>0.500454</td>\n",
              "      <td>0.250141</td>\n",
              "      <td>2.502629</td>\n",
              "      <td>92.499684</td>\n",
              "    </tr>\n",
              "    <tr>\n",
              "      <th>std</th>\n",
              "      <td>0.871844</td>\n",
              "      <td>0.504430</td>\n",
              "      <td>3.248149</td>\n",
              "      <td>44.288304</td>\n",
              "    </tr>\n",
              "    <tr>\n",
              "      <th>min</th>\n",
              "      <td>-1.408605</td>\n",
              "      <td>-0.848218</td>\n",
              "      <td>-12.088328</td>\n",
              "      <td>0.000000</td>\n",
              "    </tr>\n",
              "    <tr>\n",
              "      <th>25%</th>\n",
              "      <td>-0.072572</td>\n",
              "      <td>-0.200877</td>\n",
              "      <td>0.287784</td>\n",
              "      <td>56.497069</td>\n",
              "    </tr>\n",
              "    <tr>\n",
              "      <th>50%</th>\n",
              "      <td>0.502405</td>\n",
              "      <td>0.250252</td>\n",
              "      <td>2.515969</td>\n",
              "      <td>91.847928</td>\n",
              "    </tr>\n",
              "    <tr>\n",
              "      <th>75%</th>\n",
              "      <td>1.073626</td>\n",
              "      <td>0.700640</td>\n",
              "      <td>4.715035</td>\n",
              "      <td>128.563699</td>\n",
              "    </tr>\n",
              "    <tr>\n",
              "      <th>max</th>\n",
              "      <td>2.362331</td>\n",
              "      <td>1.343769</td>\n",
              "      <td>16.003790</td>\n",
              "      <td>185.364347</td>\n",
              "    </tr>\n",
              "  </tbody>\n",
              "</table>\n",
              "</div>\n",
              "    <div class=\"colab-df-buttons\">\n",
              "\n",
              "  <div class=\"colab-df-container\">\n",
              "    <button class=\"colab-df-convert\" onclick=\"convertToInteractive('df-e049529f-91cc-4f04-be84-29360ba7bf55')\"\n",
              "            title=\"Convert this dataframe to an interactive table.\"\n",
              "            style=\"display:none;\">\n",
              "\n",
              "  <svg xmlns=\"http://www.w3.org/2000/svg\" height=\"24px\" viewBox=\"0 -960 960 960\">\n",
              "    <path d=\"M120-120v-720h720v720H120Zm60-500h600v-160H180v160Zm220 220h160v-160H400v160Zm0 220h160v-160H400v160ZM180-400h160v-160H180v160Zm440 0h160v-160H620v160ZM180-180h160v-160H180v160Zm440 0h160v-160H620v160Z\"/>\n",
              "  </svg>\n",
              "    </button>\n",
              "\n",
              "  <style>\n",
              "    .colab-df-container {\n",
              "      display:flex;\n",
              "      gap: 12px;\n",
              "    }\n",
              "\n",
              "    .colab-df-convert {\n",
              "      background-color: #E8F0FE;\n",
              "      border: none;\n",
              "      border-radius: 50%;\n",
              "      cursor: pointer;\n",
              "      display: none;\n",
              "      fill: #1967D2;\n",
              "      height: 32px;\n",
              "      padding: 0 0 0 0;\n",
              "      width: 32px;\n",
              "    }\n",
              "\n",
              "    .colab-df-convert:hover {\n",
              "      background-color: #E2EBFA;\n",
              "      box-shadow: 0px 1px 2px rgba(60, 64, 67, 0.3), 0px 1px 3px 1px rgba(60, 64, 67, 0.15);\n",
              "      fill: #174EA6;\n",
              "    }\n",
              "\n",
              "    .colab-df-buttons div {\n",
              "      margin-bottom: 4px;\n",
              "    }\n",
              "\n",
              "    [theme=dark] .colab-df-convert {\n",
              "      background-color: #3B4455;\n",
              "      fill: #D2E3FC;\n",
              "    }\n",
              "\n",
              "    [theme=dark] .colab-df-convert:hover {\n",
              "      background-color: #434B5C;\n",
              "      box-shadow: 0px 1px 3px 1px rgba(0, 0, 0, 0.15);\n",
              "      filter: drop-shadow(0px 1px 2px rgba(0, 0, 0, 0.3));\n",
              "      fill: #FFFFFF;\n",
              "    }\n",
              "  </style>\n",
              "\n",
              "    <script>\n",
              "      const buttonEl =\n",
              "        document.querySelector('#df-e049529f-91cc-4f04-be84-29360ba7bf55 button.colab-df-convert');\n",
              "      buttonEl.style.display =\n",
              "        google.colab.kernel.accessAllowed ? 'block' : 'none';\n",
              "\n",
              "      async function convertToInteractive(key) {\n",
              "        const element = document.querySelector('#df-e049529f-91cc-4f04-be84-29360ba7bf55');\n",
              "        const dataTable =\n",
              "          await google.colab.kernel.invokeFunction('convertToInteractive',\n",
              "                                                    [key], {});\n",
              "        if (!dataTable) return;\n",
              "\n",
              "        const docLinkHtml = 'Like what you see? Visit the ' +\n",
              "          '<a target=\"_blank\" href=https://colab.research.google.com/notebooks/data_table.ipynb>data table notebook</a>'\n",
              "          + ' to learn more about interactive tables.';\n",
              "        element.innerHTML = '';\n",
              "        dataTable['output_type'] = 'display_data';\n",
              "        await google.colab.output.renderOutput(dataTable, element);\n",
              "        const docLink = document.createElement('div');\n",
              "        docLink.innerHTML = docLinkHtml;\n",
              "        element.appendChild(docLink);\n",
              "      }\n",
              "    </script>\n",
              "  </div>\n",
              "\n",
              "\n",
              "<div id=\"df-1e7b4e9b-5ee5-4c78-9a31-578b88ae0c11\">\n",
              "  <button class=\"colab-df-quickchart\" onclick=\"quickchart('df-1e7b4e9b-5ee5-4c78-9a31-578b88ae0c11')\"\n",
              "            title=\"Suggest charts\"\n",
              "            style=\"display:none;\">\n",
              "\n",
              "<svg xmlns=\"http://www.w3.org/2000/svg\" height=\"24px\"viewBox=\"0 0 24 24\"\n",
              "     width=\"24px\">\n",
              "    <g>\n",
              "        <path d=\"M19 3H5c-1.1 0-2 .9-2 2v14c0 1.1.9 2 2 2h14c1.1 0 2-.9 2-2V5c0-1.1-.9-2-2-2zM9 17H7v-7h2v7zm4 0h-2V7h2v10zm4 0h-2v-4h2v4z\"/>\n",
              "    </g>\n",
              "</svg>\n",
              "  </button>\n",
              "\n",
              "<style>\n",
              "  .colab-df-quickchart {\n",
              "      --bg-color: #E8F0FE;\n",
              "      --fill-color: #1967D2;\n",
              "      --hover-bg-color: #E2EBFA;\n",
              "      --hover-fill-color: #174EA6;\n",
              "      --disabled-fill-color: #AAA;\n",
              "      --disabled-bg-color: #DDD;\n",
              "  }\n",
              "\n",
              "  [theme=dark] .colab-df-quickchart {\n",
              "      --bg-color: #3B4455;\n",
              "      --fill-color: #D2E3FC;\n",
              "      --hover-bg-color: #434B5C;\n",
              "      --hover-fill-color: #FFFFFF;\n",
              "      --disabled-bg-color: #3B4455;\n",
              "      --disabled-fill-color: #666;\n",
              "  }\n",
              "\n",
              "  .colab-df-quickchart {\n",
              "    background-color: var(--bg-color);\n",
              "    border: none;\n",
              "    border-radius: 50%;\n",
              "    cursor: pointer;\n",
              "    display: none;\n",
              "    fill: var(--fill-color);\n",
              "    height: 32px;\n",
              "    padding: 0;\n",
              "    width: 32px;\n",
              "  }\n",
              "\n",
              "  .colab-df-quickchart:hover {\n",
              "    background-color: var(--hover-bg-color);\n",
              "    box-shadow: 0 1px 2px rgba(60, 64, 67, 0.3), 0 1px 3px 1px rgba(60, 64, 67, 0.15);\n",
              "    fill: var(--button-hover-fill-color);\n",
              "  }\n",
              "\n",
              "  .colab-df-quickchart-complete:disabled,\n",
              "  .colab-df-quickchart-complete:disabled:hover {\n",
              "    background-color: var(--disabled-bg-color);\n",
              "    fill: var(--disabled-fill-color);\n",
              "    box-shadow: none;\n",
              "  }\n",
              "\n",
              "  .colab-df-spinner {\n",
              "    border: 2px solid var(--fill-color);\n",
              "    border-color: transparent;\n",
              "    border-bottom-color: var(--fill-color);\n",
              "    animation:\n",
              "      spin 1s steps(1) infinite;\n",
              "  }\n",
              "\n",
              "  @keyframes spin {\n",
              "    0% {\n",
              "      border-color: transparent;\n",
              "      border-bottom-color: var(--fill-color);\n",
              "      border-left-color: var(--fill-color);\n",
              "    }\n",
              "    20% {\n",
              "      border-color: transparent;\n",
              "      border-left-color: var(--fill-color);\n",
              "      border-top-color: var(--fill-color);\n",
              "    }\n",
              "    30% {\n",
              "      border-color: transparent;\n",
              "      border-left-color: var(--fill-color);\n",
              "      border-top-color: var(--fill-color);\n",
              "      border-right-color: var(--fill-color);\n",
              "    }\n",
              "    40% {\n",
              "      border-color: transparent;\n",
              "      border-right-color: var(--fill-color);\n",
              "      border-top-color: var(--fill-color);\n",
              "    }\n",
              "    60% {\n",
              "      border-color: transparent;\n",
              "      border-right-color: var(--fill-color);\n",
              "    }\n",
              "    80% {\n",
              "      border-color: transparent;\n",
              "      border-right-color: var(--fill-color);\n",
              "      border-bottom-color: var(--fill-color);\n",
              "    }\n",
              "    90% {\n",
              "      border-color: transparent;\n",
              "      border-bottom-color: var(--fill-color);\n",
              "    }\n",
              "  }\n",
              "</style>\n",
              "\n",
              "  <script>\n",
              "    async function quickchart(key) {\n",
              "      const quickchartButtonEl =\n",
              "        document.querySelector('#' + key + ' button');\n",
              "      quickchartButtonEl.disabled = true;  // To prevent multiple clicks.\n",
              "      quickchartButtonEl.classList.add('colab-df-spinner');\n",
              "      try {\n",
              "        const charts = await google.colab.kernel.invokeFunction(\n",
              "            'suggestCharts', [key], {});\n",
              "      } catch (error) {\n",
              "        console.error('Error during call to suggestCharts:', error);\n",
              "      }\n",
              "      quickchartButtonEl.classList.remove('colab-df-spinner');\n",
              "      quickchartButtonEl.classList.add('colab-df-quickchart-complete');\n",
              "    }\n",
              "    (() => {\n",
              "      let quickchartButtonEl =\n",
              "        document.querySelector('#df-1e7b4e9b-5ee5-4c78-9a31-578b88ae0c11 button');\n",
              "      quickchartButtonEl.style.display =\n",
              "        google.colab.kernel.accessAllowed ? 'block' : 'none';\n",
              "    })();\n",
              "  </script>\n",
              "</div>\n",
              "    </div>\n",
              "  </div>\n"
            ],
            "application/vnd.google.colaboratory.intrinsic+json": {
              "type": "dataframe",
              "summary": "{\n  \"name\": \"df_plt_describe(df_0,[ 'f0','f1','f2','product'])\",\n  \"rows\": 8,\n  \"fields\": [\n    {\n      \"column\": \"f0\",\n      \"properties\": {\n        \"dtype\": \"number\",\n        \"std\": 35351.61012324208,\n        \"min\": -1.408605306026996,\n        \"max\": 99990.0,\n        \"num_unique_values\": 8,\n        \"samples\": [\n          0.5004544259880562,\n          0.5024054255613645,\n          99990.0\n        ],\n        \"semantic_type\": \"\",\n        \"description\": \"\"\n      }\n    },\n    {\n      \"column\": \"f1\",\n      \"properties\": {\n        \"dtype\": \"number\",\n        \"std\": 35351.70250907802,\n        \"min\": -0.8482184970082173,\n        \"max\": 99990.0,\n        \"num_unique_values\": 8,\n        \"samples\": [\n          0.2501406576124108,\n          0.25025228798345783,\n          99990.0\n        ],\n        \"semantic_type\": \"\",\n        \"description\": \"\"\n      }\n    },\n    {\n      \"column\": \"f2\",\n      \"properties\": {\n        \"dtype\": \"number\",\n        \"std\": 35350.93636978803,\n        \"min\": -12.08832811806336,\n        \"max\": 99990.0,\n        \"num_unique_values\": 8,\n        \"samples\": [\n          2.5026287103810834,\n          2.5159691067559757,\n          99990.0\n        ],\n        \"semantic_type\": \"\",\n        \"description\": \"\"\n      }\n    },\n    {\n      \"column\": \"product\",\n      \"properties\": {\n        \"dtype\": \"number\",\n        \"std\": 35321.59039110764,\n        \"min\": 0.0,\n        \"max\": 99990.0,\n        \"num_unique_values\": 8,\n        \"samples\": [\n          92.49968421774354,\n          91.84792790724278,\n          99990.0\n        ],\n        \"semantic_type\": \"\",\n        \"description\": \"\"\n      }\n    }\n  ]\n}"
            }
          },
          "metadata": {}
        }
      ],
      "source": [
        "df_plt_describe(df_0,[ 'f0','f1','f2','product'])"
      ]
    },
    {
      "cell_type": "markdown",
      "metadata": {
        "id": "oN10LsBh7PKI"
      },
      "source": [
        "* медиана и средняя почти одинаковы\n",
        "*  выбросов больших нет"
      ]
    },
    {
      "cell_type": "code",
      "execution_count": 10,
      "metadata": {
        "colab": {
          "base_uri": "https://localhost:8080/"
        },
        "id": "1QY1uFhS7PKI",
        "outputId": "2671755e-6211-4746-d685-84c32672f5c4"
      },
      "outputs": [
        {
          "output_type": "execute_result",
          "data": {
            "text/plain": [
              "99990"
            ]
          },
          "metadata": {},
          "execution_count": 10
        }
      ],
      "source": [
        "len(df_0['product'])"
      ]
    },
    {
      "cell_type": "markdown",
      "metadata": {
        "id": "6nz_f08Y7PKI"
      },
      "source": [
        "### `df_1` это `geo_data_1.csv`"
      ]
    },
    {
      "cell_type": "code",
      "execution_count": 11,
      "metadata": {
        "colab": {
          "base_uri": "https://localhost:8080/",
          "height": 206
        },
        "id": "WD-X5vLk7PKI",
        "outputId": "f2ffa388-01c0-4341-a3bb-c19d31b8fe5e"
      },
      "outputs": [
        {
          "output_type": "display_data",
          "data": {
            "text/plain": [
              "      id         f0         f1        f2     product\n",
              "0  kBEdx -15.001348  -8.276000 -0.005876    3.179103\n",
              "1  62mP7  14.272088  -3.475083  0.999183   26.953261\n",
              "2  vyE1P   6.263187  -5.948386  5.001160  134.766305\n",
              "3  KcrkZ -13.081196 -11.506057  4.999415  137.945408\n",
              "4  AHL4O  12.702195  -8.147433  5.004363  134.766305"
            ],
            "text/html": [
              "\n",
              "  <div id=\"df-1df32cf1-31a6-4f0c-bf7b-32505abb6671\" class=\"colab-df-container\">\n",
              "    <div>\n",
              "<style scoped>\n",
              "    .dataframe tbody tr th:only-of-type {\n",
              "        vertical-align: middle;\n",
              "    }\n",
              "\n",
              "    .dataframe tbody tr th {\n",
              "        vertical-align: top;\n",
              "    }\n",
              "\n",
              "    .dataframe thead th {\n",
              "        text-align: right;\n",
              "    }\n",
              "</style>\n",
              "<table border=\"1\" class=\"dataframe\">\n",
              "  <thead>\n",
              "    <tr style=\"text-align: right;\">\n",
              "      <th></th>\n",
              "      <th>id</th>\n",
              "      <th>f0</th>\n",
              "      <th>f1</th>\n",
              "      <th>f2</th>\n",
              "      <th>product</th>\n",
              "    </tr>\n",
              "  </thead>\n",
              "  <tbody>\n",
              "    <tr>\n",
              "      <th>0</th>\n",
              "      <td>kBEdx</td>\n",
              "      <td>-15.001348</td>\n",
              "      <td>-8.276000</td>\n",
              "      <td>-0.005876</td>\n",
              "      <td>3.179103</td>\n",
              "    </tr>\n",
              "    <tr>\n",
              "      <th>1</th>\n",
              "      <td>62mP7</td>\n",
              "      <td>14.272088</td>\n",
              "      <td>-3.475083</td>\n",
              "      <td>0.999183</td>\n",
              "      <td>26.953261</td>\n",
              "    </tr>\n",
              "    <tr>\n",
              "      <th>2</th>\n",
              "      <td>vyE1P</td>\n",
              "      <td>6.263187</td>\n",
              "      <td>-5.948386</td>\n",
              "      <td>5.001160</td>\n",
              "      <td>134.766305</td>\n",
              "    </tr>\n",
              "    <tr>\n",
              "      <th>3</th>\n",
              "      <td>KcrkZ</td>\n",
              "      <td>-13.081196</td>\n",
              "      <td>-11.506057</td>\n",
              "      <td>4.999415</td>\n",
              "      <td>137.945408</td>\n",
              "    </tr>\n",
              "    <tr>\n",
              "      <th>4</th>\n",
              "      <td>AHL4O</td>\n",
              "      <td>12.702195</td>\n",
              "      <td>-8.147433</td>\n",
              "      <td>5.004363</td>\n",
              "      <td>134.766305</td>\n",
              "    </tr>\n",
              "  </tbody>\n",
              "</table>\n",
              "</div>\n",
              "    <div class=\"colab-df-buttons\">\n",
              "\n",
              "  <div class=\"colab-df-container\">\n",
              "    <button class=\"colab-df-convert\" onclick=\"convertToInteractive('df-1df32cf1-31a6-4f0c-bf7b-32505abb6671')\"\n",
              "            title=\"Convert this dataframe to an interactive table.\"\n",
              "            style=\"display:none;\">\n",
              "\n",
              "  <svg xmlns=\"http://www.w3.org/2000/svg\" height=\"24px\" viewBox=\"0 -960 960 960\">\n",
              "    <path d=\"M120-120v-720h720v720H120Zm60-500h600v-160H180v160Zm220 220h160v-160H400v160Zm0 220h160v-160H400v160ZM180-400h160v-160H180v160Zm440 0h160v-160H620v160ZM180-180h160v-160H180v160Zm440 0h160v-160H620v160Z\"/>\n",
              "  </svg>\n",
              "    </button>\n",
              "\n",
              "  <style>\n",
              "    .colab-df-container {\n",
              "      display:flex;\n",
              "      gap: 12px;\n",
              "    }\n",
              "\n",
              "    .colab-df-convert {\n",
              "      background-color: #E8F0FE;\n",
              "      border: none;\n",
              "      border-radius: 50%;\n",
              "      cursor: pointer;\n",
              "      display: none;\n",
              "      fill: #1967D2;\n",
              "      height: 32px;\n",
              "      padding: 0 0 0 0;\n",
              "      width: 32px;\n",
              "    }\n",
              "\n",
              "    .colab-df-convert:hover {\n",
              "      background-color: #E2EBFA;\n",
              "      box-shadow: 0px 1px 2px rgba(60, 64, 67, 0.3), 0px 1px 3px 1px rgba(60, 64, 67, 0.15);\n",
              "      fill: #174EA6;\n",
              "    }\n",
              "\n",
              "    .colab-df-buttons div {\n",
              "      margin-bottom: 4px;\n",
              "    }\n",
              "\n",
              "    [theme=dark] .colab-df-convert {\n",
              "      background-color: #3B4455;\n",
              "      fill: #D2E3FC;\n",
              "    }\n",
              "\n",
              "    [theme=dark] .colab-df-convert:hover {\n",
              "      background-color: #434B5C;\n",
              "      box-shadow: 0px 1px 3px 1px rgba(0, 0, 0, 0.15);\n",
              "      filter: drop-shadow(0px 1px 2px rgba(0, 0, 0, 0.3));\n",
              "      fill: #FFFFFF;\n",
              "    }\n",
              "  </style>\n",
              "\n",
              "    <script>\n",
              "      const buttonEl =\n",
              "        document.querySelector('#df-1df32cf1-31a6-4f0c-bf7b-32505abb6671 button.colab-df-convert');\n",
              "      buttonEl.style.display =\n",
              "        google.colab.kernel.accessAllowed ? 'block' : 'none';\n",
              "\n",
              "      async function convertToInteractive(key) {\n",
              "        const element = document.querySelector('#df-1df32cf1-31a6-4f0c-bf7b-32505abb6671');\n",
              "        const dataTable =\n",
              "          await google.colab.kernel.invokeFunction('convertToInteractive',\n",
              "                                                    [key], {});\n",
              "        if (!dataTable) return;\n",
              "\n",
              "        const docLinkHtml = 'Like what you see? Visit the ' +\n",
              "          '<a target=\"_blank\" href=https://colab.research.google.com/notebooks/data_table.ipynb>data table notebook</a>'\n",
              "          + ' to learn more about interactive tables.';\n",
              "        element.innerHTML = '';\n",
              "        dataTable['output_type'] = 'display_data';\n",
              "        await google.colab.output.renderOutput(dataTable, element);\n",
              "        const docLink = document.createElement('div');\n",
              "        docLink.innerHTML = docLinkHtml;\n",
              "        element.appendChild(docLink);\n",
              "      }\n",
              "    </script>\n",
              "  </div>\n",
              "\n",
              "\n",
              "<div id=\"df-cdebc3ff-779e-4fd7-912b-7ec4acde9c34\">\n",
              "  <button class=\"colab-df-quickchart\" onclick=\"quickchart('df-cdebc3ff-779e-4fd7-912b-7ec4acde9c34')\"\n",
              "            title=\"Suggest charts\"\n",
              "            style=\"display:none;\">\n",
              "\n",
              "<svg xmlns=\"http://www.w3.org/2000/svg\" height=\"24px\"viewBox=\"0 0 24 24\"\n",
              "     width=\"24px\">\n",
              "    <g>\n",
              "        <path d=\"M19 3H5c-1.1 0-2 .9-2 2v14c0 1.1.9 2 2 2h14c1.1 0 2-.9 2-2V5c0-1.1-.9-2-2-2zM9 17H7v-7h2v7zm4 0h-2V7h2v10zm4 0h-2v-4h2v4z\"/>\n",
              "    </g>\n",
              "</svg>\n",
              "  </button>\n",
              "\n",
              "<style>\n",
              "  .colab-df-quickchart {\n",
              "      --bg-color: #E8F0FE;\n",
              "      --fill-color: #1967D2;\n",
              "      --hover-bg-color: #E2EBFA;\n",
              "      --hover-fill-color: #174EA6;\n",
              "      --disabled-fill-color: #AAA;\n",
              "      --disabled-bg-color: #DDD;\n",
              "  }\n",
              "\n",
              "  [theme=dark] .colab-df-quickchart {\n",
              "      --bg-color: #3B4455;\n",
              "      --fill-color: #D2E3FC;\n",
              "      --hover-bg-color: #434B5C;\n",
              "      --hover-fill-color: #FFFFFF;\n",
              "      --disabled-bg-color: #3B4455;\n",
              "      --disabled-fill-color: #666;\n",
              "  }\n",
              "\n",
              "  .colab-df-quickchart {\n",
              "    background-color: var(--bg-color);\n",
              "    border: none;\n",
              "    border-radius: 50%;\n",
              "    cursor: pointer;\n",
              "    display: none;\n",
              "    fill: var(--fill-color);\n",
              "    height: 32px;\n",
              "    padding: 0;\n",
              "    width: 32px;\n",
              "  }\n",
              "\n",
              "  .colab-df-quickchart:hover {\n",
              "    background-color: var(--hover-bg-color);\n",
              "    box-shadow: 0 1px 2px rgba(60, 64, 67, 0.3), 0 1px 3px 1px rgba(60, 64, 67, 0.15);\n",
              "    fill: var(--button-hover-fill-color);\n",
              "  }\n",
              "\n",
              "  .colab-df-quickchart-complete:disabled,\n",
              "  .colab-df-quickchart-complete:disabled:hover {\n",
              "    background-color: var(--disabled-bg-color);\n",
              "    fill: var(--disabled-fill-color);\n",
              "    box-shadow: none;\n",
              "  }\n",
              "\n",
              "  .colab-df-spinner {\n",
              "    border: 2px solid var(--fill-color);\n",
              "    border-color: transparent;\n",
              "    border-bottom-color: var(--fill-color);\n",
              "    animation:\n",
              "      spin 1s steps(1) infinite;\n",
              "  }\n",
              "\n",
              "  @keyframes spin {\n",
              "    0% {\n",
              "      border-color: transparent;\n",
              "      border-bottom-color: var(--fill-color);\n",
              "      border-left-color: var(--fill-color);\n",
              "    }\n",
              "    20% {\n",
              "      border-color: transparent;\n",
              "      border-left-color: var(--fill-color);\n",
              "      border-top-color: var(--fill-color);\n",
              "    }\n",
              "    30% {\n",
              "      border-color: transparent;\n",
              "      border-left-color: var(--fill-color);\n",
              "      border-top-color: var(--fill-color);\n",
              "      border-right-color: var(--fill-color);\n",
              "    }\n",
              "    40% {\n",
              "      border-color: transparent;\n",
              "      border-right-color: var(--fill-color);\n",
              "      border-top-color: var(--fill-color);\n",
              "    }\n",
              "    60% {\n",
              "      border-color: transparent;\n",
              "      border-right-color: var(--fill-color);\n",
              "    }\n",
              "    80% {\n",
              "      border-color: transparent;\n",
              "      border-right-color: var(--fill-color);\n",
              "      border-bottom-color: var(--fill-color);\n",
              "    }\n",
              "    90% {\n",
              "      border-color: transparent;\n",
              "      border-bottom-color: var(--fill-color);\n",
              "    }\n",
              "  }\n",
              "</style>\n",
              "\n",
              "  <script>\n",
              "    async function quickchart(key) {\n",
              "      const quickchartButtonEl =\n",
              "        document.querySelector('#' + key + ' button');\n",
              "      quickchartButtonEl.disabled = true;  // To prevent multiple clicks.\n",
              "      quickchartButtonEl.classList.add('colab-df-spinner');\n",
              "      try {\n",
              "        const charts = await google.colab.kernel.invokeFunction(\n",
              "            'suggestCharts', [key], {});\n",
              "      } catch (error) {\n",
              "        console.error('Error during call to suggestCharts:', error);\n",
              "      }\n",
              "      quickchartButtonEl.classList.remove('colab-df-spinner');\n",
              "      quickchartButtonEl.classList.add('colab-df-quickchart-complete');\n",
              "    }\n",
              "    (() => {\n",
              "      let quickchartButtonEl =\n",
              "        document.querySelector('#df-cdebc3ff-779e-4fd7-912b-7ec4acde9c34 button');\n",
              "      quickchartButtonEl.style.display =\n",
              "        google.colab.kernel.accessAllowed ? 'block' : 'none';\n",
              "    })();\n",
              "  </script>\n",
              "</div>\n",
              "    </div>\n",
              "  </div>\n"
            ],
            "application/vnd.google.colaboratory.intrinsic+json": {
              "type": "dataframe",
              "summary": "{\n  \"name\": \"display(df_1\",\n  \"rows\": 5,\n  \"fields\": [\n    {\n      \"column\": \"id\",\n      \"properties\": {\n        \"dtype\": \"string\",\n        \"num_unique_values\": 5,\n        \"samples\": [\n          \"62mP7\",\n          \"AHL4O\",\n          \"vyE1P\"\n        ],\n        \"semantic_type\": \"\",\n        \"description\": \"\"\n      }\n    },\n    {\n      \"column\": \"f0\",\n      \"properties\": {\n        \"dtype\": \"number\",\n        \"std\": 14.098840850488468,\n        \"min\": -15.00134818249185,\n        \"max\": 14.272087811011149,\n        \"num_unique_values\": 5,\n        \"samples\": [\n          14.272087811011149,\n          12.702194885533585,\n          6.263187352448809\n        ],\n        \"semantic_type\": \"\",\n        \"description\": \"\"\n      }\n    },\n    {\n      \"column\": \"f1\",\n      \"properties\": {\n        \"dtype\": \"number\",\n        \"std\": 2.9863428755518195,\n        \"min\": -11.506056864519604,\n        \"max\": -3.47508321506002,\n        \"num_unique_values\": 5,\n        \"samples\": [\n          -3.47508321506002,\n          -8.147433374146587,\n          -5.948385788285711\n        ],\n        \"semantic_type\": \"\",\n        \"description\": \"\"\n      }\n    },\n    {\n      \"column\": \"f2\",\n      \"properties\": {\n        \"dtype\": \"number\",\n        \"std\": 2.49294169335158,\n        \"min\": -0.0058760136933206,\n        \"max\": 5.00436255224226,\n        \"num_unique_values\": 5,\n        \"samples\": [\n          0.9991827365665829,\n          5.00436255224226,\n          5.001160160764809\n        ],\n        \"semantic_type\": \"\",\n        \"description\": \"\"\n      }\n    },\n    {\n      \"column\": \"product\",\n      \"properties\": {\n        \"dtype\": \"number\",\n        \"std\": 66.68745247933276,\n        \"min\": 3.179102583207246,\n        \"max\": 137.94540774090564,\n        \"num_unique_values\": 4,\n        \"samples\": [\n          26.95326103153969,\n          137.94540774090564,\n          3.179102583207246\n        ],\n        \"semantic_type\": \"\",\n        \"description\": \"\"\n      }\n    }\n  ]\n}"
            }
          },
          "metadata": {}
        }
      ],
      "source": [
        "df_1 = pd.read_csv(pth + '/geo_data_1.csv')\n",
        "display(df_1.head(5))"
      ]
    },
    {
      "cell_type": "code",
      "execution_count": 12,
      "metadata": {
        "colab": {
          "base_uri": "https://localhost:8080/",
          "height": 34
        },
        "id": "St7D58UB7PKI",
        "outputId": "08497b19-44fe-423b-97fd-99341f3f55d1"
      },
      "outputs": [
        {
          "output_type": "display_data",
          "data": {
            "text/plain": [
              "99996"
            ]
          },
          "metadata": {}
        }
      ],
      "source": [
        "display(len(df_1['id'].unique()))"
      ]
    },
    {
      "cell_type": "code",
      "execution_count": 13,
      "metadata": {
        "colab": {
          "base_uri": "https://localhost:8080/",
          "height": 300
        },
        "id": "hj7v5mfo7PKI",
        "outputId": "ea52114d-2ab7-4a87-d441-fd7bef5a703a"
      },
      "outputs": [
        {
          "output_type": "execute_result",
          "data": {
            "text/plain": [
              "          id         f0         f1        f2     product\n",
              "5849   5ltQ6  -3.435401 -12.296043  1.999796   57.085625\n",
              "84461  5ltQ6  18.213839   2.191999  3.993869  107.813044\n",
              "1305   LHZR0  11.170835  -1.945066  3.002872   80.859783\n",
              "41906  LHZR0  -8.989672  -4.286607  2.009139   57.085625\n",
              "2721   bfPNe  -9.494442  -5.463692  4.006042  110.992147\n",
              "82178  bfPNe  -6.202799  -4.820045  2.995107   84.038886\n",
              "47591  wt4Uk  -9.091098  -8.109279 -0.002314    3.179103\n",
              "82873  wt4Uk  10.259972  -9.376355  4.994297  134.766305"
            ],
            "text/html": [
              "\n",
              "  <div id=\"df-2a842a2b-50b3-4f3f-a715-1d885067f25a\" class=\"colab-df-container\">\n",
              "    <div>\n",
              "<style scoped>\n",
              "    .dataframe tbody tr th:only-of-type {\n",
              "        vertical-align: middle;\n",
              "    }\n",
              "\n",
              "    .dataframe tbody tr th {\n",
              "        vertical-align: top;\n",
              "    }\n",
              "\n",
              "    .dataframe thead th {\n",
              "        text-align: right;\n",
              "    }\n",
              "</style>\n",
              "<table border=\"1\" class=\"dataframe\">\n",
              "  <thead>\n",
              "    <tr style=\"text-align: right;\">\n",
              "      <th></th>\n",
              "      <th>id</th>\n",
              "      <th>f0</th>\n",
              "      <th>f1</th>\n",
              "      <th>f2</th>\n",
              "      <th>product</th>\n",
              "    </tr>\n",
              "  </thead>\n",
              "  <tbody>\n",
              "    <tr>\n",
              "      <th>5849</th>\n",
              "      <td>5ltQ6</td>\n",
              "      <td>-3.435401</td>\n",
              "      <td>-12.296043</td>\n",
              "      <td>1.999796</td>\n",
              "      <td>57.085625</td>\n",
              "    </tr>\n",
              "    <tr>\n",
              "      <th>84461</th>\n",
              "      <td>5ltQ6</td>\n",
              "      <td>18.213839</td>\n",
              "      <td>2.191999</td>\n",
              "      <td>3.993869</td>\n",
              "      <td>107.813044</td>\n",
              "    </tr>\n",
              "    <tr>\n",
              "      <th>1305</th>\n",
              "      <td>LHZR0</td>\n",
              "      <td>11.170835</td>\n",
              "      <td>-1.945066</td>\n",
              "      <td>3.002872</td>\n",
              "      <td>80.859783</td>\n",
              "    </tr>\n",
              "    <tr>\n",
              "      <th>41906</th>\n",
              "      <td>LHZR0</td>\n",
              "      <td>-8.989672</td>\n",
              "      <td>-4.286607</td>\n",
              "      <td>2.009139</td>\n",
              "      <td>57.085625</td>\n",
              "    </tr>\n",
              "    <tr>\n",
              "      <th>2721</th>\n",
              "      <td>bfPNe</td>\n",
              "      <td>-9.494442</td>\n",
              "      <td>-5.463692</td>\n",
              "      <td>4.006042</td>\n",
              "      <td>110.992147</td>\n",
              "    </tr>\n",
              "    <tr>\n",
              "      <th>82178</th>\n",
              "      <td>bfPNe</td>\n",
              "      <td>-6.202799</td>\n",
              "      <td>-4.820045</td>\n",
              "      <td>2.995107</td>\n",
              "      <td>84.038886</td>\n",
              "    </tr>\n",
              "    <tr>\n",
              "      <th>47591</th>\n",
              "      <td>wt4Uk</td>\n",
              "      <td>-9.091098</td>\n",
              "      <td>-8.109279</td>\n",
              "      <td>-0.002314</td>\n",
              "      <td>3.179103</td>\n",
              "    </tr>\n",
              "    <tr>\n",
              "      <th>82873</th>\n",
              "      <td>wt4Uk</td>\n",
              "      <td>10.259972</td>\n",
              "      <td>-9.376355</td>\n",
              "      <td>4.994297</td>\n",
              "      <td>134.766305</td>\n",
              "    </tr>\n",
              "  </tbody>\n",
              "</table>\n",
              "</div>\n",
              "    <div class=\"colab-df-buttons\">\n",
              "\n",
              "  <div class=\"colab-df-container\">\n",
              "    <button class=\"colab-df-convert\" onclick=\"convertToInteractive('df-2a842a2b-50b3-4f3f-a715-1d885067f25a')\"\n",
              "            title=\"Convert this dataframe to an interactive table.\"\n",
              "            style=\"display:none;\">\n",
              "\n",
              "  <svg xmlns=\"http://www.w3.org/2000/svg\" height=\"24px\" viewBox=\"0 -960 960 960\">\n",
              "    <path d=\"M120-120v-720h720v720H120Zm60-500h600v-160H180v160Zm220 220h160v-160H400v160Zm0 220h160v-160H400v160ZM180-400h160v-160H180v160Zm440 0h160v-160H620v160ZM180-180h160v-160H180v160Zm440 0h160v-160H620v160Z\"/>\n",
              "  </svg>\n",
              "    </button>\n",
              "\n",
              "  <style>\n",
              "    .colab-df-container {\n",
              "      display:flex;\n",
              "      gap: 12px;\n",
              "    }\n",
              "\n",
              "    .colab-df-convert {\n",
              "      background-color: #E8F0FE;\n",
              "      border: none;\n",
              "      border-radius: 50%;\n",
              "      cursor: pointer;\n",
              "      display: none;\n",
              "      fill: #1967D2;\n",
              "      height: 32px;\n",
              "      padding: 0 0 0 0;\n",
              "      width: 32px;\n",
              "    }\n",
              "\n",
              "    .colab-df-convert:hover {\n",
              "      background-color: #E2EBFA;\n",
              "      box-shadow: 0px 1px 2px rgba(60, 64, 67, 0.3), 0px 1px 3px 1px rgba(60, 64, 67, 0.15);\n",
              "      fill: #174EA6;\n",
              "    }\n",
              "\n",
              "    .colab-df-buttons div {\n",
              "      margin-bottom: 4px;\n",
              "    }\n",
              "\n",
              "    [theme=dark] .colab-df-convert {\n",
              "      background-color: #3B4455;\n",
              "      fill: #D2E3FC;\n",
              "    }\n",
              "\n",
              "    [theme=dark] .colab-df-convert:hover {\n",
              "      background-color: #434B5C;\n",
              "      box-shadow: 0px 1px 3px 1px rgba(0, 0, 0, 0.15);\n",
              "      filter: drop-shadow(0px 1px 2px rgba(0, 0, 0, 0.3));\n",
              "      fill: #FFFFFF;\n",
              "    }\n",
              "  </style>\n",
              "\n",
              "    <script>\n",
              "      const buttonEl =\n",
              "        document.querySelector('#df-2a842a2b-50b3-4f3f-a715-1d885067f25a button.colab-df-convert');\n",
              "      buttonEl.style.display =\n",
              "        google.colab.kernel.accessAllowed ? 'block' : 'none';\n",
              "\n",
              "      async function convertToInteractive(key) {\n",
              "        const element = document.querySelector('#df-2a842a2b-50b3-4f3f-a715-1d885067f25a');\n",
              "        const dataTable =\n",
              "          await google.colab.kernel.invokeFunction('convertToInteractive',\n",
              "                                                    [key], {});\n",
              "        if (!dataTable) return;\n",
              "\n",
              "        const docLinkHtml = 'Like what you see? Visit the ' +\n",
              "          '<a target=\"_blank\" href=https://colab.research.google.com/notebooks/data_table.ipynb>data table notebook</a>'\n",
              "          + ' to learn more about interactive tables.';\n",
              "        element.innerHTML = '';\n",
              "        dataTable['output_type'] = 'display_data';\n",
              "        await google.colab.output.renderOutput(dataTable, element);\n",
              "        const docLink = document.createElement('div');\n",
              "        docLink.innerHTML = docLinkHtml;\n",
              "        element.appendChild(docLink);\n",
              "      }\n",
              "    </script>\n",
              "  </div>\n",
              "\n",
              "\n",
              "<div id=\"df-eb414e98-a902-47bd-a935-cac29a778e53\">\n",
              "  <button class=\"colab-df-quickchart\" onclick=\"quickchart('df-eb414e98-a902-47bd-a935-cac29a778e53')\"\n",
              "            title=\"Suggest charts\"\n",
              "            style=\"display:none;\">\n",
              "\n",
              "<svg xmlns=\"http://www.w3.org/2000/svg\" height=\"24px\"viewBox=\"0 0 24 24\"\n",
              "     width=\"24px\">\n",
              "    <g>\n",
              "        <path d=\"M19 3H5c-1.1 0-2 .9-2 2v14c0 1.1.9 2 2 2h14c1.1 0 2-.9 2-2V5c0-1.1-.9-2-2-2zM9 17H7v-7h2v7zm4 0h-2V7h2v10zm4 0h-2v-4h2v4z\"/>\n",
              "    </g>\n",
              "</svg>\n",
              "  </button>\n",
              "\n",
              "<style>\n",
              "  .colab-df-quickchart {\n",
              "      --bg-color: #E8F0FE;\n",
              "      --fill-color: #1967D2;\n",
              "      --hover-bg-color: #E2EBFA;\n",
              "      --hover-fill-color: #174EA6;\n",
              "      --disabled-fill-color: #AAA;\n",
              "      --disabled-bg-color: #DDD;\n",
              "  }\n",
              "\n",
              "  [theme=dark] .colab-df-quickchart {\n",
              "      --bg-color: #3B4455;\n",
              "      --fill-color: #D2E3FC;\n",
              "      --hover-bg-color: #434B5C;\n",
              "      --hover-fill-color: #FFFFFF;\n",
              "      --disabled-bg-color: #3B4455;\n",
              "      --disabled-fill-color: #666;\n",
              "  }\n",
              "\n",
              "  .colab-df-quickchart {\n",
              "    background-color: var(--bg-color);\n",
              "    border: none;\n",
              "    border-radius: 50%;\n",
              "    cursor: pointer;\n",
              "    display: none;\n",
              "    fill: var(--fill-color);\n",
              "    height: 32px;\n",
              "    padding: 0;\n",
              "    width: 32px;\n",
              "  }\n",
              "\n",
              "  .colab-df-quickchart:hover {\n",
              "    background-color: var(--hover-bg-color);\n",
              "    box-shadow: 0 1px 2px rgba(60, 64, 67, 0.3), 0 1px 3px 1px rgba(60, 64, 67, 0.15);\n",
              "    fill: var(--button-hover-fill-color);\n",
              "  }\n",
              "\n",
              "  .colab-df-quickchart-complete:disabled,\n",
              "  .colab-df-quickchart-complete:disabled:hover {\n",
              "    background-color: var(--disabled-bg-color);\n",
              "    fill: var(--disabled-fill-color);\n",
              "    box-shadow: none;\n",
              "  }\n",
              "\n",
              "  .colab-df-spinner {\n",
              "    border: 2px solid var(--fill-color);\n",
              "    border-color: transparent;\n",
              "    border-bottom-color: var(--fill-color);\n",
              "    animation:\n",
              "      spin 1s steps(1) infinite;\n",
              "  }\n",
              "\n",
              "  @keyframes spin {\n",
              "    0% {\n",
              "      border-color: transparent;\n",
              "      border-bottom-color: var(--fill-color);\n",
              "      border-left-color: var(--fill-color);\n",
              "    }\n",
              "    20% {\n",
              "      border-color: transparent;\n",
              "      border-left-color: var(--fill-color);\n",
              "      border-top-color: var(--fill-color);\n",
              "    }\n",
              "    30% {\n",
              "      border-color: transparent;\n",
              "      border-left-color: var(--fill-color);\n",
              "      border-top-color: var(--fill-color);\n",
              "      border-right-color: var(--fill-color);\n",
              "    }\n",
              "    40% {\n",
              "      border-color: transparent;\n",
              "      border-right-color: var(--fill-color);\n",
              "      border-top-color: var(--fill-color);\n",
              "    }\n",
              "    60% {\n",
              "      border-color: transparent;\n",
              "      border-right-color: var(--fill-color);\n",
              "    }\n",
              "    80% {\n",
              "      border-color: transparent;\n",
              "      border-right-color: var(--fill-color);\n",
              "      border-bottom-color: var(--fill-color);\n",
              "    }\n",
              "    90% {\n",
              "      border-color: transparent;\n",
              "      border-bottom-color: var(--fill-color);\n",
              "    }\n",
              "  }\n",
              "</style>\n",
              "\n",
              "  <script>\n",
              "    async function quickchart(key) {\n",
              "      const quickchartButtonEl =\n",
              "        document.querySelector('#' + key + ' button');\n",
              "      quickchartButtonEl.disabled = true;  // To prevent multiple clicks.\n",
              "      quickchartButtonEl.classList.add('colab-df-spinner');\n",
              "      try {\n",
              "        const charts = await google.colab.kernel.invokeFunction(\n",
              "            'suggestCharts', [key], {});\n",
              "      } catch (error) {\n",
              "        console.error('Error during call to suggestCharts:', error);\n",
              "      }\n",
              "      quickchartButtonEl.classList.remove('colab-df-spinner');\n",
              "      quickchartButtonEl.classList.add('colab-df-quickchart-complete');\n",
              "    }\n",
              "    (() => {\n",
              "      let quickchartButtonEl =\n",
              "        document.querySelector('#df-eb414e98-a902-47bd-a935-cac29a778e53 button');\n",
              "      quickchartButtonEl.style.display =\n",
              "        google.colab.kernel.accessAllowed ? 'block' : 'none';\n",
              "    })();\n",
              "  </script>\n",
              "</div>\n",
              "    </div>\n",
              "  </div>\n"
            ],
            "application/vnd.google.colaboratory.intrinsic+json": {
              "type": "dataframe",
              "summary": "{\n  \"name\": \"df_1[df_1['id']\",\n  \"rows\": 8,\n  \"fields\": [\n    {\n      \"column\": \"id\",\n      \"properties\": {\n        \"dtype\": \"string\",\n        \"num_unique_values\": 4,\n        \"samples\": [\n          \"LHZR0\",\n          \"wt4Uk\",\n          \"5ltQ6\"\n        ],\n        \"semantic_type\": \"\",\n        \"description\": \"\"\n      }\n    },\n    {\n      \"column\": \"f0\",\n      \"properties\": {\n        \"dtype\": \"number\",\n        \"std\": 11.115902562390895,\n        \"min\": -9.494441881351934,\n        \"max\": 18.213838953157858,\n        \"num_unique_values\": 8,\n        \"samples\": [\n          18.213838953157858,\n          -6.202798994370619,\n          -3.435400655682741\n        ],\n        \"semantic_type\": \"\",\n        \"description\": \"\"\n      }\n    },\n    {\n      \"column\": \"f1\",\n      \"properties\": {\n        \"dtype\": \"number\",\n        \"std\": 4.500153513997055,\n        \"min\": -12.296043363689575,\n        \"max\": 2.1919987531641767,\n        \"num_unique_values\": 8,\n        \"samples\": [\n          2.1919987531641767,\n          -4.820044564815392,\n          -12.296043363689575\n        ],\n        \"semantic_type\": \"\",\n        \"description\": \"\"\n      }\n    },\n    {\n      \"column\": \"f2\",\n      \"properties\": {\n        \"dtype\": \"number\",\n        \"std\": 1.5514026453667635,\n        \"min\": -0.0023136991985505,\n        \"max\": 4.994296692628419,\n        \"num_unique_values\": 8,\n        \"samples\": [\n          3.993869295751548,\n          2.995107206596672,\n          1.9997955405525067\n        ],\n        \"semantic_type\": \"\",\n        \"description\": \"\"\n      }\n    },\n    {\n      \"column\": \"product\",\n      \"properties\": {\n        \"dtype\": \"number\",\n        \"std\": 40.882903433050785,\n        \"min\": 3.179102583207246,\n        \"max\": 134.76630515769844,\n        \"num_unique_values\": 7,\n        \"samples\": [\n          57.08562464628662,\n          107.81304412615876,\n          3.179102583207246\n        ],\n        \"semantic_type\": \"\",\n        \"description\": \"\"\n      }\n    }\n  ]\n}"
            }
          },
          "metadata": {},
          "execution_count": 13
        }
      ],
      "source": [
        "_df_1 = df_1.groupby('id')['id'].count()\n",
        "df_1[df_1['id'].isin(_df_1[_df_1.values>1].index)].sort_values(by='id')"
      ]
    },
    {
      "cell_type": "code",
      "execution_count": 14,
      "metadata": {
        "id": "8kyEcuPb7PKI"
      },
      "outputs": [],
      "source": [
        "df_1.drop_duplicates(subset='id',inplace=True)"
      ]
    },
    {
      "cell_type": "code",
      "execution_count": 15,
      "metadata": {
        "colab": {
          "base_uri": "https://localhost:8080/",
          "height": 53
        },
        "id": "SJgzXI_-7PKI",
        "outputId": "5542e94c-4c59-45fc-f742-a1c43537f057"
      },
      "outputs": [
        {
          "output_type": "execute_result",
          "data": {
            "text/plain": [
              "Empty DataFrame\n",
              "Columns: [id, f0, f1, f2, product]\n",
              "Index: []"
            ],
            "text/html": [
              "\n",
              "  <div id=\"df-2a3c17ba-fc30-458b-a6c3-f950354c6e1c\" class=\"colab-df-container\">\n",
              "    <div>\n",
              "<style scoped>\n",
              "    .dataframe tbody tr th:only-of-type {\n",
              "        vertical-align: middle;\n",
              "    }\n",
              "\n",
              "    .dataframe tbody tr th {\n",
              "        vertical-align: top;\n",
              "    }\n",
              "\n",
              "    .dataframe thead th {\n",
              "        text-align: right;\n",
              "    }\n",
              "</style>\n",
              "<table border=\"1\" class=\"dataframe\">\n",
              "  <thead>\n",
              "    <tr style=\"text-align: right;\">\n",
              "      <th></th>\n",
              "      <th>id</th>\n",
              "      <th>f0</th>\n",
              "      <th>f1</th>\n",
              "      <th>f2</th>\n",
              "      <th>product</th>\n",
              "    </tr>\n",
              "  </thead>\n",
              "  <tbody>\n",
              "  </tbody>\n",
              "</table>\n",
              "</div>\n",
              "    <div class=\"colab-df-buttons\">\n",
              "\n",
              "  <div class=\"colab-df-container\">\n",
              "    <button class=\"colab-df-convert\" onclick=\"convertToInteractive('df-2a3c17ba-fc30-458b-a6c3-f950354c6e1c')\"\n",
              "            title=\"Convert this dataframe to an interactive table.\"\n",
              "            style=\"display:none;\">\n",
              "\n",
              "  <svg xmlns=\"http://www.w3.org/2000/svg\" height=\"24px\" viewBox=\"0 -960 960 960\">\n",
              "    <path d=\"M120-120v-720h720v720H120Zm60-500h600v-160H180v160Zm220 220h160v-160H400v160Zm0 220h160v-160H400v160ZM180-400h160v-160H180v160Zm440 0h160v-160H620v160ZM180-180h160v-160H180v160Zm440 0h160v-160H620v160Z\"/>\n",
              "  </svg>\n",
              "    </button>\n",
              "\n",
              "  <style>\n",
              "    .colab-df-container {\n",
              "      display:flex;\n",
              "      gap: 12px;\n",
              "    }\n",
              "\n",
              "    .colab-df-convert {\n",
              "      background-color: #E8F0FE;\n",
              "      border: none;\n",
              "      border-radius: 50%;\n",
              "      cursor: pointer;\n",
              "      display: none;\n",
              "      fill: #1967D2;\n",
              "      height: 32px;\n",
              "      padding: 0 0 0 0;\n",
              "      width: 32px;\n",
              "    }\n",
              "\n",
              "    .colab-df-convert:hover {\n",
              "      background-color: #E2EBFA;\n",
              "      box-shadow: 0px 1px 2px rgba(60, 64, 67, 0.3), 0px 1px 3px 1px rgba(60, 64, 67, 0.15);\n",
              "      fill: #174EA6;\n",
              "    }\n",
              "\n",
              "    .colab-df-buttons div {\n",
              "      margin-bottom: 4px;\n",
              "    }\n",
              "\n",
              "    [theme=dark] .colab-df-convert {\n",
              "      background-color: #3B4455;\n",
              "      fill: #D2E3FC;\n",
              "    }\n",
              "\n",
              "    [theme=dark] .colab-df-convert:hover {\n",
              "      background-color: #434B5C;\n",
              "      box-shadow: 0px 1px 3px 1px rgba(0, 0, 0, 0.15);\n",
              "      filter: drop-shadow(0px 1px 2px rgba(0, 0, 0, 0.3));\n",
              "      fill: #FFFFFF;\n",
              "    }\n",
              "  </style>\n",
              "\n",
              "    <script>\n",
              "      const buttonEl =\n",
              "        document.querySelector('#df-2a3c17ba-fc30-458b-a6c3-f950354c6e1c button.colab-df-convert');\n",
              "      buttonEl.style.display =\n",
              "        google.colab.kernel.accessAllowed ? 'block' : 'none';\n",
              "\n",
              "      async function convertToInteractive(key) {\n",
              "        const element = document.querySelector('#df-2a3c17ba-fc30-458b-a6c3-f950354c6e1c');\n",
              "        const dataTable =\n",
              "          await google.colab.kernel.invokeFunction('convertToInteractive',\n",
              "                                                    [key], {});\n",
              "        if (!dataTable) return;\n",
              "\n",
              "        const docLinkHtml = 'Like what you see? Visit the ' +\n",
              "          '<a target=\"_blank\" href=https://colab.research.google.com/notebooks/data_table.ipynb>data table notebook</a>'\n",
              "          + ' to learn more about interactive tables.';\n",
              "        element.innerHTML = '';\n",
              "        dataTable['output_type'] = 'display_data';\n",
              "        await google.colab.output.renderOutput(dataTable, element);\n",
              "        const docLink = document.createElement('div');\n",
              "        docLink.innerHTML = docLinkHtml;\n",
              "        element.appendChild(docLink);\n",
              "      }\n",
              "    </script>\n",
              "  </div>\n",
              "\n",
              "    </div>\n",
              "  </div>\n"
            ],
            "application/vnd.google.colaboratory.intrinsic+json": {
              "type": "dataframe",
              "repr_error": "Out of range float values are not JSON compliant: nan"
            }
          },
          "metadata": {},
          "execution_count": 15
        }
      ],
      "source": [
        "_df_1 = df_1.groupby('id')['id'].count()\n",
        "df_1[df_1['id'].isin(_df_1[_df_1.values>1].index)].sort_values(by='id')"
      ]
    },
    {
      "cell_type": "markdown",
      "metadata": {
        "id": "Ll1yrWnA7PKJ"
      },
      "source": [
        "* тоже удалили"
      ]
    },
    {
      "cell_type": "code",
      "execution_count": 16,
      "metadata": {
        "scrolled": true,
        "colab": {
          "base_uri": "https://localhost:8080/",
          "height": 1000
        },
        "id": "JmqwtDfc7PKJ",
        "outputId": "8ca0e6ba-8825-4832-d5d2-2964512324aa"
      },
      "outputs": [
        {
          "output_type": "display_data",
          "data": {
            "text/plain": [
              "<Figure size 640x480 with 4 Axes>"
            ],
            "image/png": "[encoded data removed]"
          },
          "metadata": {}
        },
        {
          "output_type": "display_data",
          "data": {
            "text/plain": [
              "<Figure size 640x480 with 4 Axes>"
            ],
            "image/png": "[encoded data removed]"
          },
          "metadata": {}
        },
        {
          "output_type": "display_data",
          "data": {
            "text/plain": [
              "                 f0            f1            f2       product\n",
              "count  99990.000000  99990.000000  99990.000000  99990.000000\n",
              "mean       0.500454      0.250141      2.502629     92.499684\n",
              "std        0.871844      0.504430      3.248149     44.288304\n",
              "min       -1.408605     -0.848218    -12.088328      0.000000\n",
              "25%       -0.072572     -0.200877      0.287784     56.497069\n",
              "50%        0.502405      0.250252      2.515969     91.847928\n",
              "75%        1.073626      0.700640      4.715035    128.563699\n",
              "max        2.362331      1.343769     16.003790    185.364347"
            ],
            "text/html": [
              "\n",
              "  <div id=\"df-7d1052fc-cee3-4de5-a2d0-4e91312774a3\" class=\"colab-df-container\">\n",
              "    <div>\n",
              "<style scoped>\n",
              "    .dataframe tbody tr th:only-of-type {\n",
              "        vertical-align: middle;\n",
              "    }\n",
              "\n",
              "    .dataframe tbody tr th {\n",
              "        vertical-align: top;\n",
              "    }\n",
              "\n",
              "    .dataframe thead th {\n",
              "        text-align: right;\n",
              "    }\n",
              "</style>\n",
              "<table border=\"1\" class=\"dataframe\">\n",
              "  <thead>\n",
              "    <tr style=\"text-align: right;\">\n",
              "      <th></th>\n",
              "      <th>f0</th>\n",
              "      <th>f1</th>\n",
              "      <th>f2</th>\n",
              "      <th>product</th>\n",
              "    </tr>\n",
              "  </thead>\n",
              "  <tbody>\n",
              "    <tr>\n",
              "      <th>count</th>\n",
              "      <td>99990.000000</td>\n",
              "      <td>99990.000000</td>\n",
              "      <td>99990.000000</td>\n",
              "      <td>99990.000000</td>\n",
              "    </tr>\n",
              "    <tr>\n",
              "      <th>mean</th>\n",
              "      <td>0.500454</td>\n",
              "      <td>0.250141</td>\n",
              "      <td>2.502629</td>\n",
              "      <td>92.499684</td>\n",
              "    </tr>\n",
              "    <tr>\n",
              "      <th>std</th>\n",
              "      <td>0.871844</td>\n",
              "      <td>0.504430</td>\n",
              "      <td>3.248149</td>\n",
              "      <td>44.288304</td>\n",
              "    </tr>\n",
              "    <tr>\n",
              "      <th>min</th>\n",
              "      <td>-1.408605</td>\n",
              "      <td>-0.848218</td>\n",
              "      <td>-12.088328</td>\n",
              "      <td>0.000000</td>\n",
              "    </tr>\n",
              "    <tr>\n",
              "      <th>25%</th>\n",
              "      <td>-0.072572</td>\n",
              "      <td>-0.200877</td>\n",
              "      <td>0.287784</td>\n",
              "      <td>56.497069</td>\n",
              "    </tr>\n",
              "    <tr>\n",
              "      <th>50%</th>\n",
              "      <td>0.502405</td>\n",
              "      <td>0.250252</td>\n",
              "      <td>2.515969</td>\n",
              "      <td>91.847928</td>\n",
              "    </tr>\n",
              "    <tr>\n",
              "      <th>75%</th>\n",
              "      <td>1.073626</td>\n",
              "      <td>0.700640</td>\n",
              "      <td>4.715035</td>\n",
              "      <td>128.563699</td>\n",
              "    </tr>\n",
              "    <tr>\n",
              "      <th>max</th>\n",
              "      <td>2.362331</td>\n",
              "      <td>1.343769</td>\n",
              "      <td>16.003790</td>\n",
              "      <td>185.364347</td>\n",
              "    </tr>\n",
              "  </tbody>\n",
              "</table>\n",
              "</div>\n",
              "    <div class=\"colab-df-buttons\">\n",
              "\n",
              "  <div class=\"colab-df-container\">\n",
              "    <button class=\"colab-df-convert\" onclick=\"convertToInteractive('df-7d1052fc-cee3-4de5-a2d0-4e91312774a3')\"\n",
              "            title=\"Convert this dataframe to an interactive table.\"\n",
              "            style=\"display:none;\">\n",
              "\n",
              "  <svg xmlns=\"http://www.w3.org/2000/svg\" height=\"24px\" viewBox=\"0 -960 960 960\">\n",
              "    <path d=\"M120-120v-720h720v720H120Zm60-500h600v-160H180v160Zm220 220h160v-160H400v160Zm0 220h160v-160H400v160ZM180-400h160v-160H180v160Zm440 0h160v-160H620v160ZM180-180h160v-160H180v160Zm440 0h160v-160H620v160Z\"/>\n",
              "  </svg>\n",
              "    </button>\n",
              "\n",
              "  <style>\n",
              "    .colab-df-container {\n",
              "      display:flex;\n",
              "      gap: 12px;\n",
              "    }\n",
              "\n",
              "    .colab-df-convert {\n",
              "      background-color: #E8F0FE;\n",
              "      border: none;\n",
              "      border-radius: 50%;\n",
              "      cursor: pointer;\n",
              "      display: none;\n",
              "      fill: #1967D2;\n",
              "      height: 32px;\n",
              "      padding: 0 0 0 0;\n",
              "      width: 32px;\n",
              "    }\n",
              "\n",
              "    .colab-df-convert:hover {\n",
              "      background-color: #E2EBFA;\n",
              "      box-shadow: 0px 1px 2px rgba(60, 64, 67, 0.3), 0px 1px 3px 1px rgba(60, 64, 67, 0.15);\n",
              "      fill: #174EA6;\n",
              "    }\n",
              "\n",
              "    .colab-df-buttons div {\n",
              "      margin-bottom: 4px;\n",
              "    }\n",
              "\n",
              "    [theme=dark] .colab-df-convert {\n",
              "      background-color: #3B4455;\n",
              "      fill: #D2E3FC;\n",
              "    }\n",
              "\n",
              "    [theme=dark] .colab-df-convert:hover {\n",
              "      background-color: #434B5C;\n",
              "      box-shadow: 0px 1px 3px 1px rgba(0, 0, 0, 0.15);\n",
              "      filter: drop-shadow(0px 1px 2px rgba(0, 0, 0, 0.3));\n",
              "      fill: #FFFFFF;\n",
              "    }\n",
              "  </style>\n",
              "\n",
              "    <script>\n",
              "      const buttonEl =\n",
              "        document.querySelector('#df-7d1052fc-cee3-4de5-a2d0-4e91312774a3 button.colab-df-convert');\n",
              "      buttonEl.style.display =\n",
              "        google.colab.kernel.accessAllowed ? 'block' : 'none';\n",
              "\n",
              "      async function convertToInteractive(key) {\n",
              "        const element = document.querySelector('#df-7d1052fc-cee3-4de5-a2d0-4e91312774a3');\n",
              "        const dataTable =\n",
              "          await google.colab.kernel.invokeFunction('convertToInteractive',\n",
              "                                                    [key], {});\n",
              "        if (!dataTable) return;\n",
              "\n",
              "        const docLinkHtml = 'Like what you see? Visit the ' +\n",
              "          '<a target=\"_blank\" href=https://colab.research.google.com/notebooks/data_table.ipynb>data table notebook</a>'\n",
              "          + ' to learn more about interactive tables.';\n",
              "        element.innerHTML = '';\n",
              "        dataTable['output_type'] = 'display_data';\n",
              "        await google.colab.output.renderOutput(dataTable, element);\n",
              "        const docLink = document.createElement('div');\n",
              "        docLink.innerHTML = docLinkHtml;\n",
              "        element.appendChild(docLink);\n",
              "      }\n",
              "    </script>\n",
              "  </div>\n",
              "\n",
              "\n",
              "<div id=\"df-af2f23fe-bd43-4505-9f1a-e7aa9eee5b94\">\n",
              "  <button class=\"colab-df-quickchart\" onclick=\"quickchart('df-af2f23fe-bd43-4505-9f1a-e7aa9eee5b94')\"\n",
              "            title=\"Suggest charts\"\n",
              "            style=\"display:none;\">\n",
              "\n",
              "<svg xmlns=\"http://www.w3.org/2000/svg\" height=\"24px\"viewBox=\"0 0 24 24\"\n",
              "     width=\"24px\">\n",
              "    <g>\n",
              "        <path d=\"M19 3H5c-1.1 0-2 .9-2 2v14c0 1.1.9 2 2 2h14c1.1 0 2-.9 2-2V5c0-1.1-.9-2-2-2zM9 17H7v-7h2v7zm4 0h-2V7h2v10zm4 0h-2v-4h2v4z\"/>\n",
              "    </g>\n",
              "</svg>\n",
              "  </button>\n",
              "\n",
              "<style>\n",
              "  .colab-df-quickchart {\n",
              "      --bg-color: #E8F0FE;\n",
              "      --fill-color: #1967D2;\n",
              "      --hover-bg-color: #E2EBFA;\n",
              "      --hover-fill-color: #174EA6;\n",
              "      --disabled-fill-color: #AAA;\n",
              "      --disabled-bg-color: #DDD;\n",
              "  }\n",
              "\n",
              "  [theme=dark] .colab-df-quickchart {\n",
              "      --bg-color: #3B4455;\n",
              "      --fill-color: #D2E3FC;\n",
              "      --hover-bg-color: #434B5C;\n",
              "      --hover-fill-color: #FFFFFF;\n",
              "      --disabled-bg-color: #3B4455;\n",
              "      --disabled-fill-color: #666;\n",
              "  }\n",
              "\n",
              "  .colab-df-quickchart {\n",
              "    background-color: var(--bg-color);\n",
              "    border: none;\n",
              "    border-radius: 50%;\n",
              "    cursor: pointer;\n",
              "    display: none;\n",
              "    fill: var(--fill-color);\n",
              "    height: 32px;\n",
              "    padding: 0;\n",
              "    width: 32px;\n",
              "  }\n",
              "\n",
              "  .colab-df-quickchart:hover {\n",
              "    background-color: var(--hover-bg-color);\n",
              "    box-shadow: 0 1px 2px rgba(60, 64, 67, 0.3), 0 1px 3px 1px rgba(60, 64, 67, 0.15);\n",
              "    fill: var(--button-hover-fill-color);\n",
              "  }\n",
              "\n",
              "  .colab-df-quickchart-complete:disabled,\n",
              "  .colab-df-quickchart-complete:disabled:hover {\n",
              "    background-color: var(--disabled-bg-color);\n",
              "    fill: var(--disabled-fill-color);\n",
              "    box-shadow: none;\n",
              "  }\n",
              "\n",
              "  .colab-df-spinner {\n",
              "    border: 2px solid var(--fill-color);\n",
              "    border-color: transparent;\n",
              "    border-bottom-color: var(--fill-color);\n",
              "    animation:\n",
              "      spin 1s steps(1) infinite;\n",
              "  }\n",
              "\n",
              "  @keyframes spin {\n",
              "    0% {\n",
              "      border-color: transparent;\n",
              "      border-bottom-color: var(--fill-color);\n",
              "      border-left-color: var(--fill-color);\n",
              "    }\n",
              "    20% {\n",
              "      border-color: transparent;\n",
              "      border-left-color: var(--fill-color);\n",
              "      border-top-color: var(--fill-color);\n",
              "    }\n",
              "    30% {\n",
              "      border-color: transparent;\n",
              "      border-left-color: var(--fill-color);\n",
              "      border-top-color: var(--fill-color);\n",
              "      border-right-color: var(--fill-color);\n",
              "    }\n",
              "    40% {\n",
              "      border-color: transparent;\n",
              "      border-right-color: var(--fill-color);\n",
              "      border-top-color: var(--fill-color);\n",
              "    }\n",
              "    60% {\n",
              "      border-color: transparent;\n",
              "      border-right-color: var(--fill-color);\n",
              "    }\n",
              "    80% {\n",
              "      border-color: transparent;\n",
              "      border-right-color: var(--fill-color);\n",
              "      border-bottom-color: var(--fill-color);\n",
              "    }\n",
              "    90% {\n",
              "      border-color: transparent;\n",
              "      border-bottom-color: var(--fill-color);\n",
              "    }\n",
              "  }\n",
              "</style>\n",
              "\n",
              "  <script>\n",
              "    async function quickchart(key) {\n",
              "      const quickchartButtonEl =\n",
              "        document.querySelector('#' + key + ' button');\n",
              "      quickchartButtonEl.disabled = true;  // To prevent multiple clicks.\n",
              "      quickchartButtonEl.classList.add('colab-df-spinner');\n",
              "      try {\n",
              "        const charts = await google.colab.kernel.invokeFunction(\n",
              "            'suggestCharts', [key], {});\n",
              "      } catch (error) {\n",
              "        console.error('Error during call to suggestCharts:', error);\n",
              "      }\n",
              "      quickchartButtonEl.classList.remove('colab-df-spinner');\n",
              "      quickchartButtonEl.classList.add('colab-df-quickchart-complete');\n",
              "    }\n",
              "    (() => {\n",
              "      let quickchartButtonEl =\n",
              "        document.querySelector('#df-af2f23fe-bd43-4505-9f1a-e7aa9eee5b94 button');\n",
              "      quickchartButtonEl.style.display =\n",
              "        google.colab.kernel.accessAllowed ? 'block' : 'none';\n",
              "    })();\n",
              "  </script>\n",
              "</div>\n",
              "    </div>\n",
              "  </div>\n"
            ],
            "application/vnd.google.colaboratory.intrinsic+json": {
              "type": "dataframe",
              "summary": "{\n  \"name\": \"df_plt_describe(df_1,[ 'f0','f1','f2','product'])\",\n  \"rows\": 8,\n  \"fields\": [\n    {\n      \"column\": \"f0\",\n      \"properties\": {\n        \"dtype\": \"number\",\n        \"std\": 35351.61012324208,\n        \"min\": -1.408605306026996,\n        \"max\": 99990.0,\n        \"num_unique_values\": 8,\n        \"samples\": [\n          0.5004544259880562,\n          0.5024054255613645,\n          99990.0\n        ],\n        \"semantic_type\": \"\",\n        \"description\": \"\"\n      }\n    },\n    {\n      \"column\": \"f1\",\n      \"properties\": {\n        \"dtype\": \"number\",\n        \"std\": 35351.70250907802,\n        \"min\": -0.8482184970082173,\n        \"max\": 99990.0,\n        \"num_unique_values\": 8,\n        \"samples\": [\n          0.2501406576124108,\n          0.25025228798345783,\n          99990.0\n        ],\n        \"semantic_type\": \"\",\n        \"description\": \"\"\n      }\n    },\n    {\n      \"column\": \"f2\",\n      \"properties\": {\n        \"dtype\": \"number\",\n        \"std\": 35350.93636978803,\n        \"min\": -12.08832811806336,\n        \"max\": 99990.0,\n        \"num_unique_values\": 8,\n        \"samples\": [\n          2.5026287103810834,\n          2.5159691067559757,\n          99990.0\n        ],\n        \"semantic_type\": \"\",\n        \"description\": \"\"\n      }\n    },\n    {\n      \"column\": \"product\",\n      \"properties\": {\n        \"dtype\": \"number\",\n        \"std\": 35321.59039110764,\n        \"min\": 0.0,\n        \"max\": 99990.0,\n        \"num_unique_values\": 8,\n        \"samples\": [\n          92.49968421774354,\n          91.84792790724278,\n          99990.0\n        ],\n        \"semantic_type\": \"\",\n        \"description\": \"\"\n      }\n    }\n  ]\n}"
            }
          },
          "metadata": {}
        }
      ],
      "source": [
        "df_plt_describe(df_1,[ 'f0','f1','f2','product'])"
      ]
    },
    {
      "cell_type": "markdown",
      "metadata": {
        "id": "GCS6pNAp7PKJ"
      },
      "source": [
        "### `df_2` это `geo_data_2.csv`"
      ]
    },
    {
      "cell_type": "code",
      "execution_count": 17,
      "metadata": {
        "colab": {
          "base_uri": "https://localhost:8080/",
          "height": 431
        },
        "id": "Bbs4iaNV7PKJ",
        "outputId": "4a6b8230-0234-4916-fb22-67ec544ed17d"
      },
      "outputs": [
        {
          "output_type": "display_data",
          "data": {
            "text/plain": [
              "      id        f0        f1        f2     product\n",
              "0  fwXo0 -1.146987  0.963328 -0.828965   27.758673\n",
              "1  WJtFt  0.262778  0.269839 -2.530187   56.069697\n",
              "2  ovLUW  0.194587  0.289035 -5.586433   62.871910\n",
              "3  q6cA6  2.236060 -0.553760  0.930038  114.572842\n",
              "4  WPMUX -0.515993  1.716266  5.899011  149.600746"
            ],
            "text/html": [
              "\n",
              "  <div id=\"df-070fe729-3739-4c86-8197-d794a66b5e28\" class=\"colab-df-container\">\n",
              "    <div>\n",
              "<style scoped>\n",
              "    .dataframe tbody tr th:only-of-type {\n",
              "        vertical-align: middle;\n",
              "    }\n",
              "\n",
              "    .dataframe tbody tr th {\n",
              "        vertical-align: top;\n",
              "    }\n",
              "\n",
              "    .dataframe thead th {\n",
              "        text-align: right;\n",
              "    }\n",
              "</style>\n",
              "<table border=\"1\" class=\"dataframe\">\n",
              "  <thead>\n",
              "    <tr style=\"text-align: right;\">\n",
              "      <th></th>\n",
              "      <th>id</th>\n",
              "      <th>f0</th>\n",
              "      <th>f1</th>\n",
              "      <th>f2</th>\n",
              "      <th>product</th>\n",
              "    </tr>\n",
              "  </thead>\n",
              "  <tbody>\n",
              "    <tr>\n",
              "      <th>0</th>\n",
              "      <td>fwXo0</td>\n",
              "      <td>-1.146987</td>\n",
              "      <td>0.963328</td>\n",
              "      <td>-0.828965</td>\n",
              "      <td>27.758673</td>\n",
              "    </tr>\n",
              "    <tr>\n",
              "      <th>1</th>\n",
              "      <td>WJtFt</td>\n",
              "      <td>0.262778</td>\n",
              "      <td>0.269839</td>\n",
              "      <td>-2.530187</td>\n",
              "      <td>56.069697</td>\n",
              "    </tr>\n",
              "    <tr>\n",
              "      <th>2</th>\n",
              "      <td>ovLUW</td>\n",
              "      <td>0.194587</td>\n",
              "      <td>0.289035</td>\n",
              "      <td>-5.586433</td>\n",
              "      <td>62.871910</td>\n",
              "    </tr>\n",
              "    <tr>\n",
              "      <th>3</th>\n",
              "      <td>q6cA6</td>\n",
              "      <td>2.236060</td>\n",
              "      <td>-0.553760</td>\n",
              "      <td>0.930038</td>\n",
              "      <td>114.572842</td>\n",
              "    </tr>\n",
              "    <tr>\n",
              "      <th>4</th>\n",
              "      <td>WPMUX</td>\n",
              "      <td>-0.515993</td>\n",
              "      <td>1.716266</td>\n",
              "      <td>5.899011</td>\n",
              "      <td>149.600746</td>\n",
              "    </tr>\n",
              "  </tbody>\n",
              "</table>\n",
              "</div>\n",
              "    <div class=\"colab-df-buttons\">\n",
              "\n",
              "  <div class=\"colab-df-container\">\n",
              "    <button class=\"colab-df-convert\" onclick=\"convertToInteractive('df-070fe729-3739-4c86-8197-d794a66b5e28')\"\n",
              "            title=\"Convert this dataframe to an interactive table.\"\n",
              "            style=\"display:none;\">\n",
              "\n",
              "  <svg xmlns=\"http://www.w3.org/2000/svg\" height=\"24px\" viewBox=\"0 -960 960 960\">\n",
              "    <path d=\"M120-120v-720h720v720H120Zm60-500h600v-160H180v160Zm220 220h160v-160H400v160Zm0 220h160v-160H400v160ZM180-400h160v-160H180v160Zm440 0h160v-160H620v160ZM180-180h160v-160H180v160Zm440 0h160v-160H620v160Z\"/>\n",
              "  </svg>\n",
              "    </button>\n",
              "\n",
              "  <style>\n",
              "    .colab-df-container {\n",
              "      display:flex;\n",
              "      gap: 12px;\n",
              "    }\n",
              "\n",
              "    .colab-df-convert {\n",
              "      background-color: #E8F0FE;\n",
              "      border: none;\n",
              "      border-radius: 50%;\n",
              "      cursor: pointer;\n",
              "      display: none;\n",
              "      fill: #1967D2;\n",
              "      height: 32px;\n",
              "      padding: 0 0 0 0;\n",
              "      width: 32px;\n",
              "    }\n",
              "\n",
              "    .colab-df-convert:hover {\n",
              "      background-color: #E2EBFA;\n",
              "      box-shadow: 0px 1px 2px rgba(60, 64, 67, 0.3), 0px 1px 3px 1px rgba(60, 64, 67, 0.15);\n",
              "      fill: #174EA6;\n",
              "    }\n",
              "\n",
              "    .colab-df-buttons div {\n",
              "      margin-bottom: 4px;\n",
              "    }\n",
              "\n",
              "    [theme=dark] .colab-df-convert {\n",
              "      background-color: #3B4455;\n",
              "      fill: #D2E3FC;\n",
              "    }\n",
              "\n",
              "    [theme=dark] .colab-df-convert:hover {\n",
              "      background-color: #434B5C;\n",
              "      box-shadow: 0px 1px 3px 1px rgba(0, 0, 0, 0.15);\n",
              "      filter: drop-shadow(0px 1px 2px rgba(0, 0, 0, 0.3));\n",
              "      fill: #FFFFFF;\n",
              "    }\n",
              "  </style>\n",
              "\n",
              "    <script>\n",
              "      const buttonEl =\n",
              "        document.querySelector('#df-070fe729-3739-4c86-8197-d794a66b5e28 button.colab-df-convert');\n",
              "      buttonEl.style.display =\n",
              "        google.colab.kernel.accessAllowed ? 'block' : 'none';\n",
              "\n",
              "      async function convertToInteractive(key) {\n",
              "        const element = document.querySelector('#df-070fe729-3739-4c86-8197-d794a66b5e28');\n",
              "        const dataTable =\n",
              "          await google.colab.kernel.invokeFunction('convertToInteractive',\n",
              "                                                    [key], {});\n",
              "        if (!dataTable) return;\n",
              "\n",
              "        const docLinkHtml = 'Like what you see? Visit the ' +\n",
              "          '<a target=\"_blank\" href=https://colab.research.google.com/notebooks/data_table.ipynb>data table notebook</a>'\n",
              "          + ' to learn more about interactive tables.';\n",
              "        element.innerHTML = '';\n",
              "        dataTable['output_type'] = 'display_data';\n",
              "        await google.colab.output.renderOutput(dataTable, element);\n",
              "        const docLink = document.createElement('div');\n",
              "        docLink.innerHTML = docLinkHtml;\n",
              "        element.appendChild(docLink);\n",
              "      }\n",
              "    </script>\n",
              "  </div>\n",
              "\n",
              "\n",
              "<div id=\"df-bb589e93-d1f1-49fc-8c89-4196450c0da7\">\n",
              "  <button class=\"colab-df-quickchart\" onclick=\"quickchart('df-bb589e93-d1f1-49fc-8c89-4196450c0da7')\"\n",
              "            title=\"Suggest charts\"\n",
              "            style=\"display:none;\">\n",
              "\n",
              "<svg xmlns=\"http://www.w3.org/2000/svg\" height=\"24px\"viewBox=\"0 0 24 24\"\n",
              "     width=\"24px\">\n",
              "    <g>\n",
              "        <path d=\"M19 3H5c-1.1 0-2 .9-2 2v14c0 1.1.9 2 2 2h14c1.1 0 2-.9 2-2V5c0-1.1-.9-2-2-2zM9 17H7v-7h2v7zm4 0h-2V7h2v10zm4 0h-2v-4h2v4z\"/>\n",
              "    </g>\n",
              "</svg>\n",
              "  </button>\n",
              "\n",
              "<style>\n",
              "  .colab-df-quickchart {\n",
              "      --bg-color: #E8F0FE;\n",
              "      --fill-color: #1967D2;\n",
              "      --hover-bg-color: #E2EBFA;\n",
              "      --hover-fill-color: #174EA6;\n",
              "      --disabled-fill-color: #AAA;\n",
              "      --disabled-bg-color: #DDD;\n",
              "  }\n",
              "\n",
              "  [theme=dark] .colab-df-quickchart {\n",
              "      --bg-color: #3B4455;\n",
              "      --fill-color: #D2E3FC;\n",
              "      --hover-bg-color: #434B5C;\n",
              "      --hover-fill-color: #FFFFFF;\n",
              "      --disabled-bg-color: #3B4455;\n",
              "      --disabled-fill-color: #666;\n",
              "  }\n",
              "\n",
              "  .colab-df-quickchart {\n",
              "    background-color: var(--bg-color);\n",
              "    border: none;\n",
              "    border-radius: 50%;\n",
              "    cursor: pointer;\n",
              "    display: none;\n",
              "    fill: var(--fill-color);\n",
              "    height: 32px;\n",
              "    padding: 0;\n",
              "    width: 32px;\n",
              "  }\n",
              "\n",
              "  .colab-df-quickchart:hover {\n",
              "    background-color: var(--hover-bg-color);\n",
              "    box-shadow: 0 1px 2px rgba(60, 64, 67, 0.3), 0 1px 3px 1px rgba(60, 64, 67, 0.15);\n",
              "    fill: var(--button-hover-fill-color);\n",
              "  }\n",
              "\n",
              "  .colab-df-quickchart-complete:disabled,\n",
              "  .colab-df-quickchart-complete:disabled:hover {\n",
              "    background-color: var(--disabled-bg-color);\n",
              "    fill: var(--disabled-fill-color);\n",
              "    box-shadow: none;\n",
              "  }\n",
              "\n",
              "  .colab-df-spinner {\n",
              "    border: 2px solid var(--fill-color);\n",
              "    border-color: transparent;\n",
              "    border-bottom-color: var(--fill-color);\n",
              "    animation:\n",
              "      spin 1s steps(1) infinite;\n",
              "  }\n",
              "\n",
              "  @keyframes spin {\n",
              "    0% {\n",
              "      border-color: transparent;\n",
              "      border-bottom-color: var(--fill-color);\n",
              "      border-left-color: var(--fill-color);\n",
              "    }\n",
              "    20% {\n",
              "      border-color: transparent;\n",
              "      border-left-color: var(--fill-color);\n",
              "      border-top-color: var(--fill-color);\n",
              "    }\n",
              "    30% {\n",
              "      border-color: transparent;\n",
              "      border-left-color: var(--fill-color);\n",
              "      border-top-color: var(--fill-color);\n",
              "      border-right-color: var(--fill-color);\n",
              "    }\n",
              "    40% {\n",
              "      border-color: transparent;\n",
              "      border-right-color: var(--fill-color);\n",
              "      border-top-color: var(--fill-color);\n",
              "    }\n",
              "    60% {\n",
              "      border-color: transparent;\n",
              "      border-right-color: var(--fill-color);\n",
              "    }\n",
              "    80% {\n",
              "      border-color: transparent;\n",
              "      border-right-color: var(--fill-color);\n",
              "      border-bottom-color: var(--fill-color);\n",
              "    }\n",
              "    90% {\n",
              "      border-color: transparent;\n",
              "      border-bottom-color: var(--fill-color);\n",
              "    }\n",
              "  }\n",
              "</style>\n",
              "\n",
              "  <script>\n",
              "    async function quickchart(key) {\n",
              "      const quickchartButtonEl =\n",
              "        document.querySelector('#' + key + ' button');\n",
              "      quickchartButtonEl.disabled = true;  // To prevent multiple clicks.\n",
              "      quickchartButtonEl.classList.add('colab-df-spinner');\n",
              "      try {\n",
              "        const charts = await google.colab.kernel.invokeFunction(\n",
              "            'suggestCharts', [key], {});\n",
              "      } catch (error) {\n",
              "        console.error('Error during call to suggestCharts:', error);\n",
              "      }\n",
              "      quickchartButtonEl.classList.remove('colab-df-spinner');\n",
              "      quickchartButtonEl.classList.add('colab-df-quickchart-complete');\n",
              "    }\n",
              "    (() => {\n",
              "      let quickchartButtonEl =\n",
              "        document.querySelector('#df-bb589e93-d1f1-49fc-8c89-4196450c0da7 button');\n",
              "      quickchartButtonEl.style.display =\n",
              "        google.colab.kernel.accessAllowed ? 'block' : 'none';\n",
              "    })();\n",
              "  </script>\n",
              "</div>\n",
              "    </div>\n",
              "  </div>\n"
            ],
            "application/vnd.google.colaboratory.intrinsic+json": {
              "type": "dataframe",
              "summary": "{\n  \"name\": \"display(df_2\",\n  \"rows\": 5,\n  \"fields\": [\n    {\n      \"column\": \"id\",\n      \"properties\": {\n        \"dtype\": \"string\",\n        \"num_unique_values\": 5,\n        \"samples\": [\n          \"WJtFt\",\n          \"WPMUX\",\n          \"ovLUW\"\n        ],\n        \"semantic_type\": \"\",\n        \"description\": \"\"\n      }\n    },\n    {\n      \"column\": \"f0\",\n      \"properties\": {\n        \"dtype\": \"number\",\n        \"std\": 1.2724330784485451,\n        \"min\": -1.1469870984179529,\n        \"max\": 2.2360596126935817,\n        \"num_unique_values\": 5,\n        \"samples\": [\n          0.2627779016539684,\n          -0.5159928644136754,\n          0.1945872816586574\n        ],\n        \"semantic_type\": \"\",\n        \"description\": \"\"\n      }\n    },\n    {\n      \"column\": \"f1\",\n      \"properties\": {\n        \"dtype\": \"number\",\n        \"std\": 0.8507410831594653,\n        \"min\": -0.5537598999099264,\n        \"max\": 1.7162655596688288,\n        \"num_unique_values\": 5,\n        \"samples\": [\n          0.2698389572803021,\n          1.7162655596688288,\n          0.2890350017576741\n        ],\n        \"semantic_type\": \"\",\n        \"description\": \"\"\n      }\n    },\n    {\n      \"column\": \"f2\",\n      \"properties\": {\n        \"dtype\": \"number\",\n        \"std\": 4.273892249638099,\n        \"min\": -5.586432770903118,\n        \"max\": 5.899011469346728,\n        \"num_unique_values\": 5,\n        \"samples\": [\n          -2.530186515492004,\n          5.899011469346728,\n          -5.586432770903118\n        ],\n        \"semantic_type\": \"\",\n        \"description\": \"\"\n      }\n    },\n    {\n      \"column\": \"product\",\n      \"properties\": {\n        \"dtype\": \"number\",\n        \"std\": 49.018068406027936,\n        \"min\": 27.75867323073004,\n        \"max\": 149.60074591275887,\n        \"num_unique_values\": 5,\n        \"samples\": [\n          56.06969663239464,\n          149.60074591275887,\n          62.87191004763475\n        ],\n        \"semantic_type\": \"\",\n        \"description\": \"\"\n      }\n    }\n  ]\n}"
            }
          },
          "metadata": {}
        },
        {
          "output_type": "stream",
          "name": "stdout",
          "text": [
            "<class 'pandas.core.frame.DataFrame'>\n",
            "RangeIndex: 100000 entries, 0 to 99999\n",
            "Data columns (total 5 columns):\n",
            " #   Column   Non-Null Count   Dtype  \n",
            "---  ------   --------------   -----  \n",
            " 0   id       100000 non-null  object \n",
            " 1   f0       100000 non-null  float64\n",
            " 2   f1       100000 non-null  float64\n",
            " 3   f2       100000 non-null  float64\n",
            " 4   product  100000 non-null  float64\n",
            "dtypes: float64(4), object(1)\n",
            "memory usage: 3.8+ MB\n"
          ]
        },
        {
          "output_type": "display_data",
          "data": {
            "text/plain": [
              "None"
            ]
          },
          "metadata": {}
        }
      ],
      "source": [
        "df_2 = pd.read_csv(pth + '/geo_data_2.csv')\n",
        "display(df_2.head(5))\n",
        "display(df_2.info())"
      ]
    },
    {
      "cell_type": "code",
      "execution_count": 18,
      "metadata": {
        "colab": {
          "base_uri": "https://localhost:8080/",
          "height": 34
        },
        "id": "2TYproAS7PKJ",
        "outputId": "6ce8b87e-f425-4468-9998-9fc9780697a8"
      },
      "outputs": [
        {
          "output_type": "display_data",
          "data": {
            "text/plain": [
              "99996"
            ]
          },
          "metadata": {}
        }
      ],
      "source": [
        "display(len(df_2['id'].unique()))"
      ]
    },
    {
      "cell_type": "code",
      "execution_count": 19,
      "metadata": {
        "colab": {
          "base_uri": "https://localhost:8080/",
          "height": 300
        },
        "id": "bUx5HSmH7PKJ",
        "outputId": "dff4f1e9-cda0-4395-e241-0a2538cc7016"
      },
      "outputs": [
        {
          "output_type": "execute_result",
          "data": {
            "text/plain": [
              "          id        f0        f1        f2     product\n",
              "45404  KUPhW  0.231846 -1.698941  4.990775   11.716299\n",
              "55967  KUPhW  1.211150  3.176408  5.543540  132.831802\n",
              "11449  VF7Jo  2.122656 -0.858275  5.746001  181.716817\n",
              "49564  VF7Jo -0.883115  0.560537  0.723601  136.233420\n",
              "44378  Vcm5J -1.229484 -2.439204  1.222909  137.968290\n",
              "95090  Vcm5J  2.587702  1.986875  2.482245   92.327572\n",
              "28039  xCHr8  1.633027  0.368135 -2.378367    6.120525\n",
              "43233  xCHr8 -0.847066  2.101796  5.597130  184.388641"
            ],
            "text/html": [
              "\n",
              "  <div id=\"df-e8f72878-cee5-4a68-b361-43574429f140\" class=\"colab-df-container\">\n",
              "    <div>\n",
              "<style scoped>\n",
              "    .dataframe tbody tr th:only-of-type {\n",
              "        vertical-align: middle;\n",
              "    }\n",
              "\n",
              "    .dataframe tbody tr th {\n",
              "        vertical-align: top;\n",
              "    }\n",
              "\n",
              "    .dataframe thead th {\n",
              "        text-align: right;\n",
              "    }\n",
              "</style>\n",
              "<table border=\"1\" class=\"dataframe\">\n",
              "  <thead>\n",
              "    <tr style=\"text-align: right;\">\n",
              "      <th></th>\n",
              "      <th>id</th>\n",
              "      <th>f0</th>\n",
              "      <th>f1</th>\n",
              "      <th>f2</th>\n",
              "      <th>product</th>\n",
              "    </tr>\n",
              "  </thead>\n",
              "  <tbody>\n",
              "    <tr>\n",
              "      <th>45404</th>\n",
              "      <td>KUPhW</td>\n",
              "      <td>0.231846</td>\n",
              "      <td>-1.698941</td>\n",
              "      <td>4.990775</td>\n",
              "      <td>11.716299</td>\n",
              "    </tr>\n",
              "    <tr>\n",
              "      <th>55967</th>\n",
              "      <td>KUPhW</td>\n",
              "      <td>1.211150</td>\n",
              "      <td>3.176408</td>\n",
              "      <td>5.543540</td>\n",
              "      <td>132.831802</td>\n",
              "    </tr>\n",
              "    <tr>\n",
              "      <th>11449</th>\n",
              "      <td>VF7Jo</td>\n",
              "      <td>2.122656</td>\n",
              "      <td>-0.858275</td>\n",
              "      <td>5.746001</td>\n",
              "      <td>181.716817</td>\n",
              "    </tr>\n",
              "    <tr>\n",
              "      <th>49564</th>\n",
              "      <td>VF7Jo</td>\n",
              "      <td>-0.883115</td>\n",
              "      <td>0.560537</td>\n",
              "      <td>0.723601</td>\n",
              "      <td>136.233420</td>\n",
              "    </tr>\n",
              "    <tr>\n",
              "      <th>44378</th>\n",
              "      <td>Vcm5J</td>\n",
              "      <td>-1.229484</td>\n",
              "      <td>-2.439204</td>\n",
              "      <td>1.222909</td>\n",
              "      <td>137.968290</td>\n",
              "    </tr>\n",
              "    <tr>\n",
              "      <th>95090</th>\n",
              "      <td>Vcm5J</td>\n",
              "      <td>2.587702</td>\n",
              "      <td>1.986875</td>\n",
              "      <td>2.482245</td>\n",
              "      <td>92.327572</td>\n",
              "    </tr>\n",
              "    <tr>\n",
              "      <th>28039</th>\n",
              "      <td>xCHr8</td>\n",
              "      <td>1.633027</td>\n",
              "      <td>0.368135</td>\n",
              "      <td>-2.378367</td>\n",
              "      <td>6.120525</td>\n",
              "    </tr>\n",
              "    <tr>\n",
              "      <th>43233</th>\n",
              "      <td>xCHr8</td>\n",
              "      <td>-0.847066</td>\n",
              "      <td>2.101796</td>\n",
              "      <td>5.597130</td>\n",
              "      <td>184.388641</td>\n",
              "    </tr>\n",
              "  </tbody>\n",
              "</table>\n",
              "</div>\n",
              "    <div class=\"colab-df-buttons\">\n",
              "\n",
              "  <div class=\"colab-df-container\">\n",
              "    <button class=\"colab-df-convert\" onclick=\"convertToInteractive('df-e8f72878-cee5-4a68-b361-43574429f140')\"\n",
              "            title=\"Convert this dataframe to an interactive table.\"\n",
              "            style=\"display:none;\">\n",
              "\n",
              "  <svg xmlns=\"http://www.w3.org/2000/svg\" height=\"24px\" viewBox=\"0 -960 960 960\">\n",
              "    <path d=\"M120-120v-720h720v720H120Zm60-500h600v-160H180v160Zm220 220h160v-160H400v160Zm0 220h160v-160H400v160ZM180-400h160v-160H180v160Zm440 0h160v-160H620v160ZM180-180h160v-160H180v160Zm440 0h160v-160H620v160Z\"/>\n",
              "  </svg>\n",
              "    </button>\n",
              "\n",
              "  <style>\n",
              "    .colab-df-container {\n",
              "      display:flex;\n",
              "      gap: 12px;\n",
              "    }\n",
              "\n",
              "    .colab-df-convert {\n",
              "      background-color: #E8F0FE;\n",
              "      border: none;\n",
              "      border-radius: 50%;\n",
              "      cursor: pointer;\n",
              "      display: none;\n",
              "      fill: #1967D2;\n",
              "      height: 32px;\n",
              "      padding: 0 0 0 0;\n",
              "      width: 32px;\n",
              "    }\n",
              "\n",
              "    .colab-df-convert:hover {\n",
              "      background-color: #E2EBFA;\n",
              "      box-shadow: 0px 1px 2px rgba(60, 64, 67, 0.3), 0px 1px 3px 1px rgba(60, 64, 67, 0.15);\n",
              "      fill: #174EA6;\n",
              "    }\n",
              "\n",
              "    .colab-df-buttons div {\n",
              "      margin-bottom: 4px;\n",
              "    }\n",
              "\n",
              "    [theme=dark] .colab-df-convert {\n",
              "      background-color: #3B4455;\n",
              "      fill: #D2E3FC;\n",
              "    }\n",
              "\n",
              "    [theme=dark] .colab-df-convert:hover {\n",
              "      background-color: #434B5C;\n",
              "      box-shadow: 0px 1px 3px 1px rgba(0, 0, 0, 0.15);\n",
              "      filter: drop-shadow(0px 1px 2px rgba(0, 0, 0, 0.3));\n",
              "      fill: #FFFFFF;\n",
              "    }\n",
              "  </style>\n",
              "\n",
              "    <script>\n",
              "      const buttonEl =\n",
              "        document.querySelector('#df-e8f72878-cee5-4a68-b361-43574429f140 button.colab-df-convert');\n",
              "      buttonEl.style.display =\n",
              "        google.colab.kernel.accessAllowed ? 'block' : 'none';\n",
              "\n",
              "      async function convertToInteractive(key) {\n",
              "        const element = document.querySelector('#df-e8f72878-cee5-4a68-b361-43574429f140');\n",
              "        const dataTable =\n",
              "          await google.colab.kernel.invokeFunction('convertToInteractive',\n",
              "                                                    [key], {});\n",
              "        if (!dataTable) return;\n",
              "\n",
              "        const docLinkHtml = 'Like what you see? Visit the ' +\n",
              "          '<a target=\"_blank\" href=https://colab.research.google.com/notebooks/data_table.ipynb>data table notebook</a>'\n",
              "          + ' to learn more about interactive tables.';\n",
              "        element.innerHTML = '';\n",
              "        dataTable['output_type'] = 'display_data';\n",
              "        await google.colab.output.renderOutput(dataTable, element);\n",
              "        const docLink = document.createElement('div');\n",
              "        docLink.innerHTML = docLinkHtml;\n",
              "        element.appendChild(docLink);\n",
              "      }\n",
              "    </script>\n",
              "  </div>\n",
              "\n",
              "\n",
              "<div id=\"df-5c5e8e52-d4d5-4cf0-8b60-096b03ad57e8\">\n",
              "  <button class=\"colab-df-quickchart\" onclick=\"quickchart('df-5c5e8e52-d4d5-4cf0-8b60-096b03ad57e8')\"\n",
              "            title=\"Suggest charts\"\n",
              "            style=\"display:none;\">\n",
              "\n",
              "<svg xmlns=\"http://www.w3.org/2000/svg\" height=\"24px\"viewBox=\"0 0 24 24\"\n",
              "     width=\"24px\">\n",
              "    <g>\n",
              "        <path d=\"M19 3H5c-1.1 0-2 .9-2 2v14c0 1.1.9 2 2 2h14c1.1 0 2-.9 2-2V5c0-1.1-.9-2-2-2zM9 17H7v-7h2v7zm4 0h-2V7h2v10zm4 0h-2v-4h2v4z\"/>\n",
              "    </g>\n",
              "</svg>\n",
              "  </button>\n",
              "\n",
              "<style>\n",
              "  .colab-df-quickchart {\n",
              "      --bg-color: #E8F0FE;\n",
              "      --fill-color: #1967D2;\n",
              "      --hover-bg-color: #E2EBFA;\n",
              "      --hover-fill-color: #174EA6;\n",
              "      --disabled-fill-color: #AAA;\n",
              "      --disabled-bg-color: #DDD;\n",
              "  }\n",
              "\n",
              "  [theme=dark] .colab-df-quickchart {\n",
              "      --bg-color: #3B4455;\n",
              "      --fill-color: #D2E3FC;\n",
              "      --hover-bg-color: #434B5C;\n",
              "      --hover-fill-color: #FFFFFF;\n",
              "      --disabled-bg-color: #3B4455;\n",
              "      --disabled-fill-color: #666;\n",
              "  }\n",
              "\n",
              "  .colab-df-quickchart {\n",
              "    background-color: var(--bg-color);\n",
              "    border: none;\n",
              "    border-radius: 50%;\n",
              "    cursor: pointer;\n",
              "    display: none;\n",
              "    fill: var(--fill-color);\n",
              "    height: 32px;\n",
              "    padding: 0;\n",
              "    width: 32px;\n",
              "  }\n",
              "\n",
              "  .colab-df-quickchart:hover {\n",
              "    background-color: var(--hover-bg-color);\n",
              "    box-shadow: 0 1px 2px rgba(60, 64, 67, 0.3), 0 1px 3px 1px rgba(60, 64, 67, 0.15);\n",
              "    fill: var(--button-hover-fill-color);\n",
              "  }\n",
              "\n",
              "  .colab-df-quickchart-complete:disabled,\n",
              "  .colab-df-quickchart-complete:disabled:hover {\n",
              "    background-color: var(--disabled-bg-color);\n",
              "    fill: var(--disabled-fill-color);\n",
              "    box-shadow: none;\n",
              "  }\n",
              "\n",
              "  .colab-df-spinner {\n",
              "    border: 2px solid var(--fill-color);\n",
              "    border-color: transparent;\n",
              "    border-bottom-color: var(--fill-color);\n",
              "    animation:\n",
              "      spin 1s steps(1) infinite;\n",
              "  }\n",
              "\n",
              "  @keyframes spin {\n",
              "    0% {\n",
              "      border-color: transparent;\n",
              "      border-bottom-color: var(--fill-color);\n",
              "      border-left-color: var(--fill-color);\n",
              "    }\n",
              "    20% {\n",
              "      border-color: transparent;\n",
              "      border-left-color: var(--fill-color);\n",
              "      border-top-color: var(--fill-color);\n",
              "    }\n",
              "    30% {\n",
              "      border-color: transparent;\n",
              "      border-left-color: var(--fill-color);\n",
              "      border-top-color: var(--fill-color);\n",
              "      border-right-color: var(--fill-color);\n",
              "    }\n",
              "    40% {\n",
              "      border-color: transparent;\n",
              "      border-right-color: var(--fill-color);\n",
              "      border-top-color: var(--fill-color);\n",
              "    }\n",
              "    60% {\n",
              "      border-color: transparent;\n",
              "      border-right-color: var(--fill-color);\n",
              "    }\n",
              "    80% {\n",
              "      border-color: transparent;\n",
              "      border-right-color: var(--fill-color);\n",
              "      border-bottom-color: var(--fill-color);\n",
              "    }\n",
              "    90% {\n",
              "      border-color: transparent;\n",
              "      border-bottom-color: var(--fill-color);\n",
              "    }\n",
              "  }\n",
              "</style>\n",
              "\n",
              "  <script>\n",
              "    async function quickchart(key) {\n",
              "      const quickchartButtonEl =\n",
              "        document.querySelector('#' + key + ' button');\n",
              "      quickchartButtonEl.disabled = true;  // To prevent multiple clicks.\n",
              "      quickchartButtonEl.classList.add('colab-df-spinner');\n",
              "      try {\n",
              "        const charts = await google.colab.kernel.invokeFunction(\n",
              "            'suggestCharts', [key], {});\n",
              "      } catch (error) {\n",
              "        console.error('Error during call to suggestCharts:', error);\n",
              "      }\n",
              "      quickchartButtonEl.classList.remove('colab-df-spinner');\n",
              "      quickchartButtonEl.classList.add('colab-df-quickchart-complete');\n",
              "    }\n",
              "    (() => {\n",
              "      let quickchartButtonEl =\n",
              "        document.querySelector('#df-5c5e8e52-d4d5-4cf0-8b60-096b03ad57e8 button');\n",
              "      quickchartButtonEl.style.display =\n",
              "        google.colab.kernel.accessAllowed ? 'block' : 'none';\n",
              "    })();\n",
              "  </script>\n",
              "</div>\n",
              "    </div>\n",
              "  </div>\n"
            ],
            "application/vnd.google.colaboratory.intrinsic+json": {
              "type": "dataframe",
              "summary": "{\n  \"name\": \"df_2[df_2['id']\",\n  \"rows\": 8,\n  \"fields\": [\n    {\n      \"column\": \"id\",\n      \"properties\": {\n        \"dtype\": \"string\",\n        \"num_unique_values\": 4,\n        \"samples\": [\n          \"VF7Jo\",\n          \"xCHr8\",\n          \"KUPhW\"\n        ],\n        \"semantic_type\": \"\",\n        \"description\": \"\"\n      }\n    },\n    {\n      \"column\": \"f0\",\n      \"properties\": {\n        \"dtype\": \"number\",\n        \"std\": 1.4873841551876756,\n        \"min\": -1.22948409371565,\n        \"max\": 2.5877022015401687,\n        \"num_unique_values\": 8,\n        \"samples\": [\n          1.2111504969333158,\n          2.5877022015401687,\n          0.2318463212163305\n        ],\n        \"semantic_type\": \"\",\n        \"description\": \"\"\n      }\n    },\n    {\n      \"column\": \"f1\",\n      \"properties\": {\n        \"dtype\": \"number\",\n        \"std\": 1.9711997192119233,\n        \"min\": -2.43920363300028,\n        \"max\": 3.1764081825798742,\n        \"num_unique_values\": 8,\n        \"samples\": [\n          3.1764081825798742,\n          1.9868750030562543,\n          -1.6989411200541402\n        ],\n        \"semantic_type\": \"\",\n        \"description\": \"\"\n      }\n    },\n    {\n      \"column\": \"f2\",\n      \"properties\": {\n        \"dtype\": \"number\",\n        \"std\": 2.9821538443006994,\n        \"min\": -2.37836744238992,\n        \"max\": 5.7460011622286284,\n        \"num_unique_values\": 8,\n        \"samples\": [\n          5.54353969863736,\n          2.4822448030879936,\n          4.99077473402697\n        ],\n        \"semantic_type\": \"\",\n        \"description\": \"\"\n      }\n    },\n    {\n      \"column\": \"product\",\n      \"properties\": {\n        \"dtype\": \"number\",\n        \"std\": 69.1068142379137,\n        \"min\": 6.120525198275293,\n        \"max\": 184.3886413724209,\n        \"num_unique_values\": 8,\n        \"samples\": [\n          132.83180203624136,\n          92.32757215224984,\n          11.71629903187472\n        ],\n        \"semantic_type\": \"\",\n        \"description\": \"\"\n      }\n    }\n  ]\n}"
            }
          },
          "metadata": {},
          "execution_count": 19
        }
      ],
      "source": [
        "_df_2 = df_2.groupby('id')['id'].count()\n",
        "df_2[df_2['id'].isin(_df_2[_df_2.values>1].index)].sort_values(by='id')"
      ]
    },
    {
      "cell_type": "markdown",
      "metadata": {
        "id": "nP7hKarT7PKJ"
      },
      "source": [
        "* тоже разные данные!\n",
        "* будем удалять!"
      ]
    },
    {
      "cell_type": "code",
      "execution_count": 20,
      "metadata": {
        "id": "qZaIWn0B7PKJ"
      },
      "outputs": [],
      "source": [
        "df_2.drop_duplicates(subset='id',inplace=True)"
      ]
    },
    {
      "cell_type": "code",
      "execution_count": 21,
      "metadata": {
        "colab": {
          "base_uri": "https://localhost:8080/",
          "height": 53
        },
        "id": "kjfE-HRe7PKN",
        "outputId": "e7610413-0402-41bd-fd75-8ca9b6ef2e79"
      },
      "outputs": [
        {
          "output_type": "execute_result",
          "data": {
            "text/plain": [
              "Empty DataFrame\n",
              "Columns: [id, f0, f1, f2, product]\n",
              "Index: []"
            ],
            "text/html": [
              "\n",
              "  <div id=\"df-b7459daa-5be7-42d5-ba50-2afb34ae567d\" class=\"colab-df-container\">\n",
              "    <div>\n",
              "<style scoped>\n",
              "    .dataframe tbody tr th:only-of-type {\n",
              "        vertical-align: middle;\n",
              "    }\n",
              "\n",
              "    .dataframe tbody tr th {\n",
              "        vertical-align: top;\n",
              "    }\n",
              "\n",
              "    .dataframe thead th {\n",
              "        text-align: right;\n",
              "    }\n",
              "</style>\n",
              "<table border=\"1\" class=\"dataframe\">\n",
              "  <thead>\n",
              "    <tr style=\"text-align: right;\">\n",
              "      <th></th>\n",
              "      <th>id</th>\n",
              "      <th>f0</th>\n",
              "      <th>f1</th>\n",
              "      <th>f2</th>\n",
              "      <th>product</th>\n",
              "    </tr>\n",
              "  </thead>\n",
              "  <tbody>\n",
              "  </tbody>\n",
              "</table>\n",
              "</div>\n",
              "    <div class=\"colab-df-buttons\">\n",
              "\n",
              "  <div class=\"colab-df-container\">\n",
              "    <button class=\"colab-df-convert\" onclick=\"convertToInteractive('df-b7459daa-5be7-42d5-ba50-2afb34ae567d')\"\n",
              "            title=\"Convert this dataframe to an interactive table.\"\n",
              "            style=\"display:none;\">\n",
              "\n",
              "  <svg xmlns=\"http://www.w3.org/2000/svg\" height=\"24px\" viewBox=\"0 -960 960 960\">\n",
              "    <path d=\"M120-120v-720h720v720H120Zm60-500h600v-160H180v160Zm220 220h160v-160H400v160Zm0 220h160v-160H400v160ZM180-400h160v-160H180v160Zm440 0h160v-160H620v160ZM180-180h160v-160H180v160Zm440 0h160v-160H620v160Z\"/>\n",
              "  </svg>\n",
              "    </button>\n",
              "\n",
              "  <style>\n",
              "    .colab-df-container {\n",
              "      display:flex;\n",
              "      gap: 12px;\n",
              "    }\n",
              "\n",
              "    .colab-df-convert {\n",
              "      background-color: #E8F0FE;\n",
              "      border: none;\n",
              "      border-radius: 50%;\n",
              "      cursor: pointer;\n",
              "      display: none;\n",
              "      fill: #1967D2;\n",
              "      height: 32px;\n",
              "      padding: 0 0 0 0;\n",
              "      width: 32px;\n",
              "    }\n",
              "\n",
              "    .colab-df-convert:hover {\n",
              "      background-color: #E2EBFA;\n",
              "      box-shadow: 0px 1px 2px rgba(60, 64, 67, 0.3), 0px 1px 3px 1px rgba(60, 64, 67, 0.15);\n",
              "      fill: #174EA6;\n",
              "    }\n",
              "\n",
              "    .colab-df-buttons div {\n",
              "      margin-bottom: 4px;\n",
              "    }\n",
              "\n",
              "    [theme=dark] .colab-df-convert {\n",
              "      background-color: #3B4455;\n",
              "      fill: #D2E3FC;\n",
              "    }\n",
              "\n",
              "    [theme=dark] .colab-df-convert:hover {\n",
              "      background-color: #434B5C;\n",
              "      box-shadow: 0px 1px 3px 1px rgba(0, 0, 0, 0.15);\n",
              "      filter: drop-shadow(0px 1px 2px rgba(0, 0, 0, 0.3));\n",
              "      fill: #FFFFFF;\n",
              "    }\n",
              "  </style>\n",
              "\n",
              "    <script>\n",
              "      const buttonEl =\n",
              "        document.querySelector('#df-b7459daa-5be7-42d5-ba50-2afb34ae567d button.colab-df-convert');\n",
              "      buttonEl.style.display =\n",
              "        google.colab.kernel.accessAllowed ? 'block' : 'none';\n",
              "\n",
              "      async function convertToInteractive(key) {\n",
              "        const element = document.querySelector('#df-b7459daa-5be7-42d5-ba50-2afb34ae567d');\n",
              "        const dataTable =\n",
              "          await google.colab.kernel.invokeFunction('convertToInteractive',\n",
              "                                                    [key], {});\n",
              "        if (!dataTable) return;\n",
              "\n",
              "        const docLinkHtml = 'Like what you see? Visit the ' +\n",
              "          '<a target=\"_blank\" href=https://colab.research.google.com/notebooks/data_table.ipynb>data table notebook</a>'\n",
              "          + ' to learn more about interactive tables.';\n",
              "        element.innerHTML = '';\n",
              "        dataTable['output_type'] = 'display_data';\n",
              "        await google.colab.output.renderOutput(dataTable, element);\n",
              "        const docLink = document.createElement('div');\n",
              "        docLink.innerHTML = docLinkHtml;\n",
              "        element.appendChild(docLink);\n",
              "      }\n",
              "    </script>\n",
              "  </div>\n",
              "\n",
              "    </div>\n",
              "  </div>\n"
            ],
            "application/vnd.google.colaboratory.intrinsic+json": {
              "type": "dataframe",
              "repr_error": "Out of range float values are not JSON compliant: nan"
            }
          },
          "metadata": {},
          "execution_count": 21
        }
      ],
      "source": [
        "_df_2 = df_2.groupby('id')['id'].count()\n",
        "df_2[df_2['id'].isin(_df_2[_df_2.values>1].index)].sort_values(by='id')"
      ]
    },
    {
      "cell_type": "code",
      "execution_count": 22,
      "metadata": {
        "colab": {
          "base_uri": "https://localhost:8080/",
          "height": 1000
        },
        "id": "eF1BcOeQ7PKN",
        "outputId": "5d872b76-08f9-4111-cfa6-ac87a399be90"
      },
      "outputs": [
        {
          "output_type": "display_data",
          "data": {
            "text/plain": [
              "<Figure size 640x480 with 4 Axes>"
            ],
            "image/png": "[encoded data removed]"
          },
          "metadata": {}
        },
        {
          "output_type": "display_data",
          "data": {
            "text/plain": [
              "<Figure size 640x480 with 4 Axes>"
            ],
            "image/png": "[encoded data removed]"
          },
          "metadata": {}
        },
        {
          "output_type": "display_data",
          "data": {
            "text/plain": [
              "                 f0            f1            f2       product\n",
              "count  99990.000000  99990.000000  99990.000000  99990.000000\n",
              "mean       0.500454      0.250141      2.502629     92.499684\n",
              "std        0.871844      0.504430      3.248149     44.288304\n",
              "min       -1.408605     -0.848218    -12.088328      0.000000\n",
              "25%       -0.072572     -0.200877      0.287784     56.497069\n",
              "50%        0.502405      0.250252      2.515969     91.847928\n",
              "75%        1.073626      0.700640      4.715035    128.563699\n",
              "max        2.362331      1.343769     16.003790    185.364347"
            ],
            "text/html": [
              "\n",
              "  <div id=\"df-0f86cc04-c7be-4d8b-9b91-204ecf71fc8a\" class=\"colab-df-container\">\n",
              "    <div>\n",
              "<style scoped>\n",
              "    .dataframe tbody tr th:only-of-type {\n",
              "        vertical-align: middle;\n",
              "    }\n",
              "\n",
              "    .dataframe tbody tr th {\n",
              "        vertical-align: top;\n",
              "    }\n",
              "\n",
              "    .dataframe thead th {\n",
              "        text-align: right;\n",
              "    }\n",
              "</style>\n",
              "<table border=\"1\" class=\"dataframe\">\n",
              "  <thead>\n",
              "    <tr style=\"text-align: right;\">\n",
              "      <th></th>\n",
              "      <th>f0</th>\n",
              "      <th>f1</th>\n",
              "      <th>f2</th>\n",
              "      <th>product</th>\n",
              "    </tr>\n",
              "  </thead>\n",
              "  <tbody>\n",
              "    <tr>\n",
              "      <th>count</th>\n",
              "      <td>99990.000000</td>\n",
              "      <td>99990.000000</td>\n",
              "      <td>99990.000000</td>\n",
              "      <td>99990.000000</td>\n",
              "    </tr>\n",
              "    <tr>\n",
              "      <th>mean</th>\n",
              "      <td>0.500454</td>\n",
              "      <td>0.250141</td>\n",
              "      <td>2.502629</td>\n",
              "      <td>92.499684</td>\n",
              "    </tr>\n",
              "    <tr>\n",
              "      <th>std</th>\n",
              "      <td>0.871844</td>\n",
              "      <td>0.504430</td>\n",
              "      <td>3.248149</td>\n",
              "      <td>44.288304</td>\n",
              "    </tr>\n",
              "    <tr>\n",
              "      <th>min</th>\n",
              "      <td>-1.408605</td>\n",
              "      <td>-0.848218</td>\n",
              "      <td>-12.088328</td>\n",
              "      <td>0.000000</td>\n",
              "    </tr>\n",
              "    <tr>\n",
              "      <th>25%</th>\n",
              "      <td>-0.072572</td>\n",
              "      <td>-0.200877</td>\n",
              "      <td>0.287784</td>\n",
              "      <td>56.497069</td>\n",
              "    </tr>\n",
              "    <tr>\n",
              "      <th>50%</th>\n",
              "      <td>0.502405</td>\n",
              "      <td>0.250252</td>\n",
              "      <td>2.515969</td>\n",
              "      <td>91.847928</td>\n",
              "    </tr>\n",
              "    <tr>\n",
              "      <th>75%</th>\n",
              "      <td>1.073626</td>\n",
              "      <td>0.700640</td>\n",
              "      <td>4.715035</td>\n",
              "      <td>128.563699</td>\n",
              "    </tr>\n",
              "    <tr>\n",
              "      <th>max</th>\n",
              "      <td>2.362331</td>\n",
              "      <td>1.343769</td>\n",
              "      <td>16.003790</td>\n",
              "      <td>185.364347</td>\n",
              "    </tr>\n",
              "  </tbody>\n",
              "</table>\n",
              "</div>\n",
              "    <div class=\"colab-df-buttons\">\n",
              "\n",
              "  <div class=\"colab-df-container\">\n",
              "    <button class=\"colab-df-convert\" onclick=\"convertToInteractive('df-0f86cc04-c7be-4d8b-9b91-204ecf71fc8a')\"\n",
              "            title=\"Convert this dataframe to an interactive table.\"\n",
              "            style=\"display:none;\">\n",
              "\n",
              "  <svg xmlns=\"http://www.w3.org/2000/svg\" height=\"24px\" viewBox=\"0 -960 960 960\">\n",
              "    <path d=\"M120-120v-720h720v720H120Zm60-500h600v-160H180v160Zm220 220h160v-160H400v160Zm0 220h160v-160H400v160ZM180-400h160v-160H180v160Zm440 0h160v-160H620v160ZM180-180h160v-160H180v160Zm440 0h160v-160H620v160Z\"/>\n",
              "  </svg>\n",
              "    </button>\n",
              "\n",
              "  <style>\n",
              "    .colab-df-container {\n",
              "      display:flex;\n",
              "      gap: 12px;\n",
              "    }\n",
              "\n",
              "    .colab-df-convert {\n",
              "      background-color: #E8F0FE;\n",
              "      border: none;\n",
              "      border-radius: 50%;\n",
              "      cursor: pointer;\n",
              "      display: none;\n",
              "      fill: #1967D2;\n",
              "      height: 32px;\n",
              "      padding: 0 0 0 0;\n",
              "      width: 32px;\n",
              "    }\n",
              "\n",
              "    .colab-df-convert:hover {\n",
              "      background-color: #E2EBFA;\n",
              "      box-shadow: 0px 1px 2px rgba(60, 64, 67, 0.3), 0px 1px 3px 1px rgba(60, 64, 67, 0.15);\n",
              "      fill: #174EA6;\n",
              "    }\n",
              "\n",
              "    .colab-df-buttons div {\n",
              "      margin-bottom: 4px;\n",
              "    }\n",
              "\n",
              "    [theme=dark] .colab-df-convert {\n",
              "      background-color: #3B4455;\n",
              "      fill: #D2E3FC;\n",
              "    }\n",
              "\n",
              "    [theme=dark] .colab-df-convert:hover {\n",
              "      background-color: #434B5C;\n",
              "      box-shadow: 0px 1px 3px 1px rgba(0, 0, 0, 0.15);\n",
              "      filter: drop-shadow(0px 1px 2px rgba(0, 0, 0, 0.3));\n",
              "      fill: #FFFFFF;\n",
              "    }\n",
              "  </style>\n",
              "\n",
              "    <script>\n",
              "      const buttonEl =\n",
              "        document.querySelector('#df-0f86cc04-c7be-4d8b-9b91-204ecf71fc8a button.colab-df-convert');\n",
              "      buttonEl.style.display =\n",
              "        google.colab.kernel.accessAllowed ? 'block' : 'none';\n",
              "\n",
              "      async function convertToInteractive(key) {\n",
              "        const element = document.querySelector('#df-0f86cc04-c7be-4d8b-9b91-204ecf71fc8a');\n",
              "        const dataTable =\n",
              "          await google.colab.kernel.invokeFunction('convertToInteractive',\n",
              "                                                    [key], {});\n",
              "        if (!dataTable) return;\n",
              "\n",
              "        const docLinkHtml = 'Like what you see? Visit the ' +\n",
              "          '<a target=\"_blank\" href=https://colab.research.google.com/notebooks/data_table.ipynb>data table notebook</a>'\n",
              "          + ' to learn more about interactive tables.';\n",
              "        element.innerHTML = '';\n",
              "        dataTable['output_type'] = 'display_data';\n",
              "        await google.colab.output.renderOutput(dataTable, element);\n",
              "        const docLink = document.createElement('div');\n",
              "        docLink.innerHTML = docLinkHtml;\n",
              "        element.appendChild(docLink);\n",
              "      }\n",
              "    </script>\n",
              "  </div>\n",
              "\n",
              "\n",
              "<div id=\"df-cdcad093-ec8d-40c0-912f-6ed4dc03e2af\">\n",
              "  <button class=\"colab-df-quickchart\" onclick=\"quickchart('df-cdcad093-ec8d-40c0-912f-6ed4dc03e2af')\"\n",
              "            title=\"Suggest charts\"\n",
              "            style=\"display:none;\">\n",
              "\n",
              "<svg xmlns=\"http://www.w3.org/2000/svg\" height=\"24px\"viewBox=\"0 0 24 24\"\n",
              "     width=\"24px\">\n",
              "    <g>\n",
              "        <path d=\"M19 3H5c-1.1 0-2 .9-2 2v14c0 1.1.9 2 2 2h14c1.1 0 2-.9 2-2V5c0-1.1-.9-2-2-2zM9 17H7v-7h2v7zm4 0h-2V7h2v10zm4 0h-2v-4h2v4z\"/>\n",
              "    </g>\n",
              "</svg>\n",
              "  </button>\n",
              "\n",
              "<style>\n",
              "  .colab-df-quickchart {\n",
              "      --bg-color: #E8F0FE;\n",
              "      --fill-color: #1967D2;\n",
              "      --hover-bg-color: #E2EBFA;\n",
              "      --hover-fill-color: #174EA6;\n",
              "      --disabled-fill-color: #AAA;\n",
              "      --disabled-bg-color: #DDD;\n",
              "  }\n",
              "\n",
              "  [theme=dark] .colab-df-quickchart {\n",
              "      --bg-color: #3B4455;\n",
              "      --fill-color: #D2E3FC;\n",
              "      --hover-bg-color: #434B5C;\n",
              "      --hover-fill-color: #FFFFFF;\n",
              "      --disabled-bg-color: #3B4455;\n",
              "      --disabled-fill-color: #666;\n",
              "  }\n",
              "\n",
              "  .colab-df-quickchart {\n",
              "    background-color: var(--bg-color);\n",
              "    border: none;\n",
              "    border-radius: 50%;\n",
              "    cursor: pointer;\n",
              "    display: none;\n",
              "    fill: var(--fill-color);\n",
              "    height: 32px;\n",
              "    padding: 0;\n",
              "    width: 32px;\n",
              "  }\n",
              "\n",
              "  .colab-df-quickchart:hover {\n",
              "    background-color: var(--hover-bg-color);\n",
              "    box-shadow: 0 1px 2px rgba(60, 64, 67, 0.3), 0 1px 3px 1px rgba(60, 64, 67, 0.15);\n",
              "    fill: var(--button-hover-fill-color);\n",
              "  }\n",
              "\n",
              "  .colab-df-quickchart-complete:disabled,\n",
              "  .colab-df-quickchart-complete:disabled:hover {\n",
              "    background-color: var(--disabled-bg-color);\n",
              "    fill: var(--disabled-fill-color);\n",
              "    box-shadow: none;\n",
              "  }\n",
              "\n",
              "  .colab-df-spinner {\n",
              "    border: 2px solid var(--fill-color);\n",
              "    border-color: transparent;\n",
              "    border-bottom-color: var(--fill-color);\n",
              "    animation:\n",
              "      spin 1s steps(1) infinite;\n",
              "  }\n",
              "\n",
              "  @keyframes spin {\n",
              "    0% {\n",
              "      border-color: transparent;\n",
              "      border-bottom-color: var(--fill-color);\n",
              "      border-left-color: var(--fill-color);\n",
              "    }\n",
              "    20% {\n",
              "      border-color: transparent;\n",
              "      border-left-color: var(--fill-color);\n",
              "      border-top-color: var(--fill-color);\n",
              "    }\n",
              "    30% {\n",
              "      border-color: transparent;\n",
              "      border-left-color: var(--fill-color);\n",
              "      border-top-color: var(--fill-color);\n",
              "      border-right-color: var(--fill-color);\n",
              "    }\n",
              "    40% {\n",
              "      border-color: transparent;\n",
              "      border-right-color: var(--fill-color);\n",
              "      border-top-color: var(--fill-color);\n",
              "    }\n",
              "    60% {\n",
              "      border-color: transparent;\n",
              "      border-right-color: var(--fill-color);\n",
              "    }\n",
              "    80% {\n",
              "      border-color: transparent;\n",
              "      border-right-color: var(--fill-color);\n",
              "      border-bottom-color: var(--fill-color);\n",
              "    }\n",
              "    90% {\n",
              "      border-color: transparent;\n",
              "      border-bottom-color: var(--fill-color);\n",
              "    }\n",
              "  }\n",
              "</style>\n",
              "\n",
              "  <script>\n",
              "    async function quickchart(key) {\n",
              "      const quickchartButtonEl =\n",
              "        document.querySelector('#' + key + ' button');\n",
              "      quickchartButtonEl.disabled = true;  // To prevent multiple clicks.\n",
              "      quickchartButtonEl.classList.add('colab-df-spinner');\n",
              "      try {\n",
              "        const charts = await google.colab.kernel.invokeFunction(\n",
              "            'suggestCharts', [key], {});\n",
              "      } catch (error) {\n",
              "        console.error('Error during call to suggestCharts:', error);\n",
              "      }\n",
              "      quickchartButtonEl.classList.remove('colab-df-spinner');\n",
              "      quickchartButtonEl.classList.add('colab-df-quickchart-complete');\n",
              "    }\n",
              "    (() => {\n",
              "      let quickchartButtonEl =\n",
              "        document.querySelector('#df-cdcad093-ec8d-40c0-912f-6ed4dc03e2af button');\n",
              "      quickchartButtonEl.style.display =\n",
              "        google.colab.kernel.accessAllowed ? 'block' : 'none';\n",
              "    })();\n",
              "  </script>\n",
              "</div>\n",
              "    </div>\n",
              "  </div>\n"
            ],
            "application/vnd.google.colaboratory.intrinsic+json": {
              "type": "dataframe",
              "summary": "{\n  \"name\": \"df_plt_describe(df_2,[ 'f0',\\t'f1',\\t'f2',\\t'product'])\",\n  \"rows\": 8,\n  \"fields\": [\n    {\n      \"column\": \"f0\",\n      \"properties\": {\n        \"dtype\": \"number\",\n        \"std\": 35351.61012324208,\n        \"min\": -1.408605306026996,\n        \"max\": 99990.0,\n        \"num_unique_values\": 8,\n        \"samples\": [\n          0.5004544259880562,\n          0.5024054255613645,\n          99990.0\n        ],\n        \"semantic_type\": \"\",\n        \"description\": \"\"\n      }\n    },\n    {\n      \"column\": \"f1\",\n      \"properties\": {\n        \"dtype\": \"number\",\n        \"std\": 35351.70250907802,\n        \"min\": -0.8482184970082173,\n        \"max\": 99990.0,\n        \"num_unique_values\": 8,\n        \"samples\": [\n          0.2501406576124108,\n          0.25025228798345783,\n          99990.0\n        ],\n        \"semantic_type\": \"\",\n        \"description\": \"\"\n      }\n    },\n    {\n      \"column\": \"f2\",\n      \"properties\": {\n        \"dtype\": \"number\",\n        \"std\": 35350.93636978803,\n        \"min\": -12.08832811806336,\n        \"max\": 99990.0,\n        \"num_unique_values\": 8,\n        \"samples\": [\n          2.5026287103810834,\n          2.5159691067559757,\n          99990.0\n        ],\n        \"semantic_type\": \"\",\n        \"description\": \"\"\n      }\n    },\n    {\n      \"column\": \"product\",\n      \"properties\": {\n        \"dtype\": \"number\",\n        \"std\": 35321.59039110764,\n        \"min\": 0.0,\n        \"max\": 99990.0,\n        \"num_unique_values\": 8,\n        \"samples\": [\n          92.49968421774354,\n          91.84792790724278,\n          99990.0\n        ],\n        \"semantic_type\": \"\",\n        \"description\": \"\"\n      }\n    }\n  ]\n}"
            }
          },
          "metadata": {}
        }
      ],
      "source": [
        "df_plt_describe(df_2,[ 'f0',\t'f1',\t'f2',\t'product'])"
      ]
    },
    {
      "cell_type": "markdown",
      "metadata": {
        "id": "u0iN5dlF7PKN"
      },
      "source": [
        "* данные отличаются по каждаму региону\n",
        "* но у всех регионов нет выбросов"
      ]
    },
    {
      "cell_type": "markdown",
      "metadata": {
        "id": "-Zh3oRhU7PKO"
      },
      "source": [
        "* имеются одинаковые скважены в разных регионах\n",
        "* их не много такчто удалим визде и все оденаковые"
      ]
    },
    {
      "cell_type": "code",
      "execution_count": 23,
      "metadata": {
        "colab": {
          "base_uri": "https://localhost:8080/",
          "height": 1000
        },
        "id": "h1e4SAFs7PKO",
        "outputId": "83041431-ca3c-4aae-eac7-b780b12d3954"
      },
      "outputs": [
        {
          "output_type": "display_data",
          "data": {
            "text/plain": [
              "'Регион 0 и 1 совпадения'"
            ],
            "application/vnd.google.colaboratory.intrinsic+json": {
              "type": "string"
            }
          },
          "metadata": {}
        },
        {
          "output_type": "display_data",
          "data": {
            "text/plain": [
              "          id        f0        f1        f2     product\n",
              "1419   Q64YW  0.453692  0.851595  1.483317  137.265232\n",
              "14777  CXJ2r  1.799663  0.152615  2.308270  124.783815\n",
              "44057  Y2udP  1.226808 -0.482702  7.197720  178.864963\n",
              "44242  g3RRG  1.256835 -0.594468  2.258115   36.909351\n",
              "66852  mpZhE  1.050752  0.001206  3.015799  102.323401\n",
              "71547  L1Fdm -0.870625  0.216046  6.551127   99.473405\n",
              "75589  it2OW -0.649660  0.966137  7.852383  152.939409\n",
              "86152  gnA83  0.874183  0.658348  4.315275   78.952516\n",
              "87474  Mp3uM  0.233182  0.999516  1.626957  109.425501\n",
              "93783  pGQRI  0.042350 -0.052613  2.241901  168.331029"
            ],
            "text/html": [
              "\n",
              "  <div id=\"df-bc332d25-7c06-40db-8684-1f141d97a3d7\" class=\"colab-df-container\">\n",
              "    <div>\n",
              "<style scoped>\n",
              "    .dataframe tbody tr th:only-of-type {\n",
              "        vertical-align: middle;\n",
              "    }\n",
              "\n",
              "    .dataframe tbody tr th {\n",
              "        vertical-align: top;\n",
              "    }\n",
              "\n",
              "    .dataframe thead th {\n",
              "        text-align: right;\n",
              "    }\n",
              "</style>\n",
              "<table border=\"1\" class=\"dataframe\">\n",
              "  <thead>\n",
              "    <tr style=\"text-align: right;\">\n",
              "      <th></th>\n",
              "      <th>id</th>\n",
              "      <th>f0</th>\n",
              "      <th>f1</th>\n",
              "      <th>f2</th>\n",
              "      <th>product</th>\n",
              "    </tr>\n",
              "  </thead>\n",
              "  <tbody>\n",
              "    <tr>\n",
              "      <th>1419</th>\n",
              "      <td>Q64YW</td>\n",
              "      <td>0.453692</td>\n",
              "      <td>0.851595</td>\n",
              "      <td>1.483317</td>\n",
              "      <td>137.265232</td>\n",
              "    </tr>\n",
              "    <tr>\n",
              "      <th>14777</th>\n",
              "      <td>CXJ2r</td>\n",
              "      <td>1.799663</td>\n",
              "      <td>0.152615</td>\n",
              "      <td>2.308270</td>\n",
              "      <td>124.783815</td>\n",
              "    </tr>\n",
              "    <tr>\n",
              "      <th>44057</th>\n",
              "      <td>Y2udP</td>\n",
              "      <td>1.226808</td>\n",
              "      <td>-0.482702</td>\n",
              "      <td>7.197720</td>\n",
              "      <td>178.864963</td>\n",
              "    </tr>\n",
              "    <tr>\n",
              "      <th>44242</th>\n",
              "      <td>g3RRG</td>\n",
              "      <td>1.256835</td>\n",
              "      <td>-0.594468</td>\n",
              "      <td>2.258115</td>\n",
              "      <td>36.909351</td>\n",
              "    </tr>\n",
              "    <tr>\n",
              "      <th>66852</th>\n",
              "      <td>mpZhE</td>\n",
              "      <td>1.050752</td>\n",
              "      <td>0.001206</td>\n",
              "      <td>3.015799</td>\n",
              "      <td>102.323401</td>\n",
              "    </tr>\n",
              "    <tr>\n",
              "      <th>71547</th>\n",
              "      <td>L1Fdm</td>\n",
              "      <td>-0.870625</td>\n",
              "      <td>0.216046</td>\n",
              "      <td>6.551127</td>\n",
              "      <td>99.473405</td>\n",
              "    </tr>\n",
              "    <tr>\n",
              "      <th>75589</th>\n",
              "      <td>it2OW</td>\n",
              "      <td>-0.649660</td>\n",
              "      <td>0.966137</td>\n",
              "      <td>7.852383</td>\n",
              "      <td>152.939409</td>\n",
              "    </tr>\n",
              "    <tr>\n",
              "      <th>86152</th>\n",
              "      <td>gnA83</td>\n",
              "      <td>0.874183</td>\n",
              "      <td>0.658348</td>\n",
              "      <td>4.315275</td>\n",
              "      <td>78.952516</td>\n",
              "    </tr>\n",
              "    <tr>\n",
              "      <th>87474</th>\n",
              "      <td>Mp3uM</td>\n",
              "      <td>0.233182</td>\n",
              "      <td>0.999516</td>\n",
              "      <td>1.626957</td>\n",
              "      <td>109.425501</td>\n",
              "    </tr>\n",
              "    <tr>\n",
              "      <th>93783</th>\n",
              "      <td>pGQRI</td>\n",
              "      <td>0.042350</td>\n",
              "      <td>-0.052613</td>\n",
              "      <td>2.241901</td>\n",
              "      <td>168.331029</td>\n",
              "    </tr>\n",
              "  </tbody>\n",
              "</table>\n",
              "</div>\n",
              "    <div class=\"colab-df-buttons\">\n",
              "\n",
              "  <div class=\"colab-df-container\">\n",
              "    <button class=\"colab-df-convert\" onclick=\"convertToInteractive('df-bc332d25-7c06-40db-8684-1f141d97a3d7')\"\n",
              "            title=\"Convert this dataframe to an interactive table.\"\n",
              "            style=\"display:none;\">\n",
              "\n",
              "  <svg xmlns=\"http://www.w3.org/2000/svg\" height=\"24px\" viewBox=\"0 -960 960 960\">\n",
              "    <path d=\"M120-120v-720h720v720H120Zm60-500h600v-160H180v160Zm220 220h160v-160H400v160Zm0 220h160v-160H400v160ZM180-400h160v-160H180v160Zm440 0h160v-160H620v160ZM180-180h160v-160H180v160Zm440 0h160v-160H620v160Z\"/>\n",
              "  </svg>\n",
              "    </button>\n",
              "\n",
              "  <style>\n",
              "    .colab-df-container {\n",
              "      display:flex;\n",
              "      gap: 12px;\n",
              "    }\n",
              "\n",
              "    .colab-df-convert {\n",
              "      background-color: #E8F0FE;\n",
              "      border: none;\n",
              "      border-radius: 50%;\n",
              "      cursor: pointer;\n",
              "      display: none;\n",
              "      fill: #1967D2;\n",
              "      height: 32px;\n",
              "      padding: 0 0 0 0;\n",
              "      width: 32px;\n",
              "    }\n",
              "\n",
              "    .colab-df-convert:hover {\n",
              "      background-color: #E2EBFA;\n",
              "      box-shadow: 0px 1px 2px rgba(60, 64, 67, 0.3), 0px 1px 3px 1px rgba(60, 64, 67, 0.15);\n",
              "      fill: #174EA6;\n",
              "    }\n",
              "\n",
              "    .colab-df-buttons div {\n",
              "      margin-bottom: 4px;\n",
              "    }\n",
              "\n",
              "    [theme=dark] .colab-df-convert {\n",
              "      background-color: #3B4455;\n",
              "      fill: #D2E3FC;\n",
              "    }\n",
              "\n",
              "    [theme=dark] .colab-df-convert:hover {\n",
              "      background-color: #434B5C;\n",
              "      box-shadow: 0px 1px 3px 1px rgba(0, 0, 0, 0.15);\n",
              "      filter: drop-shadow(0px 1px 2px rgba(0, 0, 0, 0.3));\n",
              "      fill: #FFFFFF;\n",
              "    }\n",
              "  </style>\n",
              "\n",
              "    <script>\n",
              "      const buttonEl =\n",
              "        document.querySelector('#df-bc332d25-7c06-40db-8684-1f141d97a3d7 button.colab-df-convert');\n",
              "      buttonEl.style.display =\n",
              "        google.colab.kernel.accessAllowed ? 'block' : 'none';\n",
              "\n",
              "      async function convertToInteractive(key) {\n",
              "        const element = document.querySelector('#df-bc332d25-7c06-40db-8684-1f141d97a3d7');\n",
              "        const dataTable =\n",
              "          await google.colab.kernel.invokeFunction('convertToInteractive',\n",
              "                                                    [key], {});\n",
              "        if (!dataTable) return;\n",
              "\n",
              "        const docLinkHtml = 'Like what you see? Visit the ' +\n",
              "          '<a target=\"_blank\" href=https://colab.research.google.com/notebooks/data_table.ipynb>data table notebook</a>'\n",
              "          + ' to learn more about interactive tables.';\n",
              "        element.innerHTML = '';\n",
              "        dataTable['output_type'] = 'display_data';\n",
              "        await google.colab.output.renderOutput(dataTable, element);\n",
              "        const docLink = document.createElement('div');\n",
              "        docLink.innerHTML = docLinkHtml;\n",
              "        element.appendChild(docLink);\n",
              "      }\n",
              "    </script>\n",
              "  </div>\n",
              "\n",
              "\n",
              "<div id=\"df-da75f8cd-84c7-4991-a2d1-1f5cb1b06cfe\">\n",
              "  <button class=\"colab-df-quickchart\" onclick=\"quickchart('df-da75f8cd-84c7-4991-a2d1-1f5cb1b06cfe')\"\n",
              "            title=\"Suggest charts\"\n",
              "            style=\"display:none;\">\n",
              "\n",
              "<svg xmlns=\"http://www.w3.org/2000/svg\" height=\"24px\"viewBox=\"0 0 24 24\"\n",
              "     width=\"24px\">\n",
              "    <g>\n",
              "        <path d=\"M19 3H5c-1.1 0-2 .9-2 2v14c0 1.1.9 2 2 2h14c1.1 0 2-.9 2-2V5c0-1.1-.9-2-2-2zM9 17H7v-7h2v7zm4 0h-2V7h2v10zm4 0h-2v-4h2v4z\"/>\n",
              "    </g>\n",
              "</svg>\n",
              "  </button>\n",
              "\n",
              "<style>\n",
              "  .colab-df-quickchart {\n",
              "      --bg-color: #E8F0FE;\n",
              "      --fill-color: #1967D2;\n",
              "      --hover-bg-color: #E2EBFA;\n",
              "      --hover-fill-color: #174EA6;\n",
              "      --disabled-fill-color: #AAA;\n",
              "      --disabled-bg-color: #DDD;\n",
              "  }\n",
              "\n",
              "  [theme=dark] .colab-df-quickchart {\n",
              "      --bg-color: #3B4455;\n",
              "      --fill-color: #D2E3FC;\n",
              "      --hover-bg-color: #434B5C;\n",
              "      --hover-fill-color: #FFFFFF;\n",
              "      --disabled-bg-color: #3B4455;\n",
              "      --disabled-fill-color: #666;\n",
              "  }\n",
              "\n",
              "  .colab-df-quickchart {\n",
              "    background-color: var(--bg-color);\n",
              "    border: none;\n",
              "    border-radius: 50%;\n",
              "    cursor: pointer;\n",
              "    display: none;\n",
              "    fill: var(--fill-color);\n",
              "    height: 32px;\n",
              "    padding: 0;\n",
              "    width: 32px;\n",
              "  }\n",
              "\n",
              "  .colab-df-quickchart:hover {\n",
              "    background-color: var(--hover-bg-color);\n",
              "    box-shadow: 0 1px 2px rgba(60, 64, 67, 0.3), 0 1px 3px 1px rgba(60, 64, 67, 0.15);\n",
              "    fill: var(--button-hover-fill-color);\n",
              "  }\n",
              "\n",
              "  .colab-df-quickchart-complete:disabled,\n",
              "  .colab-df-quickchart-complete:disabled:hover {\n",
              "    background-color: var(--disabled-bg-color);\n",
              "    fill: var(--disabled-fill-color);\n",
              "    box-shadow: none;\n",
              "  }\n",
              "\n",
              "  .colab-df-spinner {\n",
              "    border: 2px solid var(--fill-color);\n",
              "    border-color: transparent;\n",
              "    border-bottom-color: var(--fill-color);\n",
              "    animation:\n",
              "      spin 1s steps(1) infinite;\n",
              "  }\n",
              "\n",
              "  @keyframes spin {\n",
              "    0% {\n",
              "      border-color: transparent;\n",
              "      border-bottom-color: var(--fill-color);\n",
              "      border-left-color: var(--fill-color);\n",
              "    }\n",
              "    20% {\n",
              "      border-color: transparent;\n",
              "      border-left-color: var(--fill-color);\n",
              "      border-top-color: var(--fill-color);\n",
              "    }\n",
              "    30% {\n",
              "      border-color: transparent;\n",
              "      border-left-color: var(--fill-color);\n",
              "      border-top-color: var(--fill-color);\n",
              "      border-right-color: var(--fill-color);\n",
              "    }\n",
              "    40% {\n",
              "      border-color: transparent;\n",
              "      border-right-color: var(--fill-color);\n",
              "      border-top-color: var(--fill-color);\n",
              "    }\n",
              "    60% {\n",
              "      border-color: transparent;\n",
              "      border-right-color: var(--fill-color);\n",
              "    }\n",
              "    80% {\n",
              "      border-color: transparent;\n",
              "      border-right-color: var(--fill-color);\n",
              "      border-bottom-color: var(--fill-color);\n",
              "    }\n",
              "    90% {\n",
              "      border-color: transparent;\n",
              "      border-bottom-color: var(--fill-color);\n",
              "    }\n",
              "  }\n",
              "</style>\n",
              "\n",
              "  <script>\n",
              "    async function quickchart(key) {\n",
              "      const quickchartButtonEl =\n",
              "        document.querySelector('#' + key + ' button');\n",
              "      quickchartButtonEl.disabled = true;  // To prevent multiple clicks.\n",
              "      quickchartButtonEl.classList.add('colab-df-spinner');\n",
              "      try {\n",
              "        const charts = await google.colab.kernel.invokeFunction(\n",
              "            'suggestCharts', [key], {});\n",
              "      } catch (error) {\n",
              "        console.error('Error during call to suggestCharts:', error);\n",
              "      }\n",
              "      quickchartButtonEl.classList.remove('colab-df-spinner');\n",
              "      quickchartButtonEl.classList.add('colab-df-quickchart-complete');\n",
              "    }\n",
              "    (() => {\n",
              "      let quickchartButtonEl =\n",
              "        document.querySelector('#df-da75f8cd-84c7-4991-a2d1-1f5cb1b06cfe button');\n",
              "      quickchartButtonEl.style.display =\n",
              "        google.colab.kernel.accessAllowed ? 'block' : 'none';\n",
              "    })();\n",
              "  </script>\n",
              "</div>\n",
              "    </div>\n",
              "  </div>\n"
            ],
            "application/vnd.google.colaboratory.intrinsic+json": {
              "type": "dataframe",
              "summary": "{\n  \"name\": \"df_2 = df_2\",\n  \"rows\": 10,\n  \"fields\": [\n    {\n      \"column\": \"id\",\n      \"properties\": {\n        \"dtype\": \"string\",\n        \"num_unique_values\": 10,\n        \"samples\": [\n          \"Mp3uM\",\n          \"CXJ2r\",\n          \"L1Fdm\"\n        ],\n        \"semantic_type\": \"\",\n        \"description\": \"\"\n      }\n    },\n    {\n      \"column\": \"f0\",\n      \"properties\": {\n        \"dtype\": \"number\",\n        \"std\": 0.8627616923700356,\n        \"min\": -0.8706251013704795,\n        \"max\": 1.7996633464929332,\n        \"num_unique_values\": 10,\n        \"samples\": [\n          0.2331824525137455,\n          1.7996633464929332,\n          -0.8706251013704795\n        ],\n        \"semantic_type\": \"\",\n        \"description\": \"\"\n      }\n    },\n    {\n      \"column\": \"f1\",\n      \"properties\": {\n        \"dtype\": \"number\",\n        \"std\": 0.5785736450793381,\n        \"min\": -0.5944676206328989,\n        \"max\": 0.9995164136406192,\n        \"num_unique_values\": 10,\n        \"samples\": [\n          0.9995164136406192,\n          0.1526145941593926,\n          0.2160459791460082\n        ],\n        \"semantic_type\": \"\",\n        \"description\": \"\"\n      }\n    },\n    {\n      \"column\": \"f2\",\n      \"properties\": {\n        \"dtype\": \"number\",\n        \"std\": 2.437270164018154,\n        \"min\": 1.4833169528831354,\n        \"max\": 7.852383353754829,\n        \"num_unique_values\": 10,\n        \"samples\": [\n          1.6269568113013142,\n          2.308270283755607,\n          6.551127289400393\n        ],\n        \"semantic_type\": \"\",\n        \"description\": \"\"\n      }\n    },\n    {\n      \"column\": \"product\",\n      \"properties\": {\n        \"dtype\": \"number\",\n        \"std\": 42.985797485133034,\n        \"min\": 36.90935058033784,\n        \"max\": 178.86496266842911,\n        \"num_unique_values\": 10,\n        \"samples\": [\n          109.42550069550808,\n          124.78381502451988,\n          99.47340479250111\n        ],\n        \"semantic_type\": \"\",\n        \"description\": \"\"\n      }\n    }\n  ]\n}"
            }
          },
          "metadata": {}
        },
        {
          "output_type": "display_data",
          "data": {
            "text/plain": [
              "'Удаление по индексам'"
            ],
            "application/vnd.google.colaboratory.intrinsic+json": {
              "type": "string"
            }
          },
          "metadata": {}
        },
        {
          "output_type": "display_data",
          "data": {
            "text/plain": [
              "Index([1419, 14777, 44057, 44242, 66852, 71547, 75589, 86152, 87474, 93783], dtype='int64')"
            ]
          },
          "metadata": {}
        },
        {
          "output_type": "display_data",
          "data": {
            "text/plain": [
              "Index([23086, 46293, 47203, 75179, 76544, 81779, 94352, 97856, 99665, 99975], dtype='int64')"
            ]
          },
          "metadata": {}
        },
        {
          "output_type": "display_data",
          "data": {
            "text/plain": [
              "'Результат удаления'"
            ],
            "application/vnd.google.colaboratory.intrinsic+json": {
              "type": "string"
            }
          },
          "metadata": {}
        },
        {
          "output_type": "display_data",
          "data": {
            "text/plain": [
              "Empty DataFrame\n",
              "Columns: [id, f0, f1, f2, product]\n",
              "Index: []"
            ],
            "text/html": [
              "\n",
              "  <div id=\"df-b6a10ebd-fed1-4898-affe-632fbb01db94\" class=\"colab-df-container\">\n",
              "    <div>\n",
              "<style scoped>\n",
              "    .dataframe tbody tr th:only-of-type {\n",
              "        vertical-align: middle;\n",
              "    }\n",
              "\n",
              "    .dataframe tbody tr th {\n",
              "        vertical-align: top;\n",
              "    }\n",
              "\n",
              "    .dataframe thead th {\n",
              "        text-align: right;\n",
              "    }\n",
              "</style>\n",
              "<table border=\"1\" class=\"dataframe\">\n",
              "  <thead>\n",
              "    <tr style=\"text-align: right;\">\n",
              "      <th></th>\n",
              "      <th>id</th>\n",
              "      <th>f0</th>\n",
              "      <th>f1</th>\n",
              "      <th>f2</th>\n",
              "      <th>product</th>\n",
              "    </tr>\n",
              "  </thead>\n",
              "  <tbody>\n",
              "  </tbody>\n",
              "</table>\n",
              "</div>\n",
              "    <div class=\"colab-df-buttons\">\n",
              "\n",
              "  <div class=\"colab-df-container\">\n",
              "    <button class=\"colab-df-convert\" onclick=\"convertToInteractive('df-b6a10ebd-fed1-4898-affe-632fbb01db94')\"\n",
              "            title=\"Convert this dataframe to an interactive table.\"\n",
              "            style=\"display:none;\">\n",
              "\n",
              "  <svg xmlns=\"http://www.w3.org/2000/svg\" height=\"24px\" viewBox=\"0 -960 960 960\">\n",
              "    <path d=\"M120-120v-720h720v720H120Zm60-500h600v-160H180v160Zm220 220h160v-160H400v160Zm0 220h160v-160H400v160ZM180-400h160v-160H180v160Zm440 0h160v-160H620v160ZM180-180h160v-160H180v160Zm440 0h160v-160H620v160Z\"/>\n",
              "  </svg>\n",
              "    </button>\n",
              "\n",
              "  <style>\n",
              "    .colab-df-container {\n",
              "      display:flex;\n",
              "      gap: 12px;\n",
              "    }\n",
              "\n",
              "    .colab-df-convert {\n",
              "      background-color: #E8F0FE;\n",
              "      border: none;\n",
              "      border-radius: 50%;\n",
              "      cursor: pointer;\n",
              "      display: none;\n",
              "      fill: #1967D2;\n",
              "      height: 32px;\n",
              "      padding: 0 0 0 0;\n",
              "      width: 32px;\n",
              "    }\n",
              "\n",
              "    .colab-df-convert:hover {\n",
              "      background-color: #E2EBFA;\n",
              "      box-shadow: 0px 1px 2px rgba(60, 64, 67, 0.3), 0px 1px 3px 1px rgba(60, 64, 67, 0.15);\n",
              "      fill: #174EA6;\n",
              "    }\n",
              "\n",
              "    .colab-df-buttons div {\n",
              "      margin-bottom: 4px;\n",
              "    }\n",
              "\n",
              "    [theme=dark] .colab-df-convert {\n",
              "      background-color: #3B4455;\n",
              "      fill: #D2E3FC;\n",
              "    }\n",
              "\n",
              "    [theme=dark] .colab-df-convert:hover {\n",
              "      background-color: #434B5C;\n",
              "      box-shadow: 0px 1px 3px 1px rgba(0, 0, 0, 0.15);\n",
              "      filter: drop-shadow(0px 1px 2px rgba(0, 0, 0, 0.3));\n",
              "      fill: #FFFFFF;\n",
              "    }\n",
              "  </style>\n",
              "\n",
              "    <script>\n",
              "      const buttonEl =\n",
              "        document.querySelector('#df-b6a10ebd-fed1-4898-affe-632fbb01db94 button.colab-df-convert');\n",
              "      buttonEl.style.display =\n",
              "        google.colab.kernel.accessAllowed ? 'block' : 'none';\n",
              "\n",
              "      async function convertToInteractive(key) {\n",
              "        const element = document.querySelector('#df-b6a10ebd-fed1-4898-affe-632fbb01db94');\n",
              "        const dataTable =\n",
              "          await google.colab.kernel.invokeFunction('convertToInteractive',\n",
              "                                                    [key], {});\n",
              "        if (!dataTable) return;\n",
              "\n",
              "        const docLinkHtml = 'Like what you see? Visit the ' +\n",
              "          '<a target=\"_blank\" href=https://colab.research.google.com/notebooks/data_table.ipynb>data table notebook</a>'\n",
              "          + ' to learn more about interactive tables.';\n",
              "        element.innerHTML = '';\n",
              "        dataTable['output_type'] = 'display_data';\n",
              "        await google.colab.output.renderOutput(dataTable, element);\n",
              "        const docLink = document.createElement('div');\n",
              "        docLink.innerHTML = docLinkHtml;\n",
              "        element.appendChild(docLink);\n",
              "      }\n",
              "    </script>\n",
              "  </div>\n",
              "\n",
              "    </div>\n",
              "  </div>\n"
            ],
            "application/vnd.google.colaboratory.intrinsic+json": {
              "type": "dataframe",
              "repr_error": "Out of range float values are not JSON compliant: nan"
            }
          },
          "metadata": {}
        },
        {
          "output_type": "display_data",
          "data": {
            "text/plain": [
              "'--------------------------------'"
            ],
            "application/vnd.google.colaboratory.intrinsic+json": {
              "type": "string"
            }
          },
          "metadata": {}
        },
        {
          "output_type": "display_data",
          "data": {
            "text/plain": [
              "'Регион 0 и 2 совпадения'"
            ],
            "application/vnd.google.colaboratory.intrinsic+json": {
              "type": "string"
            }
          },
          "metadata": {}
        },
        {
          "output_type": "display_data",
          "data": {
            "text/plain": [
              "          id        f0        f1        f2     product\n",
              "5191   wqgPo  2.009877 -0.119927  5.254332   72.798085\n",
              "7781   kpKGs  1.984545  0.356201 -0.876743   53.006141\n",
              "8454   scFN4  1.209207 -0.491543  0.871066   82.239907\n",
              "10765  i2csb  1.876060  0.130102  3.916158  178.191619\n",
              "11615  Suyut  1.034755  0.211378  5.166985  134.183249\n",
              "14378  uSye4  1.452571 -0.452693 -1.800189   79.717634\n",
              "16753  5ssQt -1.005117  0.268726 -0.407822   53.206029\n",
              "31017  tgOl6  1.242237 -0.545994 -1.070228   52.566338\n",
              "45429  2tyMi  0.576679 -0.411140 -3.725859   69.292672\n",
              "50393  TXPOv -0.614415  0.669327  4.392560  111.029432\n",
              "58790  G6k8A -0.332671  0.873613  0.056776   59.356289\n",
              "62675  rAJA6  0.763807 -0.256567 -2.539103   36.295666\n",
              "65468  PyNp5  0.800617 -0.423276 -0.262853   37.280078\n",
              "69637  LhkAh -0.016588  0.311455  5.752433  100.077127\n",
              "84954  eVdPR  0.948962  0.470545  4.841681  114.217840\n",
              "88811  H2jd8 -0.095755  0.549838  4.798969  121.587791\n",
              "90211  lFHA5  0.825315 -0.415530  1.316067  145.287376"
            ],
            "text/html": [
              "\n",
              "  <div id=\"df-b9c55d17-53f6-4c28-8764-317f6c7b9ef7\" class=\"colab-df-container\">\n",
              "    <div>\n",
              "<style scoped>\n",
              "    .dataframe tbody tr th:only-of-type {\n",
              "        vertical-align: middle;\n",
              "    }\n",
              "\n",
              "    .dataframe tbody tr th {\n",
              "        vertical-align: top;\n",
              "    }\n",
              "\n",
              "    .dataframe thead th {\n",
              "        text-align: right;\n",
              "    }\n",
              "</style>\n",
              "<table border=\"1\" class=\"dataframe\">\n",
              "  <thead>\n",
              "    <tr style=\"text-align: right;\">\n",
              "      <th></th>\n",
              "      <th>id</th>\n",
              "      <th>f0</th>\n",
              "      <th>f1</th>\n",
              "      <th>f2</th>\n",
              "      <th>product</th>\n",
              "    </tr>\n",
              "  </thead>\n",
              "  <tbody>\n",
              "    <tr>\n",
              "      <th>5191</th>\n",
              "      <td>wqgPo</td>\n",
              "      <td>2.009877</td>\n",
              "      <td>-0.119927</td>\n",
              "      <td>5.254332</td>\n",
              "      <td>72.798085</td>\n",
              "    </tr>\n",
              "    <tr>\n",
              "      <th>7781</th>\n",
              "      <td>kpKGs</td>\n",
              "      <td>1.984545</td>\n",
              "      <td>0.356201</td>\n",
              "      <td>-0.876743</td>\n",
              "      <td>53.006141</td>\n",
              "    </tr>\n",
              "    <tr>\n",
              "      <th>8454</th>\n",
              "      <td>scFN4</td>\n",
              "      <td>1.209207</td>\n",
              "      <td>-0.491543</td>\n",
              "      <td>0.871066</td>\n",
              "      <td>82.239907</td>\n",
              "    </tr>\n",
              "    <tr>\n",
              "      <th>10765</th>\n",
              "      <td>i2csb</td>\n",
              "      <td>1.876060</td>\n",
              "      <td>0.130102</td>\n",
              "      <td>3.916158</td>\n",
              "      <td>178.191619</td>\n",
              "    </tr>\n",
              "    <tr>\n",
              "      <th>11615</th>\n",
              "      <td>Suyut</td>\n",
              "      <td>1.034755</td>\n",
              "      <td>0.211378</td>\n",
              "      <td>5.166985</td>\n",
              "      <td>134.183249</td>\n",
              "    </tr>\n",
              "    <tr>\n",
              "      <th>14378</th>\n",
              "      <td>uSye4</td>\n",
              "      <td>1.452571</td>\n",
              "      <td>-0.452693</td>\n",
              "      <td>-1.800189</td>\n",
              "      <td>79.717634</td>\n",
              "    </tr>\n",
              "    <tr>\n",
              "      <th>16753</th>\n",
              "      <td>5ssQt</td>\n",
              "      <td>-1.005117</td>\n",
              "      <td>0.268726</td>\n",
              "      <td>-0.407822</td>\n",
              "      <td>53.206029</td>\n",
              "    </tr>\n",
              "    <tr>\n",
              "      <th>31017</th>\n",
              "      <td>tgOl6</td>\n",
              "      <td>1.242237</td>\n",
              "      <td>-0.545994</td>\n",
              "      <td>-1.070228</td>\n",
              "      <td>52.566338</td>\n",
              "    </tr>\n",
              "    <tr>\n",
              "      <th>45429</th>\n",
              "      <td>2tyMi</td>\n",
              "      <td>0.576679</td>\n",
              "      <td>-0.411140</td>\n",
              "      <td>-3.725859</td>\n",
              "      <td>69.292672</td>\n",
              "    </tr>\n",
              "    <tr>\n",
              "      <th>50393</th>\n",
              "      <td>TXPOv</td>\n",
              "      <td>-0.614415</td>\n",
              "      <td>0.669327</td>\n",
              "      <td>4.392560</td>\n",
              "      <td>111.029432</td>\n",
              "    </tr>\n",
              "    <tr>\n",
              "      <th>58790</th>\n",
              "      <td>G6k8A</td>\n",
              "      <td>-0.332671</td>\n",
              "      <td>0.873613</td>\n",
              "      <td>0.056776</td>\n",
              "      <td>59.356289</td>\n",
              "    </tr>\n",
              "    <tr>\n",
              "      <th>62675</th>\n",
              "      <td>rAJA6</td>\n",
              "      <td>0.763807</td>\n",
              "      <td>-0.256567</td>\n",
              "      <td>-2.539103</td>\n",
              "      <td>36.295666</td>\n",
              "    </tr>\n",
              "    <tr>\n",
              "      <th>65468</th>\n",
              "      <td>PyNp5</td>\n",
              "      <td>0.800617</td>\n",
              "      <td>-0.423276</td>\n",
              "      <td>-0.262853</td>\n",
              "      <td>37.280078</td>\n",
              "    </tr>\n",
              "    <tr>\n",
              "      <th>69637</th>\n",
              "      <td>LhkAh</td>\n",
              "      <td>-0.016588</td>\n",
              "      <td>0.311455</td>\n",
              "      <td>5.752433</td>\n",
              "      <td>100.077127</td>\n",
              "    </tr>\n",
              "    <tr>\n",
              "      <th>84954</th>\n",
              "      <td>eVdPR</td>\n",
              "      <td>0.948962</td>\n",
              "      <td>0.470545</td>\n",
              "      <td>4.841681</td>\n",
              "      <td>114.217840</td>\n",
              "    </tr>\n",
              "    <tr>\n",
              "      <th>88811</th>\n",
              "      <td>H2jd8</td>\n",
              "      <td>-0.095755</td>\n",
              "      <td>0.549838</td>\n",
              "      <td>4.798969</td>\n",
              "      <td>121.587791</td>\n",
              "    </tr>\n",
              "    <tr>\n",
              "      <th>90211</th>\n",
              "      <td>lFHA5</td>\n",
              "      <td>0.825315</td>\n",
              "      <td>-0.415530</td>\n",
              "      <td>1.316067</td>\n",
              "      <td>145.287376</td>\n",
              "    </tr>\n",
              "  </tbody>\n",
              "</table>\n",
              "</div>\n",
              "    <div class=\"colab-df-buttons\">\n",
              "\n",
              "  <div class=\"colab-df-container\">\n",
              "    <button class=\"colab-df-convert\" onclick=\"convertToInteractive('df-b9c55d17-53f6-4c28-8764-317f6c7b9ef7')\"\n",
              "            title=\"Convert this dataframe to an interactive table.\"\n",
              "            style=\"display:none;\">\n",
              "\n",
              "  <svg xmlns=\"http://www.w3.org/2000/svg\" height=\"24px\" viewBox=\"0 -960 960 960\">\n",
              "    <path d=\"M120-120v-720h720v720H120Zm60-500h600v-160H180v160Zm220 220h160v-160H400v160Zm0 220h160v-160H400v160ZM180-400h160v-160H180v160Zm440 0h160v-160H620v160ZM180-180h160v-160H180v160Zm440 0h160v-160H620v160Z\"/>\n",
              "  </svg>\n",
              "    </button>\n",
              "\n",
              "  <style>\n",
              "    .colab-df-container {\n",
              "      display:flex;\n",
              "      gap: 12px;\n",
              "    }\n",
              "\n",
              "    .colab-df-convert {\n",
              "      background-color: #E8F0FE;\n",
              "      border: none;\n",
              "      border-radius: 50%;\n",
              "      cursor: pointer;\n",
              "      display: none;\n",
              "      fill: #1967D2;\n",
              "      height: 32px;\n",
              "      padding: 0 0 0 0;\n",
              "      width: 32px;\n",
              "    }\n",
              "\n",
              "    .colab-df-convert:hover {\n",
              "      background-color: #E2EBFA;\n",
              "      box-shadow: 0px 1px 2px rgba(60, 64, 67, 0.3), 0px 1px 3px 1px rgba(60, 64, 67, 0.15);\n",
              "      fill: #174EA6;\n",
              "    }\n",
              "\n",
              "    .colab-df-buttons div {\n",
              "      margin-bottom: 4px;\n",
              "    }\n",
              "\n",
              "    [theme=dark] .colab-df-convert {\n",
              "      background-color: #3B4455;\n",
              "      fill: #D2E3FC;\n",
              "    }\n",
              "\n",
              "    [theme=dark] .colab-df-convert:hover {\n",
              "      background-color: #434B5C;\n",
              "      box-shadow: 0px 1px 3px 1px rgba(0, 0, 0, 0.15);\n",
              "      filter: drop-shadow(0px 1px 2px rgba(0, 0, 0, 0.3));\n",
              "      fill: #FFFFFF;\n",
              "    }\n",
              "  </style>\n",
              "\n",
              "    <script>\n",
              "      const buttonEl =\n",
              "        document.querySelector('#df-b9c55d17-53f6-4c28-8764-317f6c7b9ef7 button.colab-df-convert');\n",
              "      buttonEl.style.display =\n",
              "        google.colab.kernel.accessAllowed ? 'block' : 'none';\n",
              "\n",
              "      async function convertToInteractive(key) {\n",
              "        const element = document.querySelector('#df-b9c55d17-53f6-4c28-8764-317f6c7b9ef7');\n",
              "        const dataTable =\n",
              "          await google.colab.kernel.invokeFunction('convertToInteractive',\n",
              "                                                    [key], {});\n",
              "        if (!dataTable) return;\n",
              "\n",
              "        const docLinkHtml = 'Like what you see? Visit the ' +\n",
              "          '<a target=\"_blank\" href=https://colab.research.google.com/notebooks/data_table.ipynb>data table notebook</a>'\n",
              "          + ' to learn more about interactive tables.';\n",
              "        element.innerHTML = '';\n",
              "        dataTable['output_type'] = 'display_data';\n",
              "        await google.colab.output.renderOutput(dataTable, element);\n",
              "        const docLink = document.createElement('div');\n",
              "        docLink.innerHTML = docLinkHtml;\n",
              "        element.appendChild(docLink);\n",
              "      }\n",
              "    </script>\n",
              "  </div>\n",
              "\n",
              "\n",
              "<div id=\"df-de11b53b-8a2d-4fc6-8cf4-744029f55a93\">\n",
              "  <button class=\"colab-df-quickchart\" onclick=\"quickchart('df-de11b53b-8a2d-4fc6-8cf4-744029f55a93')\"\n",
              "            title=\"Suggest charts\"\n",
              "            style=\"display:none;\">\n",
              "\n",
              "<svg xmlns=\"http://www.w3.org/2000/svg\" height=\"24px\"viewBox=\"0 0 24 24\"\n",
              "     width=\"24px\">\n",
              "    <g>\n",
              "        <path d=\"M19 3H5c-1.1 0-2 .9-2 2v14c0 1.1.9 2 2 2h14c1.1 0 2-.9 2-2V5c0-1.1-.9-2-2-2zM9 17H7v-7h2v7zm4 0h-2V7h2v10zm4 0h-2v-4h2v4z\"/>\n",
              "    </g>\n",
              "</svg>\n",
              "  </button>\n",
              "\n",
              "<style>\n",
              "  .colab-df-quickchart {\n",
              "      --bg-color: #E8F0FE;\n",
              "      --fill-color: #1967D2;\n",
              "      --hover-bg-color: #E2EBFA;\n",
              "      --hover-fill-color: #174EA6;\n",
              "      --disabled-fill-color: #AAA;\n",
              "      --disabled-bg-color: #DDD;\n",
              "  }\n",
              "\n",
              "  [theme=dark] .colab-df-quickchart {\n",
              "      --bg-color: #3B4455;\n",
              "      --fill-color: #D2E3FC;\n",
              "      --hover-bg-color: #434B5C;\n",
              "      --hover-fill-color: #FFFFFF;\n",
              "      --disabled-bg-color: #3B4455;\n",
              "      --disabled-fill-color: #666;\n",
              "  }\n",
              "\n",
              "  .colab-df-quickchart {\n",
              "    background-color: var(--bg-color);\n",
              "    border: none;\n",
              "    border-radius: 50%;\n",
              "    cursor: pointer;\n",
              "    display: none;\n",
              "    fill: var(--fill-color);\n",
              "    height: 32px;\n",
              "    padding: 0;\n",
              "    width: 32px;\n",
              "  }\n",
              "\n",
              "  .colab-df-quickchart:hover {\n",
              "    background-color: var(--hover-bg-color);\n",
              "    box-shadow: 0 1px 2px rgba(60, 64, 67, 0.3), 0 1px 3px 1px rgba(60, 64, 67, 0.15);\n",
              "    fill: var(--button-hover-fill-color);\n",
              "  }\n",
              "\n",
              "  .colab-df-quickchart-complete:disabled,\n",
              "  .colab-df-quickchart-complete:disabled:hover {\n",
              "    background-color: var(--disabled-bg-color);\n",
              "    fill: var(--disabled-fill-color);\n",
              "    box-shadow: none;\n",
              "  }\n",
              "\n",
              "  .colab-df-spinner {\n",
              "    border: 2px solid var(--fill-color);\n",
              "    border-color: transparent;\n",
              "    border-bottom-color: var(--fill-color);\n",
              "    animation:\n",
              "      spin 1s steps(1) infinite;\n",
              "  }\n",
              "\n",
              "  @keyframes spin {\n",
              "    0% {\n",
              "      border-color: transparent;\n",
              "      border-bottom-color: var(--fill-color);\n",
              "      border-left-color: var(--fill-color);\n",
              "    }\n",
              "    20% {\n",
              "      border-color: transparent;\n",
              "      border-left-color: var(--fill-color);\n",
              "      border-top-color: var(--fill-color);\n",
              "    }\n",
              "    30% {\n",
              "      border-color: transparent;\n",
              "      border-left-color: var(--fill-color);\n",
              "      border-top-color: var(--fill-color);\n",
              "      border-right-color: var(--fill-color);\n",
              "    }\n",
              "    40% {\n",
              "      border-color: transparent;\n",
              "      border-right-color: var(--fill-color);\n",
              "      border-top-color: var(--fill-color);\n",
              "    }\n",
              "    60% {\n",
              "      border-color: transparent;\n",
              "      border-right-color: var(--fill-color);\n",
              "    }\n",
              "    80% {\n",
              "      border-color: transparent;\n",
              "      border-right-color: var(--fill-color);\n",
              "      border-bottom-color: var(--fill-color);\n",
              "    }\n",
              "    90% {\n",
              "      border-color: transparent;\n",
              "      border-bottom-color: var(--fill-color);\n",
              "    }\n",
              "  }\n",
              "</style>\n",
              "\n",
              "  <script>\n",
              "    async function quickchart(key) {\n",
              "      const quickchartButtonEl =\n",
              "        document.querySelector('#' + key + ' button');\n",
              "      quickchartButtonEl.disabled = true;  // To prevent multiple clicks.\n",
              "      quickchartButtonEl.classList.add('colab-df-spinner');\n",
              "      try {\n",
              "        const charts = await google.colab.kernel.invokeFunction(\n",
              "            'suggestCharts', [key], {});\n",
              "      } catch (error) {\n",
              "        console.error('Error during call to suggestCharts:', error);\n",
              "      }\n",
              "      quickchartButtonEl.classList.remove('colab-df-spinner');\n",
              "      quickchartButtonEl.classList.add('colab-df-quickchart-complete');\n",
              "    }\n",
              "    (() => {\n",
              "      let quickchartButtonEl =\n",
              "        document.querySelector('#df-de11b53b-8a2d-4fc6-8cf4-744029f55a93 button');\n",
              "      quickchartButtonEl.style.display =\n",
              "        google.colab.kernel.accessAllowed ? 'block' : 'none';\n",
              "    })();\n",
              "  </script>\n",
              "</div>\n",
              "    </div>\n",
              "  </div>\n"
            ],
            "application/vnd.google.colaboratory.intrinsic+json": {
              "type": "dataframe",
              "summary": "{\n  \"name\": \"df_2 = df_2\",\n  \"rows\": 17,\n  \"fields\": [\n    {\n      \"column\": \"id\",\n      \"properties\": {\n        \"dtype\": \"string\",\n        \"num_unique_values\": 17,\n        \"samples\": [\n          \"wqgPo\",\n          \"kpKGs\",\n          \"uSye4\"\n        ],\n        \"semantic_type\": \"\",\n        \"description\": \"\"\n      }\n    },\n    {\n      \"column\": \"f0\",\n      \"properties\": {\n        \"dtype\": \"number\",\n        \"std\": 0.8979851279589445,\n        \"min\": -1.0051169031124938,\n        \"max\": 2.0098769367194755,\n        \"num_unique_values\": 17,\n        \"samples\": [\n          2.0098769367194755,\n          1.984544993348638,\n          1.4525707468955869\n        ],\n        \"semantic_type\": \"\",\n        \"description\": \"\"\n      }\n    },\n    {\n      \"column\": \"f1\",\n      \"properties\": {\n        \"dtype\": \"number\",\n        \"std\": 0.4614845954078974,\n        \"min\": -0.5459939271291167,\n        \"max\": 0.8736130938944211,\n        \"num_unique_values\": 17,\n        \"samples\": [\n          -0.1199268756375628,\n          0.3562009780945537,\n          -0.4526930663748389\n        ],\n        \"semantic_type\": \"\",\n        \"description\": \"\"\n      }\n    },\n    {\n      \"column\": \"f2\",\n      \"properties\": {\n        \"dtype\": \"number\",\n        \"std\": 3.141532738966499,\n        \"min\": -3.725859496492189,\n        \"max\": 5.752433360157743,\n        \"num_unique_values\": 17,\n        \"samples\": [\n          5.25433218959599,\n          -0.8767430106216579,\n          -1.8001890186183704\n        ],\n        \"semantic_type\": \"\",\n        \"description\": \"\"\n      }\n    },\n    {\n      \"column\": \"product\",\n      \"properties\": {\n        \"dtype\": \"number\",\n        \"std\": 40.68151495962678,\n        \"min\": 36.2956656289794,\n        \"max\": 178.19161863609386,\n        \"num_unique_values\": 17,\n        \"samples\": [\n          72.79808537550619,\n          53.00614080690183,\n          79.71763417954904\n        ],\n        \"semantic_type\": \"\",\n        \"description\": \"\"\n      }\n    }\n  ]\n}"
            }
          },
          "metadata": {}
        },
        {
          "output_type": "display_data",
          "data": {
            "text/plain": [
              "'Удаление по индексам'"
            ],
            "application/vnd.google.colaboratory.intrinsic+json": {
              "type": "string"
            }
          },
          "metadata": {}
        },
        {
          "output_type": "display_data",
          "data": {
            "text/plain": [
              "Index([ 5191,  7781,  8454, 10765, 11615, 14378, 16753, 31017, 45429, 50393,\n",
              "       58790, 62675, 65468, 69637, 84954, 88811, 90211],\n",
              "      dtype='int64')"
            ]
          },
          "metadata": {}
        },
        {
          "output_type": "display_data",
          "data": {
            "text/plain": [
              "Index([ 7260,  9042, 13672, 17551, 27380, 27885, 31306, 48472, 49106, 50308,\n",
              "       57741, 72896, 79311, 82577, 87965, 91259, 97706],\n",
              "      dtype='int64')"
            ]
          },
          "metadata": {}
        },
        {
          "output_type": "display_data",
          "data": {
            "text/plain": [
              "'Результат удаления'"
            ],
            "application/vnd.google.colaboratory.intrinsic+json": {
              "type": "string"
            }
          },
          "metadata": {}
        },
        {
          "output_type": "display_data",
          "data": {
            "text/plain": [
              "Empty DataFrame\n",
              "Columns: [id, f0, f1, f2, product]\n",
              "Index: []"
            ],
            "text/html": [
              "\n",
              "  <div id=\"df-f935c28d-899c-419f-86e3-2f2c104acac6\" class=\"colab-df-container\">\n",
              "    <div>\n",
              "<style scoped>\n",
              "    .dataframe tbody tr th:only-of-type {\n",
              "        vertical-align: middle;\n",
              "    }\n",
              "\n",
              "    .dataframe tbody tr th {\n",
              "        vertical-align: top;\n",
              "    }\n",
              "\n",
              "    .dataframe thead th {\n",
              "        text-align: right;\n",
              "    }\n",
              "</style>\n",
              "<table border=\"1\" class=\"dataframe\">\n",
              "  <thead>\n",
              "    <tr style=\"text-align: right;\">\n",
              "      <th></th>\n",
              "      <th>id</th>\n",
              "      <th>f0</th>\n",
              "      <th>f1</th>\n",
              "      <th>f2</th>\n",
              "      <th>product</th>\n",
              "    </tr>\n",
              "  </thead>\n",
              "  <tbody>\n",
              "  </tbody>\n",
              "</table>\n",
              "</div>\n",
              "    <div class=\"colab-df-buttons\">\n",
              "\n",
              "  <div class=\"colab-df-container\">\n",
              "    <button class=\"colab-df-convert\" onclick=\"convertToInteractive('df-f935c28d-899c-419f-86e3-2f2c104acac6')\"\n",
              "            title=\"Convert this dataframe to an interactive table.\"\n",
              "            style=\"display:none;\">\n",
              "\n",
              "  <svg xmlns=\"http://www.w3.org/2000/svg\" height=\"24px\" viewBox=\"0 -960 960 960\">\n",
              "    <path d=\"M120-120v-720h720v720H120Zm60-500h600v-160H180v160Zm220 220h160v-160H400v160Zm0 220h160v-160H400v160ZM180-400h160v-160H180v160Zm440 0h160v-160H620v160ZM180-180h160v-160H180v160Zm440 0h160v-160H620v160Z\"/>\n",
              "  </svg>\n",
              "    </button>\n",
              "\n",
              "  <style>\n",
              "    .colab-df-container {\n",
              "      display:flex;\n",
              "      gap: 12px;\n",
              "    }\n",
              "\n",
              "    .colab-df-convert {\n",
              "      background-color: #E8F0FE;\n",
              "      border: none;\n",
              "      border-radius: 50%;\n",
              "      cursor: pointer;\n",
              "      display: none;\n",
              "      fill: #1967D2;\n",
              "      height: 32px;\n",
              "      padding: 0 0 0 0;\n",
              "      width: 32px;\n",
              "    }\n",
              "\n",
              "    .colab-df-convert:hover {\n",
              "      background-color: #E2EBFA;\n",
              "      box-shadow: 0px 1px 2px rgba(60, 64, 67, 0.3), 0px 1px 3px 1px rgba(60, 64, 67, 0.15);\n",
              "      fill: #174EA6;\n",
              "    }\n",
              "\n",
              "    .colab-df-buttons div {\n",
              "      margin-bottom: 4px;\n",
              "    }\n",
              "\n",
              "    [theme=dark] .colab-df-convert {\n",
              "      background-color: #3B4455;\n",
              "      fill: #D2E3FC;\n",
              "    }\n",
              "\n",
              "    [theme=dark] .colab-df-convert:hover {\n",
              "      background-color: #434B5C;\n",
              "      box-shadow: 0px 1px 3px 1px rgba(0, 0, 0, 0.15);\n",
              "      filter: drop-shadow(0px 1px 2px rgba(0, 0, 0, 0.3));\n",
              "      fill: #FFFFFF;\n",
              "    }\n",
              "  </style>\n",
              "\n",
              "    <script>\n",
              "      const buttonEl =\n",
              "        document.querySelector('#df-f935c28d-899c-419f-86e3-2f2c104acac6 button.colab-df-convert');\n",
              "      buttonEl.style.display =\n",
              "        google.colab.kernel.accessAllowed ? 'block' : 'none';\n",
              "\n",
              "      async function convertToInteractive(key) {\n",
              "        const element = document.querySelector('#df-f935c28d-899c-419f-86e3-2f2c104acac6');\n",
              "        const dataTable =\n",
              "          await google.colab.kernel.invokeFunction('convertToInteractive',\n",
              "                                                    [key], {});\n",
              "        if (!dataTable) return;\n",
              "\n",
              "        const docLinkHtml = 'Like what you see? Visit the ' +\n",
              "          '<a target=\"_blank\" href=https://colab.research.google.com/notebooks/data_table.ipynb>data table notebook</a>'\n",
              "          + ' to learn more about interactive tables.';\n",
              "        element.innerHTML = '';\n",
              "        dataTable['output_type'] = 'display_data';\n",
              "        await google.colab.output.renderOutput(dataTable, element);\n",
              "        const docLink = document.createElement('div');\n",
              "        docLink.innerHTML = docLinkHtml;\n",
              "        element.appendChild(docLink);\n",
              "      }\n",
              "    </script>\n",
              "  </div>\n",
              "\n",
              "    </div>\n",
              "  </div>\n"
            ],
            "application/vnd.google.colaboratory.intrinsic+json": {
              "type": "dataframe",
              "repr_error": "Out of range float values are not JSON compliant: nan"
            }
          },
          "metadata": {}
        },
        {
          "output_type": "display_data",
          "data": {
            "text/plain": [
              "'--------------------------------'"
            ],
            "application/vnd.google.colaboratory.intrinsic+json": {
              "type": "string"
            }
          },
          "metadata": {}
        },
        {
          "output_type": "display_data",
          "data": {
            "text/plain": [
              "'Регион 1 и 2 совпадения'"
            ],
            "application/vnd.google.colaboratory.intrinsic+json": {
              "type": "string"
            }
          },
          "metadata": {}
        },
        {
          "output_type": "display_data",
          "data": {
            "text/plain": [
              "          id         f0         f1        f2    product\n",
              "28877  TAqwC -13.045712 -13.056006  0.007640   3.179103\n",
              "38405  uMqiK   2.734183  -3.102346 -0.002654   0.000000\n",
              "44738  D8TNs  -0.646266   3.667055  1.006161  30.132364\n",
              "92366  g2I86  17.818406   2.946716  0.991640  26.953261"
            ],
            "text/html": [
              "\n",
              "  <div id=\"df-d1a717ff-53c7-43a0-bcfc-d5e1d0944d58\" class=\"colab-df-container\">\n",
              "    <div>\n",
              "<style scoped>\n",
              "    .dataframe tbody tr th:only-of-type {\n",
              "        vertical-align: middle;\n",
              "    }\n",
              "\n",
              "    .dataframe tbody tr th {\n",
              "        vertical-align: top;\n",
              "    }\n",
              "\n",
              "    .dataframe thead th {\n",
              "        text-align: right;\n",
              "    }\n",
              "</style>\n",
              "<table border=\"1\" class=\"dataframe\">\n",
              "  <thead>\n",
              "    <tr style=\"text-align: right;\">\n",
              "      <th></th>\n",
              "      <th>id</th>\n",
              "      <th>f0</th>\n",
              "      <th>f1</th>\n",
              "      <th>f2</th>\n",
              "      <th>product</th>\n",
              "    </tr>\n",
              "  </thead>\n",
              "  <tbody>\n",
              "    <tr>\n",
              "      <th>28877</th>\n",
              "      <td>TAqwC</td>\n",
              "      <td>-13.045712</td>\n",
              "      <td>-13.056006</td>\n",
              "      <td>0.007640</td>\n",
              "      <td>3.179103</td>\n",
              "    </tr>\n",
              "    <tr>\n",
              "      <th>38405</th>\n",
              "      <td>uMqiK</td>\n",
              "      <td>2.734183</td>\n",
              "      <td>-3.102346</td>\n",
              "      <td>-0.002654</td>\n",
              "      <td>0.000000</td>\n",
              "    </tr>\n",
              "    <tr>\n",
              "      <th>44738</th>\n",
              "      <td>D8TNs</td>\n",
              "      <td>-0.646266</td>\n",
              "      <td>3.667055</td>\n",
              "      <td>1.006161</td>\n",
              "      <td>30.132364</td>\n",
              "    </tr>\n",
              "    <tr>\n",
              "      <th>92366</th>\n",
              "      <td>g2I86</td>\n",
              "      <td>17.818406</td>\n",
              "      <td>2.946716</td>\n",
              "      <td>0.991640</td>\n",
              "      <td>26.953261</td>\n",
              "    </tr>\n",
              "  </tbody>\n",
              "</table>\n",
              "</div>\n",
              "    <div class=\"colab-df-buttons\">\n",
              "\n",
              "  <div class=\"colab-df-container\">\n",
              "    <button class=\"colab-df-convert\" onclick=\"convertToInteractive('df-d1a717ff-53c7-43a0-bcfc-d5e1d0944d58')\"\n",
              "            title=\"Convert this dataframe to an interactive table.\"\n",
              "            style=\"display:none;\">\n",
              "\n",
              "  <svg xmlns=\"http://www.w3.org/2000/svg\" height=\"24px\" viewBox=\"0 -960 960 960\">\n",
              "    <path d=\"M120-120v-720h720v720H120Zm60-500h600v-160H180v160Zm220 220h160v-160H400v160Zm0 220h160v-160H400v160ZM180-400h160v-160H180v160Zm440 0h160v-160H620v160ZM180-180h160v-160H180v160Zm440 0h160v-160H620v160Z\"/>\n",
              "  </svg>\n",
              "    </button>\n",
              "\n",
              "  <style>\n",
              "    .colab-df-container {\n",
              "      display:flex;\n",
              "      gap: 12px;\n",
              "    }\n",
              "\n",
              "    .colab-df-convert {\n",
              "      background-color: #E8F0FE;\n",
              "      border: none;\n",
              "      border-radius: 50%;\n",
              "      cursor: pointer;\n",
              "      display: none;\n",
              "      fill: #1967D2;\n",
              "      height: 32px;\n",
              "      padding: 0 0 0 0;\n",
              "      width: 32px;\n",
              "    }\n",
              "\n",
              "    .colab-df-convert:hover {\n",
              "      background-color: #E2EBFA;\n",
              "      box-shadow: 0px 1px 2px rgba(60, 64, 67, 0.3), 0px 1px 3px 1px rgba(60, 64, 67, 0.15);\n",
              "      fill: #174EA6;\n",
              "    }\n",
              "\n",
              "    .colab-df-buttons div {\n",
              "      margin-bottom: 4px;\n",
              "    }\n",
              "\n",
              "    [theme=dark] .colab-df-convert {\n",
              "      background-color: #3B4455;\n",
              "      fill: #D2E3FC;\n",
              "    }\n",
              "\n",
              "    [theme=dark] .colab-df-convert:hover {\n",
              "      background-color: #434B5C;\n",
              "      box-shadow: 0px 1px 3px 1px rgba(0, 0, 0, 0.15);\n",
              "      filter: drop-shadow(0px 1px 2px rgba(0, 0, 0, 0.3));\n",
              "      fill: #FFFFFF;\n",
              "    }\n",
              "  </style>\n",
              "\n",
              "    <script>\n",
              "      const buttonEl =\n",
              "        document.querySelector('#df-d1a717ff-53c7-43a0-bcfc-d5e1d0944d58 button.colab-df-convert');\n",
              "      buttonEl.style.display =\n",
              "        google.colab.kernel.accessAllowed ? 'block' : 'none';\n",
              "\n",
              "      async function convertToInteractive(key) {\n",
              "        const element = document.querySelector('#df-d1a717ff-53c7-43a0-bcfc-d5e1d0944d58');\n",
              "        const dataTable =\n",
              "          await google.colab.kernel.invokeFunction('convertToInteractive',\n",
              "                                                    [key], {});\n",
              "        if (!dataTable) return;\n",
              "\n",
              "        const docLinkHtml = 'Like what you see? Visit the ' +\n",
              "          '<a target=\"_blank\" href=https://colab.research.google.com/notebooks/data_table.ipynb>data table notebook</a>'\n",
              "          + ' to learn more about interactive tables.';\n",
              "        element.innerHTML = '';\n",
              "        dataTable['output_type'] = 'display_data';\n",
              "        await google.colab.output.renderOutput(dataTable, element);\n",
              "        const docLink = document.createElement('div');\n",
              "        docLink.innerHTML = docLinkHtml;\n",
              "        element.appendChild(docLink);\n",
              "      }\n",
              "    </script>\n",
              "  </div>\n",
              "\n",
              "\n",
              "<div id=\"df-7081fc3c-7a57-489a-82dc-2488c68c2116\">\n",
              "  <button class=\"colab-df-quickchart\" onclick=\"quickchart('df-7081fc3c-7a57-489a-82dc-2488c68c2116')\"\n",
              "            title=\"Suggest charts\"\n",
              "            style=\"display:none;\">\n",
              "\n",
              "<svg xmlns=\"http://www.w3.org/2000/svg\" height=\"24px\"viewBox=\"0 0 24 24\"\n",
              "     width=\"24px\">\n",
              "    <g>\n",
              "        <path d=\"M19 3H5c-1.1 0-2 .9-2 2v14c0 1.1.9 2 2 2h14c1.1 0 2-.9 2-2V5c0-1.1-.9-2-2-2zM9 17H7v-7h2v7zm4 0h-2V7h2v10zm4 0h-2v-4h2v4z\"/>\n",
              "    </g>\n",
              "</svg>\n",
              "  </button>\n",
              "\n",
              "<style>\n",
              "  .colab-df-quickchart {\n",
              "      --bg-color: #E8F0FE;\n",
              "      --fill-color: #1967D2;\n",
              "      --hover-bg-color: #E2EBFA;\n",
              "      --hover-fill-color: #174EA6;\n",
              "      --disabled-fill-color: #AAA;\n",
              "      --disabled-bg-color: #DDD;\n",
              "  }\n",
              "\n",
              "  [theme=dark] .colab-df-quickchart {\n",
              "      --bg-color: #3B4455;\n",
              "      --fill-color: #D2E3FC;\n",
              "      --hover-bg-color: #434B5C;\n",
              "      --hover-fill-color: #FFFFFF;\n",
              "      --disabled-bg-color: #3B4455;\n",
              "      --disabled-fill-color: #666;\n",
              "  }\n",
              "\n",
              "  .colab-df-quickchart {\n",
              "    background-color: var(--bg-color);\n",
              "    border: none;\n",
              "    border-radius: 50%;\n",
              "    cursor: pointer;\n",
              "    display: none;\n",
              "    fill: var(--fill-color);\n",
              "    height: 32px;\n",
              "    padding: 0;\n",
              "    width: 32px;\n",
              "  }\n",
              "\n",
              "  .colab-df-quickchart:hover {\n",
              "    background-color: var(--hover-bg-color);\n",
              "    box-shadow: 0 1px 2px rgba(60, 64, 67, 0.3), 0 1px 3px 1px rgba(60, 64, 67, 0.15);\n",
              "    fill: var(--button-hover-fill-color);\n",
              "  }\n",
              "\n",
              "  .colab-df-quickchart-complete:disabled,\n",
              "  .colab-df-quickchart-complete:disabled:hover {\n",
              "    background-color: var(--disabled-bg-color);\n",
              "    fill: var(--disabled-fill-color);\n",
              "    box-shadow: none;\n",
              "  }\n",
              "\n",
              "  .colab-df-spinner {\n",
              "    border: 2px solid var(--fill-color);\n",
              "    border-color: transparent;\n",
              "    border-bottom-color: var(--fill-color);\n",
              "    animation:\n",
              "      spin 1s steps(1) infinite;\n",
              "  }\n",
              "\n",
              "  @keyframes spin {\n",
              "    0% {\n",
              "      border-color: transparent;\n",
              "      border-bottom-color: var(--fill-color);\n",
              "      border-left-color: var(--fill-color);\n",
              "    }\n",
              "    20% {\n",
              "      border-color: transparent;\n",
              "      border-left-color: var(--fill-color);\n",
              "      border-top-color: var(--fill-color);\n",
              "    }\n",
              "    30% {\n",
              "      border-color: transparent;\n",
              "      border-left-color: var(--fill-color);\n",
              "      border-top-color: var(--fill-color);\n",
              "      border-right-color: var(--fill-color);\n",
              "    }\n",
              "    40% {\n",
              "      border-color: transparent;\n",
              "      border-right-color: var(--fill-color);\n",
              "      border-top-color: var(--fill-color);\n",
              "    }\n",
              "    60% {\n",
              "      border-color: transparent;\n",
              "      border-right-color: var(--fill-color);\n",
              "    }\n",
              "    80% {\n",
              "      border-color: transparent;\n",
              "      border-right-color: var(--fill-color);\n",
              "      border-bottom-color: var(--fill-color);\n",
              "    }\n",
              "    90% {\n",
              "      border-color: transparent;\n",
              "      border-bottom-color: var(--fill-color);\n",
              "    }\n",
              "  }\n",
              "</style>\n",
              "\n",
              "  <script>\n",
              "    async function quickchart(key) {\n",
              "      const quickchartButtonEl =\n",
              "        document.querySelector('#' + key + ' button');\n",
              "      quickchartButtonEl.disabled = true;  // To prevent multiple clicks.\n",
              "      quickchartButtonEl.classList.add('colab-df-spinner');\n",
              "      try {\n",
              "        const charts = await google.colab.kernel.invokeFunction(\n",
              "            'suggestCharts', [key], {});\n",
              "      } catch (error) {\n",
              "        console.error('Error during call to suggestCharts:', error);\n",
              "      }\n",
              "      quickchartButtonEl.classList.remove('colab-df-spinner');\n",
              "      quickchartButtonEl.classList.add('colab-df-quickchart-complete');\n",
              "    }\n",
              "    (() => {\n",
              "      let quickchartButtonEl =\n",
              "        document.querySelector('#df-7081fc3c-7a57-489a-82dc-2488c68c2116 button');\n",
              "      quickchartButtonEl.style.display =\n",
              "        google.colab.kernel.accessAllowed ? 'block' : 'none';\n",
              "    })();\n",
              "  </script>\n",
              "</div>\n",
              "    </div>\n",
              "  </div>\n"
            ],
            "application/vnd.google.colaboratory.intrinsic+json": {
              "type": "dataframe",
              "summary": "{\n  \"name\": \"df_2 = df_2\",\n  \"rows\": 4,\n  \"fields\": [\n    {\n      \"column\": \"id\",\n      \"properties\": {\n        \"dtype\": \"string\",\n        \"num_unique_values\": 4,\n        \"samples\": [\n          \"uMqiK\",\n          \"g2I86\",\n          \"TAqwC\"\n        ],\n        \"semantic_type\": \"\",\n        \"description\": \"\"\n      }\n    },\n    {\n      \"column\": \"f0\",\n      \"properties\": {\n        \"dtype\": \"number\",\n        \"std\": 12.699246967805406,\n        \"min\": -13.045712115426214,\n        \"max\": 17.818406089011482,\n        \"num_unique_values\": 4,\n        \"samples\": [\n          2.7341825921973504,\n          17.818406089011482,\n          -13.045712115426214\n        ],\n        \"semantic_type\": \"\",\n        \"description\": \"\"\n      }\n    },\n    {\n      \"column\": \"f1\",\n      \"properties\": {\n        \"dtype\": \"number\",\n        \"std\": 7.733897658232948,\n        \"min\": -13.056006485612176,\n        \"max\": 3.667054610749446,\n        \"num_unique_values\": 4,\n        \"samples\": [\n          -3.102346323115699,\n          2.946715862530036,\n          -13.056006485612176\n        ],\n        \"semantic_type\": \"\",\n        \"description\": \"\"\n      }\n    },\n    {\n      \"column\": \"f2\",\n      \"properties\": {\n        \"dtype\": \"number\",\n        \"std\": 0.5753218628830489,\n        \"min\": -0.0026535829346963,\n        \"max\": 1.0061611571274902,\n        \"num_unique_values\": 4,\n        \"samples\": [\n          -0.0026535829346963,\n          0.9916395034586474,\n          0.0076398303427518\n        ],\n        \"semantic_type\": \"\",\n        \"description\": \"\"\n      }\n    },\n    {\n      \"column\": \"product\",\n      \"properties\": {\n        \"dtype\": \"number\",\n        \"std\": 15.669343460707717,\n        \"min\": 0.0,\n        \"max\": 30.132363614746943,\n        \"num_unique_values\": 4,\n        \"samples\": [\n          0.0,\n          26.95326103153969,\n          3.179102583207246\n        ],\n        \"semantic_type\": \"\",\n        \"description\": \"\"\n      }\n    }\n  ]\n}"
            }
          },
          "metadata": {}
        },
        {
          "output_type": "display_data",
          "data": {
            "text/plain": [
              "'Удаление по индексам'"
            ],
            "application/vnd.google.colaboratory.intrinsic+json": {
              "type": "string"
            }
          },
          "metadata": {}
        },
        {
          "output_type": "display_data",
          "data": {
            "text/plain": [
              "Index([28877, 38405, 44738, 92366], dtype='int64')"
            ]
          },
          "metadata": {}
        },
        {
          "output_type": "display_data",
          "data": {
            "text/plain": [
              "Index([17007, 40478, 61622, 80750], dtype='int64')"
            ]
          },
          "metadata": {}
        },
        {
          "output_type": "display_data",
          "data": {
            "text/plain": [
              "'Результат удаления'"
            ],
            "application/vnd.google.colaboratory.intrinsic+json": {
              "type": "string"
            }
          },
          "metadata": {}
        },
        {
          "output_type": "display_data",
          "data": {
            "text/plain": [
              "Empty DataFrame\n",
              "Columns: [id, f0, f1, f2, product]\n",
              "Index: []"
            ],
            "text/html": [
              "\n",
              "  <div id=\"df-ebea16e5-e2dd-459f-93ed-316f25c1359d\" class=\"colab-df-container\">\n",
              "    <div>\n",
              "<style scoped>\n",
              "    .dataframe tbody tr th:only-of-type {\n",
              "        vertical-align: middle;\n",
              "    }\n",
              "\n",
              "    .dataframe tbody tr th {\n",
              "        vertical-align: top;\n",
              "    }\n",
              "\n",
              "    .dataframe thead th {\n",
              "        text-align: right;\n",
              "    }\n",
              "</style>\n",
              "<table border=\"1\" class=\"dataframe\">\n",
              "  <thead>\n",
              "    <tr style=\"text-align: right;\">\n",
              "      <th></th>\n",
              "      <th>id</th>\n",
              "      <th>f0</th>\n",
              "      <th>f1</th>\n",
              "      <th>f2</th>\n",
              "      <th>product</th>\n",
              "    </tr>\n",
              "  </thead>\n",
              "  <tbody>\n",
              "  </tbody>\n",
              "</table>\n",
              "</div>\n",
              "    <div class=\"colab-df-buttons\">\n",
              "\n",
              "  <div class=\"colab-df-container\">\n",
              "    <button class=\"colab-df-convert\" onclick=\"convertToInteractive('df-ebea16e5-e2dd-459f-93ed-316f25c1359d')\"\n",
              "            title=\"Convert this dataframe to an interactive table.\"\n",
              "            style=\"display:none;\">\n",
              "\n",
              "  <svg xmlns=\"http://www.w3.org/2000/svg\" height=\"24px\" viewBox=\"0 -960 960 960\">\n",
              "    <path d=\"M120-120v-720h720v720H120Zm60-500h600v-160H180v160Zm220 220h160v-160H400v160Zm0 220h160v-160H400v160ZM180-400h160v-160H180v160Zm440 0h160v-160H620v160ZM180-180h160v-160H180v160Zm440 0h160v-160H620v160Z\"/>\n",
              "  </svg>\n",
              "    </button>\n",
              "\n",
              "  <style>\n",
              "    .colab-df-container {\n",
              "      display:flex;\n",
              "      gap: 12px;\n",
              "    }\n",
              "\n",
              "    .colab-df-convert {\n",
              "      background-color: #E8F0FE;\n",
              "      border: none;\n",
              "      border-radius: 50%;\n",
              "      cursor: pointer;\n",
              "      display: none;\n",
              "      fill: #1967D2;\n",
              "      height: 32px;\n",
              "      padding: 0 0 0 0;\n",
              "      width: 32px;\n",
              "    }\n",
              "\n",
              "    .colab-df-convert:hover {\n",
              "      background-color: #E2EBFA;\n",
              "      box-shadow: 0px 1px 2px rgba(60, 64, 67, 0.3), 0px 1px 3px 1px rgba(60, 64, 67, 0.15);\n",
              "      fill: #174EA6;\n",
              "    }\n",
              "\n",
              "    .colab-df-buttons div {\n",
              "      margin-bottom: 4px;\n",
              "    }\n",
              "\n",
              "    [theme=dark] .colab-df-convert {\n",
              "      background-color: #3B4455;\n",
              "      fill: #D2E3FC;\n",
              "    }\n",
              "\n",
              "    [theme=dark] .colab-df-convert:hover {\n",
              "      background-color: #434B5C;\n",
              "      box-shadow: 0px 1px 3px 1px rgba(0, 0, 0, 0.15);\n",
              "      filter: drop-shadow(0px 1px 2px rgba(0, 0, 0, 0.3));\n",
              "      fill: #FFFFFF;\n",
              "    }\n",
              "  </style>\n",
              "\n",
              "    <script>\n",
              "      const buttonEl =\n",
              "        document.querySelector('#df-ebea16e5-e2dd-459f-93ed-316f25c1359d button.colab-df-convert');\n",
              "      buttonEl.style.display =\n",
              "        google.colab.kernel.accessAllowed ? 'block' : 'none';\n",
              "\n",
              "      async function convertToInteractive(key) {\n",
              "        const element = document.querySelector('#df-ebea16e5-e2dd-459f-93ed-316f25c1359d');\n",
              "        const dataTable =\n",
              "          await google.colab.kernel.invokeFunction('convertToInteractive',\n",
              "                                                    [key], {});\n",
              "        if (!dataTable) return;\n",
              "\n",
              "        const docLinkHtml = 'Like what you see? Visit the ' +\n",
              "          '<a target=\"_blank\" href=https://colab.research.google.com/notebooks/data_table.ipynb>data table notebook</a>'\n",
              "          + ' to learn more about interactive tables.';\n",
              "        element.innerHTML = '';\n",
              "        dataTable['output_type'] = 'display_data';\n",
              "        await google.colab.output.renderOutput(dataTable, element);\n",
              "        const docLink = document.createElement('div');\n",
              "        docLink.innerHTML = docLinkHtml;\n",
              "        element.appendChild(docLink);\n",
              "      }\n",
              "    </script>\n",
              "  </div>\n",
              "\n",
              "    </div>\n",
              "  </div>\n"
            ],
            "application/vnd.google.colaboratory.intrinsic+json": {
              "type": "dataframe",
              "repr_error": "Out of range float values are not JSON compliant: nan"
            }
          },
          "metadata": {}
        }
      ],
      "source": [
        "display('Регион 0 и 1 совпадения')\n",
        "display(df_0[df_0['id'].isin(df_1['id'])])\n",
        "display('Удаление по индексам')\n",
        "drop_index_0 = df_0[df_0['id'].isin(df_1['id'])].index\n",
        "drop_index_1 = df_1[df_1['id'].isin(df_0['id'])].index\n",
        "display(drop_index_0.sort_values())\n",
        "display(drop_index_1.sort_values())\n",
        "df_0.drop(index=drop_index_0,inplace=True)\n",
        "df_1.drop(index=drop_index_1,inplace=True)\n",
        "display('Результат удаления')\n",
        "display(df_0[df_0['id'].isin(df_1['id'])])\n",
        "\n",
        "display('--------------------------------')\n",
        "display('Регион 0 и 2 совпадения')\n",
        "display(df_0[df_0['id'].isin(df_2['id'])])\n",
        "drop_index_0 = df_0[df_0['id'].isin(df_2['id'])].index\n",
        "drop_index_2 = df_2[df_2['id'].isin(df_0['id'])].index\n",
        "display('Удаление по индексам')\n",
        "display(drop_index_0.sort_values())\n",
        "display(drop_index_2.sort_values())\n",
        "df_0.drop(index=drop_index_0,inplace=True)\n",
        "df_2.drop(index=drop_index_2,inplace=True)\n",
        "display('Результат удаления')\n",
        "display(df_0[df_0['id'].isin(df_2['id'])])\n",
        "\n",
        "display('--------------------------------')\n",
        "display('Регион 1 и 2 совпадения')\n",
        "display(df_1[df_1['id'].isin(df_2['id'])])\n",
        "display('Удаление по индексам')\n",
        "drop_index_1 = df_1[df_1['id'].isin(df_2['id'])].index\n",
        "drop_index_2 = df_2[df_2['id'].isin(df_1['id'])].index\n",
        "display(drop_index_1.sort_values())\n",
        "display(drop_index_2.sort_values())\n",
        "df_1.drop(index=drop_index_1,inplace=True)\n",
        "df_2.drop(index=drop_index_2,inplace=True)\n",
        "display('Результат удаления')\n",
        "display(df_1[df_1['id'].isin(df_2['id'])])\n",
        "# сбросим индексы\n",
        "df_0 = df_0.reset_index(drop=True)\n",
        "df_1 = df_1.reset_index(drop=True)\n",
        "df_2 = df_2.reset_index(drop=True)"
      ]
    },
    {
      "cell_type": "markdown",
      "metadata": {
        "id": "WXFcfDPv7PKO"
      },
      "source": [
        "### Итог:"
      ]
    },
    {
      "cell_type": "markdown",
      "metadata": {
        "id": "4tt6N0QN7PKO"
      },
      "source": [
        "* в регионе `geo_data_0.csv` удалили 37 скважин\n",
        "* в регионе `geo_data_1.csv` удалили 18 скважин\n",
        "* в регионе `geo_data_2.csv` удалили 25 скважин\n",
        "\n",
        "* данные отличаются по регионом похожи их не получиться объединить для обучения одной общей модели (нет понимания что это за данные).\n",
        "* будем обучать модель для каждого региона, один регион одна модель.\n",
        "* сбросили индексы\n"
      ]
    },
    {
      "cell_type": "markdown",
      "metadata": {
        "id": "8_nH1UaO7PKO"
      },
      "source": [
        "## Обучение и проверка модели"
      ]
    },
    {
      "cell_type": "markdown",
      "metadata": {
        "id": "40U67Uvs7PKO"
      },
      "source": [
        "### Кориляция"
      ]
    },
    {
      "cell_type": "code",
      "execution_count": 24,
      "metadata": {
        "colab": {
          "base_uri": "https://localhost:8080/",
          "height": 1000
        },
        "id": "feB3mn7h7PKO",
        "outputId": "88e1c45c-c4e5-4c63-e13c-5fe0dee5c26c"
      },
      "outputs": [
        {
          "output_type": "stream",
          "name": "stdout",
          "text": [
            "interval columns not set, guessing: ['f0', 'f1', 'f2', 'product']\n"
          ]
        },
        {
          "output_type": "display_data",
          "data": {
            "text/plain": [
              "<Figure size 600x400 with 2 Axes>"
            ],
            "image/png": "[encoded data removed]"
          },
          "metadata": {}
        },
        {
          "output_type": "stream",
          "name": "stdout",
          "text": [
            "interval columns not set, guessing: ['f0', 'f1', 'f2', 'product']\n"
          ]
        },
        {
          "output_type": "display_data",
          "data": {
            "text/plain": [
              "<Figure size 600x400 with 2 Axes>"
            ],
            "image/png": "[encoded data removed]"
          },
          "metadata": {}
        },
        {
          "output_type": "stream",
          "name": "stdout",
          "text": [
            "interval columns not set, guessing: ['f0', 'f1', 'f2', 'product']\n"
          ]
        },
        {
          "output_type": "display_data",
          "data": {
            "text/plain": [
              "<Figure size 600x400 with 2 Axes>"
            ],
            "image/png": "[encoded data removed]"
          },
          "metadata": {}
        }
      ],
      "source": [
        "for i in ['df_0','df_1','df_2']:\n",
        "  corr_matrix = globals()[i].drop('id', axis=1).phik_matrix()\n",
        "  # Визуализация матрицы корреляции\n",
        "  plt.figure(figsize=(6, 4))\n",
        "  sns.heatmap(corr_matrix, annot=True, cmap='coolwarm')\n",
        "  plt.title('Phi_K Correlation Matrix')\n",
        "  plt.show()"
      ]
    },
    {
      "cell_type": "markdown",
      "metadata": {
        "id": "VGRAedbP7PKP"
      },
      "source": [
        "* в 1 регионе просматривается мультикориляция\n",
        "* но мы с этим нечего поделать не можем"
      ]
    },
    {
      "cell_type": "markdown",
      "metadata": {
        "id": "rWihj9-D7PKP"
      },
      "source": [
        "### Обучим и проверим модель для каждого региона"
      ]
    },
    {
      "cell_type": "code",
      "execution_count": 25,
      "metadata": {
        "colab": {
          "base_uri": "https://localhost:8080/",
          "height": 411
        },
        "id": "QLrvrtJ17PKP",
        "outputId": "024c10d5-9c2a-46d4-8fc1-287fe94bc0e9"
      },
      "outputs": [
        {
          "output_type": "display_data",
          "data": {
            "text/plain": [
              "'Запас сырья в регионе : 0'"
            ],
            "application/vnd.google.colaboratory.intrinsic+json": {
              "type": "string"
            }
          },
          "metadata": {}
        },
        {
          "output_type": "display_data",
          "data": {
            "text/plain": [
              "'Средний предсказанный : 92.6457685220082'"
            ],
            "application/vnd.google.colaboratory.intrinsic+json": {
              "type": "string"
            }
          },
          "metadata": {}
        },
        {
          "output_type": "display_data",
          "data": {
            "text/plain": [
              "'Средний фактический   : 92.49776240245946'"
            ],
            "application/vnd.google.colaboratory.intrinsic+json": {
              "type": "string"
            }
          },
          "metadata": {}
        },
        {
          "output_type": "stream",
          "name": "stderr",
          "text": [
            "/usr/local/lib/python3.10/dist-packages/sklearn/metrics/_regression.py:492: FutureWarning: 'squared' is deprecated in version 1.4 and will be removed in 1.6. To calculate the root mean squared error, use the function'root_mean_squared_error'.\n",
            "  warnings.warn(\n"
          ]
        },
        {
          "output_type": "display_data",
          "data": {
            "text/plain": [
              "'RМСЕ                  : 37.67136600366545'"
            ],
            "application/vnd.google.colaboratory.intrinsic+json": {
              "type": "string"
            }
          },
          "metadata": {}
        },
        {
          "output_type": "display_data",
          "data": {
            "text/plain": [
              "'------------------------'"
            ],
            "application/vnd.google.colaboratory.intrinsic+json": {
              "type": "string"
            }
          },
          "metadata": {}
        },
        {
          "output_type": "display_data",
          "data": {
            "text/plain": [
              "'Запас сырья в регионе : 1'"
            ],
            "application/vnd.google.colaboratory.intrinsic+json": {
              "type": "string"
            }
          },
          "metadata": {}
        },
        {
          "output_type": "display_data",
          "data": {
            "text/plain": [
              "'Средний предсказанный : 69.08251486551906'"
            ],
            "application/vnd.google.colaboratory.intrinsic+json": {
              "type": "string"
            }
          },
          "metadata": {}
        },
        {
          "output_type": "display_data",
          "data": {
            "text/plain": [
              "'Средний фактический   : 68.82422825861059'"
            ],
            "application/vnd.google.colaboratory.intrinsic+json": {
              "type": "string"
            }
          },
          "metadata": {}
        },
        {
          "output_type": "stream",
          "name": "stderr",
          "text": [
            "/usr/local/lib/python3.10/dist-packages/sklearn/metrics/_regression.py:492: FutureWarning: 'squared' is deprecated in version 1.4 and will be removed in 1.6. To calculate the root mean squared error, use the function'root_mean_squared_error'.\n",
            "  warnings.warn(\n"
          ]
        },
        {
          "output_type": "display_data",
          "data": {
            "text/plain": [
              "'RМСЕ                  : 0.8892843941268835'"
            ],
            "application/vnd.google.colaboratory.intrinsic+json": {
              "type": "string"
            }
          },
          "metadata": {}
        },
        {
          "output_type": "display_data",
          "data": {
            "text/plain": [
              "'------------------------'"
            ],
            "application/vnd.google.colaboratory.intrinsic+json": {
              "type": "string"
            }
          },
          "metadata": {}
        },
        {
          "output_type": "display_data",
          "data": {
            "text/plain": [
              "'Запас сырья в регионе : 2'"
            ],
            "application/vnd.google.colaboratory.intrinsic+json": {
              "type": "string"
            }
          },
          "metadata": {}
        },
        {
          "output_type": "display_data",
          "data": {
            "text/plain": [
              "'Средний предсказанный : 94.74414231362438'"
            ],
            "application/vnd.google.colaboratory.intrinsic+json": {
              "type": "string"
            }
          },
          "metadata": {}
        },
        {
          "output_type": "display_data",
          "data": {
            "text/plain": [
              "'Средний фактический   : 94.99708530681983'"
            ],
            "application/vnd.google.colaboratory.intrinsic+json": {
              "type": "string"
            }
          },
          "metadata": {}
        },
        {
          "output_type": "stream",
          "name": "stderr",
          "text": [
            "/usr/local/lib/python3.10/dist-packages/sklearn/metrics/_regression.py:492: FutureWarning: 'squared' is deprecated in version 1.4 and will be removed in 1.6. To calculate the root mean squared error, use the function'root_mean_squared_error'.\n",
            "  warnings.warn(\n"
          ]
        },
        {
          "output_type": "display_data",
          "data": {
            "text/plain": [
              "'RМСЕ                  : 39.90954522540902'"
            ],
            "application/vnd.google.colaboratory.intrinsic+json": {
              "type": "string"
            }
          },
          "metadata": {}
        },
        {
          "output_type": "display_data",
          "data": {
            "text/plain": [
              "'------------------------'"
            ],
            "application/vnd.google.colaboratory.intrinsic+json": {
              "type": "string"
            }
          },
          "metadata": {}
        }
      ],
      "source": [
        "# все регионы все валедационные наборы и предсказания по ним будем записывать сюда\n",
        "df_reg_valid_pred = {'df_0':[],'df_1':[],'df_2':[]}\n",
        "\n",
        "for _df_reg in ['df_0','df_1','df_2']:\n",
        "\n",
        "    features = globals()[_df_reg].drop(['id','product'], axis=1)\n",
        "    target = globals()[_df_reg]['product']\n",
        "\n",
        "    # разабьём на тренировочную и целевую 75:25\n",
        "    features_train, features_valid, target_train, target_valid = train_test_split(\n",
        "    features, target, test_size = 0.25, random_state = RANDOM_STATE)\n",
        "\n",
        "    # приводим значения всех признаков к единой шкале\n",
        "    scaler = StandardScaler()\n",
        "    features_train = pd.DataFrame(scaler.fit_transform(features_train))\n",
        "    features_valid = pd.DataFrame(scaler.transform(features_valid))\n",
        "\n",
        "    model = LinearRegression()\n",
        "    model = model.fit(features_train, target_train)\n",
        "    pred = model.predict(features_valid)\n",
        "\n",
        "    # правельные ответы и предсказанный результат запишим в словарик\n",
        "    df_reg_valid_pred[_df_reg].append(pd.Series(target_valid).reset_index(drop=True))\n",
        "    df_reg_valid_pred[_df_reg].append(pd.Series(pred))\n",
        "\n",
        "\n",
        "    # результат\n",
        "    display(f'Запас сырья в регионе : {_df_reg[3:]}')\n",
        "    display(f'Средний предсказанный : {pred.mean()}')\n",
        "    display(f'Средний фактический   : {target.mean()}')\n",
        "    display(f'RМСЕ                  : {mean_squared_error(target_valid, pred, squared=False)}')\n",
        "    display('------------------------')"
      ]
    },
    {
      "cell_type": "markdown",
      "metadata": {
        "id": "l4Ov9yL77PKQ"
      },
      "source": [
        "### Вывод"
      ]
    },
    {
      "cell_type": "markdown",
      "metadata": {
        "id": "9wNSz6vL7PKQ"
      },
      "source": [
        "* 0 регион и 2 регион показывают высокий средний уровень нефти но ошибки очень велики можно наткнутца на скважену с ниским запасом нефти 92-37 = 55 и 94-40 = 54, но успакаивает то что средний предсказанный совпадает с фактическим\n",
        "* 1 регион имеет низкий запас сырья но шибка наткнутся на ниский запас маленькая по сравнению с другими регионами 68-1 = 67"
      ]
    },
    {
      "cell_type": "markdown",
      "metadata": {
        "id": "JqZV9dc-7PKQ"
      },
      "source": [
        "## Подготовка к расчёту прибыли"
      ]
    },
    {
      "cell_type": "markdown",
      "metadata": {
        "id": "APQ0VV0Z7PKQ"
      },
      "source": [
        "### Все ключевые значения сохраним в отдельные переменные"
      ]
    },
    {
      "cell_type": "code",
      "execution_count": 26,
      "metadata": {
        "id": "mroggAUb7PKQ"
      },
      "outputs": [],
      "source": [
        "# сохраним данные\n",
        "Total_well = 500 # всего исследуют\n",
        "Super_well = 200 # лучших\n",
        "Budget = 10000000000 # бюджет\n",
        "Income = 450000 # доход с одной целевой единицы\n",
        "State = np.random.RandomState(12345)\n"
      ]
    },
    {
      "cell_type": "markdown",
      "metadata": {
        "id": "kze78fjg7PKR"
      },
      "source": [
        "### Расчёт достаточного объёма сырья для безубыточной разработки новой скважины."
      ]
    },
    {
      "cell_type": "code",
      "execution_count": 27,
      "metadata": {
        "colab": {
          "base_uri": "https://localhost:8080/",
          "height": 35
        },
        "id": "F06eFLPE7PKR",
        "outputId": "92651e67-568c-48e7-8279-709f3a7f4446"
      },
      "outputs": [
        {
          "output_type": "display_data",
          "data": {
            "text/plain": [
              "'Для получения прибыли необходимо больше: 111.11 тыс.бар нефти с одной скважены'"
            ],
            "application/vnd.google.colaboratory.intrinsic+json": {
              "type": "string"
            }
          },
          "metadata": {}
        }
      ],
      "source": [
        "_min_oil = (Budget / Super_well / Income)\n",
        "display(f'Для получения прибыли необходимо больше: {_min_oil:.2f} тыс.бар нефти с одной скважены')"
      ]
    },
    {
      "cell_type": "markdown",
      "metadata": {
        "id": "IJOG6BfZ7PKR"
      },
      "source": [
        "### Сравним полученный объём сырья со средним запасом в каждом регионе."
      ]
    },
    {
      "cell_type": "code",
      "execution_count": 28,
      "metadata": {
        "colab": {
          "base_uri": "https://localhost:8080/",
          "height": 1000
        },
        "id": "h3ewMjqF7PKR",
        "outputId": "6780a52f-1f0e-43a2-99a7-d3eba7c91326"
      },
      "outputs": [
        {
          "output_type": "display_data",
          "data": {
            "text/plain": [
              "<Figure size 640x480 with 1 Axes>"
            ],
            "image/png": "[encoded data removed]"
          },
          "metadata": {}
        },
        {
          "output_type": "display_data",
          "data": {
            "text/plain": [
              "''"
            ],
            "application/vnd.google.colaboratory.intrinsic+json": {
              "type": "string"
            }
          },
          "metadata": {}
        },
        {
          "output_type": "display_data",
          "data": {
            "text/plain": [
              "<Figure size 640x480 with 1 Axes>"
            ],
            "image/png": "[encoded data removed]"
          },
          "metadata": {}
        },
        {
          "output_type": "display_data",
          "data": {
            "text/plain": [
              "''"
            ],
            "application/vnd.google.colaboratory.intrinsic+json": {
              "type": "string"
            }
          },
          "metadata": {}
        },
        {
          "output_type": "display_data",
          "data": {
            "text/plain": [
              "<Figure size 640x480 with 1 Axes>"
            ],
            "image/png": "[encoded data removed]"
          },
          "metadata": {}
        },
        {
          "output_type": "display_data",
          "data": {
            "text/plain": [
              "''"
            ],
            "application/vnd.google.colaboratory.intrinsic+json": {
              "type": "string"
            }
          },
          "metadata": {}
        }
      ],
      "source": [
        "def pct(values):\n",
        "        def my_format(pct):\n",
        "            total = sum(values)\n",
        "            val = int(round(pct*total/100.0))\n",
        "            return '{:.2f}%'.format(pct, v=val)\n",
        "        return my_format\n",
        "\n",
        "for _df_reg in ['df_0','df_1','df_2']:\n",
        "   _s_0 = globals()[_df_reg]['product'].mean()\n",
        "   _s_1 = _min_oil - _s_0\n",
        "   s = [_s_0,_s_1]\n",
        "   plt.pie(s,labels = ['средний запас сырья', 'нехвотает до начала рентабельности'], autopct=pct(s))\n",
        "   plt.title('Регион: ' + _df_reg[3:])\n",
        "   plt.show()\n",
        "   display('')"
      ]
    },
    {
      "cell_type": "markdown",
      "metadata": {
        "id": "uoRu0AhO7PKR"
      },
      "source": [
        "* во всех регионах маловата сырья\n",
        "* похоже второй регион самый перспективный для разработки\n",
        "* но если бурить в слепую убыточность обеспечена\n",
        "* но теперь у нас есть набор скважин с объёмом сырья как с предсказанным так и истинным в словаре `new_df_reg_valid_pred`\n",
        "* будем выбирать из предсказанных"
      ]
    },
    {
      "cell_type": "markdown",
      "metadata": {
        "id": "HkVL-A1n7PKR"
      },
      "source": [
        "## Расчёт прибыли и рисков"
      ]
    },
    {
      "cell_type": "markdown",
      "metadata": {
        "id": "spmt3jo67PKR"
      },
      "source": [
        "###  Функцию для расчёта прибыли по лучим скважинам с максимальными значениями сырья."
      ]
    },
    {
      "cell_type": "code",
      "execution_count": 29,
      "metadata": {
        "scrolled": true,
        "colab": {
          "base_uri": "https://localhost:8080/",
          "height": 179
        },
        "id": "jUIkJcVn7PKS",
        "outputId": "6aa62ef3-ddae-4ccc-9a5a-f0befc6e4576"
      },
      "outputs": [
        {
          "output_type": "display_data",
          "data": {
            "text/plain": [
              "'регион  : 0'"
            ],
            "application/vnd.google.colaboratory.intrinsic+json": {
              "type": "string"
            }
          },
          "metadata": {}
        },
        {
          "output_type": "display_data",
          "data": {
            "text/plain": [
              "'выручка : 3,066,185,263 р.'"
            ],
            "application/vnd.google.colaboratory.intrinsic+json": {
              "type": "string"
            }
          },
          "metadata": {}
        },
        {
          "output_type": "display_data",
          "data": {
            "text/plain": [
              "'----------------------------'"
            ],
            "application/vnd.google.colaboratory.intrinsic+json": {
              "type": "string"
            }
          },
          "metadata": {}
        },
        {
          "output_type": "display_data",
          "data": {
            "text/plain": [
              "'регион  : 1'"
            ],
            "application/vnd.google.colaboratory.intrinsic+json": {
              "type": "string"
            }
          },
          "metadata": {}
        },
        {
          "output_type": "display_data",
          "data": {
            "text/plain": [
              "'выручка : 2,415,086,697 р.'"
            ],
            "application/vnd.google.colaboratory.intrinsic+json": {
              "type": "string"
            }
          },
          "metadata": {}
        },
        {
          "output_type": "display_data",
          "data": {
            "text/plain": [
              "'----------------------------'"
            ],
            "application/vnd.google.colaboratory.intrinsic+json": {
              "type": "string"
            }
          },
          "metadata": {}
        },
        {
          "output_type": "display_data",
          "data": {
            "text/plain": [
              "'регион  : 2'"
            ],
            "application/vnd.google.colaboratory.intrinsic+json": {
              "type": "string"
            }
          },
          "metadata": {}
        },
        {
          "output_type": "display_data",
          "data": {
            "text/plain": [
              "'выручка : 2,552,953,703 р.'"
            ],
            "application/vnd.google.colaboratory.intrinsic+json": {
              "type": "string"
            }
          },
          "metadata": {}
        },
        {
          "output_type": "display_data",
          "data": {
            "text/plain": [
              "'----------------------------'"
            ],
            "application/vnd.google.colaboratory.intrinsic+json": {
              "type": "string"
            }
          },
          "metadata": {}
        }
      ],
      "source": [
        "# сортируем по прогнозу а считаем по факту\n",
        "# истинное целевое (0)\n",
        "# предсказанное целевое (1)\n",
        "def def_many():\n",
        "    for _reg in df_reg_valid_pred:\n",
        "        # отберём 200 самых жирных из предсказанных:\n",
        "        _index = df_reg_valid_pred[_reg][1].sort_values().tail(Super_well).index\n",
        "\n",
        "        # суммируем истенные значения предсказанных скважен:\n",
        "        mean = df_reg_valid_pred[_reg][0][_index].sum()\n",
        "\n",
        "        mean = Income * mean - Budget\n",
        "        display(f'регион  : {_reg[3:]}')\n",
        "        display(f'выручка : {mean:,.0f} р.')\n",
        "        display('----------------------------')\n",
        "def_many()"
      ]
    },
    {
      "cell_type": "markdown",
      "metadata": {
        "id": "3iS1oqsI7PKS"
      },
      "source": [
        "* похоже что 0 регион самый прибыльный"
      ]
    },
    {
      "cell_type": "markdown",
      "metadata": {
        "id": "NsPwfDD67PKS"
      },
      "source": [
        "### Посчитаем риски и прибыль для каждого региона. Используем технику Bootstrap с 1000 выборками"
      ]
    },
    {
      "cell_type": "code",
      "execution_count": 30,
      "metadata": {
        "colab": {
          "base_uri": "https://localhost:8080/",
          "height": 287
        },
        "id": "K3xxg3oh7PKS",
        "outputId": "53775187-0492-4338-a167-28cf17c2a82a"
      },
      "outputs": [
        {
          "output_type": "display_data",
          "data": {
            "text/plain": [
              "'регион                     : 0'"
            ],
            "application/vnd.google.colaboratory.intrinsic+json": {
              "type": "string"
            }
          },
          "metadata": {}
        },
        {
          "output_type": "display_data",
          "data": {
            "text/plain": [
              "'средняя выручка            : 426,980,494 р.'"
            ],
            "application/vnd.google.colaboratory.intrinsic+json": {
              "type": "string"
            }
          },
          "metadata": {}
        },
        {
          "output_type": "display_data",
          "data": {
            "text/plain": [
              "'95% доверительный интервал : -100,219,319 р. <---> 936,609,214 р.'"
            ],
            "application/vnd.google.colaboratory.intrinsic+json": {
              "type": "string"
            }
          },
          "metadata": {}
        },
        {
          "output_type": "display_data",
          "data": {
            "text/plain": [
              "'риск получить убытки       : 5.60 %'"
            ],
            "application/vnd.google.colaboratory.intrinsic+json": {
              "type": "string"
            }
          },
          "metadata": {}
        },
        {
          "output_type": "display_data",
          "data": {
            "text/plain": [
              "'----------------------------'"
            ],
            "application/vnd.google.colaboratory.intrinsic+json": {
              "type": "string"
            }
          },
          "metadata": {}
        },
        {
          "output_type": "display_data",
          "data": {
            "text/plain": [
              "'регион                     : 1'"
            ],
            "application/vnd.google.colaboratory.intrinsic+json": {
              "type": "string"
            }
          },
          "metadata": {}
        },
        {
          "output_type": "display_data",
          "data": {
            "text/plain": [
              "'средняя выручка            : 492,560,948 р.'"
            ],
            "application/vnd.google.colaboratory.intrinsic+json": {
              "type": "string"
            }
          },
          "metadata": {}
        },
        {
          "output_type": "display_data",
          "data": {
            "text/plain": [
              "'95% доверительный интервал : 96,693,656 р. <---> 888,003,043 р.'"
            ],
            "application/vnd.google.colaboratory.intrinsic+json": {
              "type": "string"
            }
          },
          "metadata": {}
        },
        {
          "output_type": "display_data",
          "data": {
            "text/plain": [
              "'риск получить убытки       : 0.90 %'"
            ],
            "application/vnd.google.colaboratory.intrinsic+json": {
              "type": "string"
            }
          },
          "metadata": {}
        },
        {
          "output_type": "display_data",
          "data": {
            "text/plain": [
              "'----------------------------'"
            ],
            "application/vnd.google.colaboratory.intrinsic+json": {
              "type": "string"
            }
          },
          "metadata": {}
        },
        {
          "output_type": "display_data",
          "data": {
            "text/plain": [
              "'регион                     : 2'"
            ],
            "application/vnd.google.colaboratory.intrinsic+json": {
              "type": "string"
            }
          },
          "metadata": {}
        },
        {
          "output_type": "display_data",
          "data": {
            "text/plain": [
              "'средняя выручка            : 378,200,602 р.'"
            ],
            "application/vnd.google.colaboratory.intrinsic+json": {
              "type": "string"
            }
          },
          "metadata": {}
        },
        {
          "output_type": "display_data",
          "data": {
            "text/plain": [
              "'95% доверительный интервал : -128,060,811 р. <---> 878,041,585 р.'"
            ],
            "application/vnd.google.colaboratory.intrinsic+json": {
              "type": "string"
            }
          },
          "metadata": {}
        },
        {
          "output_type": "display_data",
          "data": {
            "text/plain": [
              "'риск получить убытки       : 8.10 %'"
            ],
            "application/vnd.google.colaboratory.intrinsic+json": {
              "type": "string"
            }
          },
          "metadata": {}
        },
        {
          "output_type": "display_data",
          "data": {
            "text/plain": [
              "'----------------------------'"
            ],
            "application/vnd.google.colaboratory.intrinsic+json": {
              "type": "string"
            }
          },
          "metadata": {}
        }
      ],
      "source": [
        "# подсчёт прибыли из 200 самых жирных из 500 случайных:\n",
        "# истинное целевое (0)\n",
        "# предсказанное целевое (1)\n",
        "\n",
        "def def_bootstrap(_reg, pred):\n",
        "    money = []\n",
        "    for i in range(1000):\n",
        "\n",
        "        # отберём 200 самых жирных из предсказанных сэмплированных:\n",
        "        _index = pred.sample(n=Total_well, replace=True, random_state=State).\\\n",
        "        sort_values().tail(Super_well).index\n",
        "\n",
        "\n",
        "        # суммируем истенные значения предсказанных скважен:\n",
        "        valid_sum = df_reg_valid_pred[_reg][0][_index].sum()\n",
        "\n",
        "        money.append((Income * valid_sum) - Budget)\n",
        "\n",
        "    return pd.Series(money)\n",
        "\n",
        "# истинное целевое (0)\n",
        "# предсказанное целевое (1)\n",
        "\n",
        "def pred_many():\n",
        "    for _reg in df_reg_valid_pred:\n",
        "        itog = def_bootstrap(_reg,df_reg_valid_pred[_reg][1])\n",
        "        mean = itog.mean()\n",
        "        down = itog.quantile(0.025)\n",
        "        up = itog.quantile(0.975)\n",
        "        plt.show()\n",
        "        risk = (itog < 0).mean() * 100\n",
        "        display(f'регион                     : {_reg[3:]}')\n",
        "        display(f'средняя выручка            : {mean:,.0f} р.')\n",
        "        display(f'95% доверительный интервал : {down:,.0f} р. <---> {up:,.0f} р.')\n",
        "        display(f'риск получить убытки       : {risk:.2f} %')\n",
        "        display('----------------------------')\n",
        "pred_many()"
      ]
    },
    {
      "cell_type": "markdown",
      "metadata": {
        "id": "JpG6I49X7PKT"
      },
      "source": [
        "### Вывод:"
      ]
    },
    {
      "cell_type": "markdown",
      "metadata": {
        "id": "xvGwAFQx7PKT"
      },
      "source": [
        "* **Проведён подсчёт прибыли и рисков при освоении новых скважин в трёз регионах.**\n",
        "\n",
        "\n",
        "- была представлена информация о 3х регионах с показателями и целевыми признаками, что позволило построить модель и предсказать объём сырья по трём регионам.\n",
        "- в представленных данных были дублированные скважины с разными показателями, что говорит о возможных ошибках в сборе или обработке данных\n",
        "- такие ошибки надо обязательно разбирать возможно это только верхушка айсберга\n",
        "- в итоге было удалено 80 скважин с разных регионов\n",
        "- простые расчёты показали что средний запас сырья ни в одном регионе не достаточен для получения прибыли.\n",
        "- построенная модель показала что 1 регион очень предсказуем хотя имеет и меньше запасов сырья\n",
        "- после применения модели и отбору самых объёмистых скважин в лидерах оказался 0 регион с прибылью до 3 млрд. казалось бы не плохо.\n",
        "\n",
        "\n",
        "* **После использования техники Bootstrap с 1000 выборками можно сделать окончательный вывод:**\n",
        "\n",
        "\n",
        "-  оказалось что имея достаточно точные предсказания в 1 регионе мы получим наибольшую прибыль при невысоких рисках.\n",
        "- надо бурить в 1 регионе.\n",
        "- и в дальнейшем не экономить на исследовании в области предсказания объёмов сырья это на прямую сказывается на прибыльность!"
      ]
    },
    {
      "cell_type": "code",
      "execution_count": 31,
      "metadata": {
        "colab": {
          "base_uri": "https://localhost:8080/",
          "height": 35
        },
        "id": "6D0jXg1U7PKU",
        "outputId": "439601a2-a08a-49fe-b6ac-4893da84733d"
      },
      "outputs": [
        {
          "output_type": "execute_result",
          "data": {
            "text/plain": [
              "'end'"
            ],
            "application/vnd.google.colaboratory.intrinsic+json": {
              "type": "string"
            }
          },
          "metadata": {},
          "execution_count": 31
        }
      ],
      "source": [
        "'end'"
      ]
    }
  ],
  "metadata": {
    "ExecuteTimeLog": [
      {
        "duration": 5175,
        "start_time": "2024-03-17T13:53:39.077Z"
      },
      {
        "duration": 17,
        "start_time": "2024-03-17T13:53:44.254Z"
      },
      {
        "duration": 5,
        "start_time": "2024-03-17T13:53:49.099Z"
      },
      {
        "duration": 543,
        "start_time": "2024-03-17T13:53:51.894Z"
      },
      {
        "duration": 91,
        "start_time": "2024-03-17T13:54:04.695Z"
      },
      {
        "duration": 16,
        "start_time": "2024-03-17T13:54:09.095Z"
      },
      {
        "duration": 160,
        "start_time": "2024-03-17T13:54:53.864Z"
      },
      {
        "duration": 27,
        "start_time": "2024-03-17T13:55:26.624Z"
      },
      {
        "duration": 136,
        "start_time": "2024-03-17T13:55:35.136Z"
      },
      {
        "duration": 946,
        "start_time": "2024-03-17T13:56:03.349Z"
      },
      {
        "duration": 963,
        "start_time": "2024-03-17T13:56:19.281Z"
      },
      {
        "duration": 592,
        "start_time": "2024-03-17T13:57:10.707Z"
      },
      {
        "duration": 16,
        "start_time": "2024-03-17T13:57:34.059Z"
      },
      {
        "duration": 168,
        "start_time": "2024-03-17T13:57:41.221Z"
      },
      {
        "duration": 35,
        "start_time": "2024-03-17T13:57:50.294Z"
      },
      {
        "duration": 159,
        "start_time": "2024-03-17T13:57:57.615Z"
      },
      {
        "duration": 888,
        "start_time": "2024-03-17T13:58:28.023Z"
      },
      {
        "duration": 1010,
        "start_time": "2024-03-17T13:58:34.320Z"
      },
      {
        "duration": 592,
        "start_time": "2024-03-17T13:59:01.016Z"
      },
      {
        "duration": 18,
        "start_time": "2024-03-17T13:59:09.438Z"
      },
      {
        "duration": 138,
        "start_time": "2024-03-17T13:59:16.196Z"
      },
      {
        "duration": 28,
        "start_time": "2024-03-17T13:59:42.133Z"
      },
      {
        "duration": 144,
        "start_time": "2024-03-17T13:59:48.623Z"
      },
      {
        "duration": 872,
        "start_time": "2024-03-17T13:59:58.557Z"
      },
      {
        "duration": 452,
        "start_time": "2024-03-17T14:00:50.638Z"
      },
      {
        "duration": 1781,
        "start_time": "2024-03-17T14:04:17.692Z"
      },
      {
        "duration": 2,
        "start_time": "2024-03-17T14:05:07.868Z"
      },
      {
        "duration": 9687,
        "start_time": "2024-03-17T14:05:31.678Z"
      },
      {
        "duration": 9614,
        "start_time": "2024-03-17T14:06:18.041Z"
      },
      {
        "duration": 13,
        "start_time": "2024-03-17T14:10:49.193Z"
      },
      {
        "duration": 4,
        "start_time": "2024-03-17T14:11:44.657Z"
      },
      {
        "duration": 363,
        "start_time": "2024-03-17T14:12:23.706Z"
      },
      {
        "duration": 5,
        "start_time": "2024-03-17T14:14:37.327Z"
      },
      {
        "duration": 48,
        "start_time": "2024-03-17T14:15:21.512Z"
      },
      {
        "duration": 48,
        "start_time": "2024-03-17T14:16:14.158Z"
      },
      {
        "duration": 6,
        "start_time": "2024-03-17T14:19:27.785Z"
      },
      {
        "duration": 6232,
        "start_time": "2024-03-17T14:20:10.866Z"
      },
      {
        "duration": 6295,
        "start_time": "2024-03-17T14:20:20.709Z"
      },
      {
        "duration": 4036,
        "start_time": "2024-03-17T14:23:07.673Z"
      },
      {
        "duration": 16,
        "start_time": "2024-03-17T14:23:11.711Z"
      },
      {
        "duration": 4,
        "start_time": "2024-03-17T14:23:11.729Z"
      },
      {
        "duration": 165,
        "start_time": "2024-03-17T14:23:11.735Z"
      },
      {
        "duration": 17,
        "start_time": "2024-03-17T14:23:11.902Z"
      },
      {
        "duration": 158,
        "start_time": "2024-03-17T14:23:11.921Z"
      },
      {
        "duration": 31,
        "start_time": "2024-03-17T14:23:12.081Z"
      },
      {
        "duration": 139,
        "start_time": "2024-03-17T14:23:12.114Z"
      },
      {
        "duration": 990,
        "start_time": "2024-03-17T14:23:12.255Z"
      },
      {
        "duration": 163,
        "start_time": "2024-03-17T14:23:13.248Z"
      },
      {
        "duration": 16,
        "start_time": "2024-03-17T14:23:13.413Z"
      },
      {
        "duration": 251,
        "start_time": "2024-03-17T14:23:13.430Z"
      },
      {
        "duration": 24,
        "start_time": "2024-03-17T14:23:13.682Z"
      },
      {
        "duration": 148,
        "start_time": "2024-03-17T14:23:13.707Z"
      },
      {
        "duration": 905,
        "start_time": "2024-03-17T14:23:13.856Z"
      },
      {
        "duration": 164,
        "start_time": "2024-03-17T14:23:14.762Z"
      },
      {
        "duration": 17,
        "start_time": "2024-03-17T14:23:14.927Z"
      },
      {
        "duration": 181,
        "start_time": "2024-03-17T14:23:14.946Z"
      },
      {
        "duration": 29,
        "start_time": "2024-03-17T14:23:15.128Z"
      },
      {
        "duration": 160,
        "start_time": "2024-03-17T14:23:15.158Z"
      },
      {
        "duration": 900,
        "start_time": "2024-03-17T14:23:15.320Z"
      },
      {
        "duration": 482,
        "start_time": "2024-03-17T14:23:16.221Z"
      },
      {
        "duration": 1731,
        "start_time": "2024-03-17T14:23:16.704Z"
      },
      {
        "duration": 9168,
        "start_time": "2024-03-17T14:23:18.437Z"
      },
      {
        "duration": 12,
        "start_time": "2024-03-17T14:23:27.606Z"
      },
      {
        "duration": 4,
        "start_time": "2024-03-17T14:23:27.620Z"
      },
      {
        "duration": 271,
        "start_time": "2024-03-17T14:23:27.625Z"
      },
      {
        "duration": 4,
        "start_time": "2024-03-17T14:23:27.900Z"
      },
      {
        "duration": 56,
        "start_time": "2024-03-17T14:23:27.905Z"
      },
      {
        "duration": 70,
        "start_time": "2024-03-17T14:23:27.963Z"
      },
      {
        "duration": 5,
        "start_time": "2024-03-17T14:23:28.035Z"
      },
      {
        "duration": 6251,
        "start_time": "2024-03-17T14:23:28.041Z"
      },
      {
        "duration": 6269,
        "start_time": "2024-03-17T14:23:34.293Z"
      },
      {
        "duration": 3,
        "start_time": "2024-03-17T14:23:40.564Z"
      },
      {
        "duration": 4181,
        "start_time": "2024-03-17T14:32:59.598Z"
      },
      {
        "duration": 18,
        "start_time": "2024-03-17T14:33:03.782Z"
      },
      {
        "duration": 6,
        "start_time": "2024-03-17T14:33:03.802Z"
      },
      {
        "duration": 181,
        "start_time": "2024-03-17T14:33:03.811Z"
      },
      {
        "duration": 16,
        "start_time": "2024-03-17T14:33:03.995Z"
      },
      {
        "duration": 177,
        "start_time": "2024-03-17T14:33:04.013Z"
      },
      {
        "duration": 26,
        "start_time": "2024-03-17T14:33:04.192Z"
      },
      {
        "duration": 154,
        "start_time": "2024-03-17T14:33:04.220Z"
      },
      {
        "duration": 1037,
        "start_time": "2024-03-17T14:33:04.376Z"
      },
      {
        "duration": 170,
        "start_time": "2024-03-17T14:33:05.415Z"
      },
      {
        "duration": 18,
        "start_time": "2024-03-17T14:33:05.587Z"
      },
      {
        "duration": 189,
        "start_time": "2024-03-17T14:33:05.607Z"
      },
      {
        "duration": 29,
        "start_time": "2024-03-17T14:33:05.798Z"
      },
      {
        "duration": 176,
        "start_time": "2024-03-17T14:33:05.830Z"
      },
      {
        "duration": 1022,
        "start_time": "2024-03-17T14:33:06.007Z"
      },
      {
        "duration": 170,
        "start_time": "2024-03-17T14:33:07.031Z"
      },
      {
        "duration": 18,
        "start_time": "2024-03-17T14:33:07.203Z"
      },
      {
        "duration": 187,
        "start_time": "2024-03-17T14:33:07.222Z"
      },
      {
        "duration": 23,
        "start_time": "2024-03-17T14:33:07.411Z"
      },
      {
        "duration": 153,
        "start_time": "2024-03-17T14:33:07.436Z"
      },
      {
        "duration": 937,
        "start_time": "2024-03-17T14:33:07.591Z"
      },
      {
        "duration": 469,
        "start_time": "2024-03-17T14:33:08.530Z"
      },
      {
        "duration": 1799,
        "start_time": "2024-03-17T14:33:09.000Z"
      },
      {
        "duration": 8890,
        "start_time": "2024-03-17T14:33:10.801Z"
      },
      {
        "duration": 11,
        "start_time": "2024-03-17T14:33:19.693Z"
      },
      {
        "duration": 4,
        "start_time": "2024-03-17T14:33:19.706Z"
      },
      {
        "duration": 269,
        "start_time": "2024-03-17T14:33:19.712Z"
      },
      {
        "duration": 4,
        "start_time": "2024-03-17T14:33:19.987Z"
      },
      {
        "duration": 72,
        "start_time": "2024-03-17T14:33:19.993Z"
      },
      {
        "duration": 53,
        "start_time": "2024-03-17T14:33:20.067Z"
      },
      {
        "duration": 6,
        "start_time": "2024-03-17T14:33:20.121Z"
      },
      {
        "duration": 6248,
        "start_time": "2024-03-17T14:33:20.128Z"
      },
      {
        "duration": 6278,
        "start_time": "2024-03-17T14:33:26.377Z"
      },
      {
        "duration": 4,
        "start_time": "2024-03-17T14:33:32.657Z"
      },
      {
        "duration": 4815,
        "start_time": "2024-03-18T11:29:51.619Z"
      },
      {
        "duration": 17,
        "start_time": "2024-03-18T11:29:56.436Z"
      },
      {
        "duration": 4,
        "start_time": "2024-03-18T11:29:56.455Z"
      },
      {
        "duration": 392,
        "start_time": "2024-03-18T11:29:56.461Z"
      },
      {
        "duration": 16,
        "start_time": "2024-03-18T11:29:56.856Z"
      },
      {
        "duration": 143,
        "start_time": "2024-03-18T11:29:56.873Z"
      },
      {
        "duration": 24,
        "start_time": "2024-03-18T11:29:57.018Z"
      },
      {
        "duration": 159,
        "start_time": "2024-03-18T11:29:57.043Z"
      },
      {
        "duration": 980,
        "start_time": "2024-03-18T11:29:57.204Z"
      },
      {
        "duration": 226,
        "start_time": "2024-03-18T11:29:58.185Z"
      },
      {
        "duration": 15,
        "start_time": "2024-03-18T11:29:58.412Z"
      },
      {
        "duration": 143,
        "start_time": "2024-03-18T11:29:58.428Z"
      },
      {
        "duration": 28,
        "start_time": "2024-03-18T11:29:58.573Z"
      },
      {
        "duration": 177,
        "start_time": "2024-03-18T11:29:58.603Z"
      },
      {
        "duration": 888,
        "start_time": "2024-03-18T11:29:58.782Z"
      },
      {
        "duration": 234,
        "start_time": "2024-03-18T11:29:59.672Z"
      },
      {
        "duration": 16,
        "start_time": "2024-03-18T11:29:59.908Z"
      },
      {
        "duration": 174,
        "start_time": "2024-03-18T11:29:59.926Z"
      },
      {
        "duration": 33,
        "start_time": "2024-03-18T11:30:00.101Z"
      },
      {
        "duration": 159,
        "start_time": "2024-03-18T11:30:00.136Z"
      },
      {
        "duration": 896,
        "start_time": "2024-03-18T11:30:00.296Z"
      },
      {
        "duration": 529,
        "start_time": "2024-03-18T11:30:01.194Z"
      },
      {
        "duration": 1744,
        "start_time": "2024-03-18T11:30:01.725Z"
      },
      {
        "duration": 150,
        "start_time": "2024-03-18T11:30:07.487Z"
      },
      {
        "duration": 31,
        "start_time": "2024-03-18T11:30:46.097Z"
      },
      {
        "duration": 30,
        "start_time": "2024-03-18T11:32:08.122Z"
      },
      {
        "duration": 32,
        "start_time": "2024-03-18T11:32:45.461Z"
      },
      {
        "duration": 4,
        "start_time": "2024-03-18T11:36:01.111Z"
      },
      {
        "duration": 10,
        "start_time": "2024-03-18T11:36:15.182Z"
      },
      {
        "duration": 11,
        "start_time": "2024-03-18T11:36:46.101Z"
      },
      {
        "duration": 5,
        "start_time": "2024-03-18T11:37:46.389Z"
      },
      {
        "duration": 10,
        "start_time": "2024-03-18T11:38:32.332Z"
      },
      {
        "duration": 45,
        "start_time": "2024-03-18T11:39:00.253Z"
      },
      {
        "duration": 5,
        "start_time": "2024-03-18T11:39:22.779Z"
      },
      {
        "duration": 12,
        "start_time": "2024-03-18T11:39:43.561Z"
      },
      {
        "duration": 9,
        "start_time": "2024-03-18T11:39:56.323Z"
      },
      {
        "duration": 177,
        "start_time": "2024-03-18T11:40:12.801Z"
      },
      {
        "duration": 5,
        "start_time": "2024-03-18T11:40:32.562Z"
      },
      {
        "duration": 3,
        "start_time": "2024-03-18T11:40:41.504Z"
      },
      {
        "duration": 8,
        "start_time": "2024-03-18T11:40:55.919Z"
      },
      {
        "duration": 534,
        "start_time": "2024-03-18T11:41:35.338Z"
      },
      {
        "duration": 495,
        "start_time": "2024-03-18T11:41:55.582Z"
      },
      {
        "duration": 4,
        "start_time": "2024-03-18T11:44:10.485Z"
      },
      {
        "duration": 3,
        "start_time": "2024-03-18T12:09:14.540Z"
      },
      {
        "duration": 5,
        "start_time": "2024-03-18T12:09:15.927Z"
      },
      {
        "duration": 14,
        "start_time": "2024-03-18T12:09:23.483Z"
      },
      {
        "duration": 4,
        "start_time": "2024-03-18T12:10:35.611Z"
      },
      {
        "duration": 465,
        "start_time": "2024-03-18T12:11:34.504Z"
      },
      {
        "duration": 2458,
        "start_time": "2024-03-18T12:11:45.927Z"
      },
      {
        "duration": 16,
        "start_time": "2024-03-18T12:11:48.387Z"
      },
      {
        "duration": 5,
        "start_time": "2024-03-18T12:11:48.404Z"
      },
      {
        "duration": 163,
        "start_time": "2024-03-18T12:11:48.411Z"
      },
      {
        "duration": 19,
        "start_time": "2024-03-18T12:11:48.576Z"
      },
      {
        "duration": 195,
        "start_time": "2024-03-18T12:11:48.597Z"
      },
      {
        "duration": 25,
        "start_time": "2024-03-18T12:11:48.794Z"
      },
      {
        "duration": 162,
        "start_time": "2024-03-18T12:11:48.820Z"
      },
      {
        "duration": 930,
        "start_time": "2024-03-18T12:11:48.984Z"
      },
      {
        "duration": 177,
        "start_time": "2024-03-18T12:11:49.917Z"
      },
      {
        "duration": 16,
        "start_time": "2024-03-18T12:11:50.095Z"
      },
      {
        "duration": 185,
        "start_time": "2024-03-18T12:11:50.112Z"
      },
      {
        "duration": 26,
        "start_time": "2024-03-18T12:11:50.299Z"
      },
      {
        "duration": 162,
        "start_time": "2024-03-18T12:11:50.327Z"
      },
      {
        "duration": 1028,
        "start_time": "2024-03-18T12:11:50.490Z"
      },
      {
        "duration": 186,
        "start_time": "2024-03-18T12:11:51.519Z"
      },
      {
        "duration": 18,
        "start_time": "2024-03-18T12:11:51.707Z"
      },
      {
        "duration": 177,
        "start_time": "2024-03-18T12:11:51.727Z"
      },
      {
        "duration": 24,
        "start_time": "2024-03-18T12:11:51.906Z"
      },
      {
        "duration": 159,
        "start_time": "2024-03-18T12:11:51.932Z"
      },
      {
        "duration": 905,
        "start_time": "2024-03-18T12:11:52.093Z"
      },
      {
        "duration": 585,
        "start_time": "2024-03-18T12:11:52.999Z"
      },
      {
        "duration": 1791,
        "start_time": "2024-03-18T12:11:53.586Z"
      },
      {
        "duration": 5,
        "start_time": "2024-03-18T12:11:55.379Z"
      },
      {
        "duration": 592,
        "start_time": "2024-03-18T12:11:55.386Z"
      },
      {
        "duration": 109,
        "start_time": "2024-03-18T12:11:55.980Z"
      },
      {
        "duration": 0,
        "start_time": "2024-03-18T12:11:56.092Z"
      },
      {
        "duration": 0,
        "start_time": "2024-03-18T12:11:56.095Z"
      },
      {
        "duration": 0,
        "start_time": "2024-03-18T12:11:56.096Z"
      },
      {
        "duration": 0,
        "start_time": "2024-03-18T12:11:56.098Z"
      },
      {
        "duration": 0,
        "start_time": "2024-03-18T12:11:56.100Z"
      },
      {
        "duration": 11,
        "start_time": "2024-03-18T12:12:12.714Z"
      },
      {
        "duration": 10,
        "start_time": "2024-03-18T12:12:41.528Z"
      },
      {
        "duration": 9,
        "start_time": "2024-03-18T12:13:06.154Z"
      },
      {
        "duration": 3,
        "start_time": "2024-03-18T12:13:10.192Z"
      },
      {
        "duration": 2497,
        "start_time": "2024-03-18T12:18:24.821Z"
      },
      {
        "duration": 16,
        "start_time": "2024-03-18T12:18:27.321Z"
      },
      {
        "duration": 43,
        "start_time": "2024-03-18T12:18:27.338Z"
      },
      {
        "duration": 167,
        "start_time": "2024-03-18T12:18:27.383Z"
      },
      {
        "duration": 28,
        "start_time": "2024-03-18T12:18:27.551Z"
      },
      {
        "duration": 156,
        "start_time": "2024-03-18T12:18:27.581Z"
      },
      {
        "duration": 31,
        "start_time": "2024-03-18T12:18:27.739Z"
      },
      {
        "duration": 147,
        "start_time": "2024-03-18T12:18:27.772Z"
      },
      {
        "duration": 1093,
        "start_time": "2024-03-18T12:18:27.920Z"
      },
      {
        "duration": 180,
        "start_time": "2024-03-18T12:18:29.016Z"
      },
      {
        "duration": 17,
        "start_time": "2024-03-18T12:18:29.198Z"
      },
      {
        "duration": 171,
        "start_time": "2024-03-18T12:18:29.217Z"
      },
      {
        "duration": 26,
        "start_time": "2024-03-18T12:18:29.390Z"
      },
      {
        "duration": 175,
        "start_time": "2024-03-18T12:18:29.418Z"
      },
      {
        "duration": 920,
        "start_time": "2024-03-18T12:18:29.594Z"
      },
      {
        "duration": 182,
        "start_time": "2024-03-18T12:18:30.515Z"
      },
      {
        "duration": 20,
        "start_time": "2024-03-18T12:18:30.699Z"
      },
      {
        "duration": 231,
        "start_time": "2024-03-18T12:18:30.721Z"
      },
      {
        "duration": 36,
        "start_time": "2024-03-18T12:18:30.953Z"
      },
      {
        "duration": 199,
        "start_time": "2024-03-18T12:18:30.991Z"
      },
      {
        "duration": 911,
        "start_time": "2024-03-18T12:18:31.192Z"
      },
      {
        "duration": 743,
        "start_time": "2024-03-18T12:18:32.104Z"
      },
      {
        "duration": 1826,
        "start_time": "2024-03-18T12:18:32.849Z"
      },
      {
        "duration": 5,
        "start_time": "2024-03-18T12:18:34.676Z"
      },
      {
        "duration": 584,
        "start_time": "2024-03-18T12:18:34.683Z"
      },
      {
        "duration": 5,
        "start_time": "2024-03-18T12:18:35.270Z"
      },
      {
        "duration": 115,
        "start_time": "2024-03-18T12:18:35.277Z"
      },
      {
        "duration": 306,
        "start_time": "2024-03-18T12:18:35.395Z"
      },
      {
        "duration": 6,
        "start_time": "2024-03-18T12:18:35.703Z"
      },
      {
        "duration": 21,
        "start_time": "2024-03-18T12:18:35.711Z"
      },
      {
        "duration": 10,
        "start_time": "2024-03-18T12:18:35.734Z"
      },
      {
        "duration": 40,
        "start_time": "2024-03-18T12:18:35.745Z"
      },
      {
        "duration": 5,
        "start_time": "2024-03-18T12:18:54.938Z"
      },
      {
        "duration": 7,
        "start_time": "2024-03-18T12:18:59.850Z"
      },
      {
        "duration": 6,
        "start_time": "2024-03-18T12:19:04.275Z"
      },
      {
        "duration": 462,
        "start_time": "2024-03-18T12:20:57.023Z"
      },
      {
        "duration": 16,
        "start_time": "2024-03-18T12:21:10.601Z"
      },
      {
        "duration": 10,
        "start_time": "2024-03-18T12:21:31.504Z"
      },
      {
        "duration": 467,
        "start_time": "2024-03-18T12:21:57.608Z"
      },
      {
        "duration": 14,
        "start_time": "2024-03-18T12:22:09.094Z"
      },
      {
        "duration": 13,
        "start_time": "2024-03-18T12:22:42.771Z"
      },
      {
        "duration": 8,
        "start_time": "2024-03-18T12:23:18.300Z"
      },
      {
        "duration": 21,
        "start_time": "2024-03-18T12:23:20.358Z"
      },
      {
        "duration": 4,
        "start_time": "2024-03-18T12:27:40.346Z"
      },
      {
        "duration": 22,
        "start_time": "2024-03-18T12:27:42.637Z"
      },
      {
        "duration": 4,
        "start_time": "2024-03-18T12:29:45.033Z"
      },
      {
        "duration": 31,
        "start_time": "2024-03-18T12:29:47.264Z"
      },
      {
        "duration": 21,
        "start_time": "2024-03-18T12:29:49.384Z"
      },
      {
        "duration": 22,
        "start_time": "2024-03-18T12:29:50.379Z"
      },
      {
        "duration": 4,
        "start_time": "2024-03-18T12:31:26.036Z"
      },
      {
        "duration": 19,
        "start_time": "2024-03-18T12:31:29.838Z"
      },
      {
        "duration": 7,
        "start_time": "2024-03-18T12:43:02.717Z"
      },
      {
        "duration": 18,
        "start_time": "2024-03-18T12:43:30.609Z"
      },
      {
        "duration": 6,
        "start_time": "2024-03-18T12:43:51.344Z"
      },
      {
        "duration": 15,
        "start_time": "2024-03-18T12:43:54.656Z"
      },
      {
        "duration": 6,
        "start_time": "2024-03-18T12:45:12.025Z"
      },
      {
        "duration": 21,
        "start_time": "2024-03-18T12:45:21.359Z"
      },
      {
        "duration": 6,
        "start_time": "2024-03-18T12:45:40.104Z"
      },
      {
        "duration": 1149,
        "start_time": "2024-03-18T12:45:43.804Z"
      },
      {
        "duration": 6,
        "start_time": "2024-03-18T12:47:06.230Z"
      },
      {
        "duration": 6,
        "start_time": "2024-03-18T12:47:11.001Z"
      },
      {
        "duration": 1116,
        "start_time": "2024-03-18T12:47:13.998Z"
      },
      {
        "duration": 3,
        "start_time": "2024-03-18T12:48:24.428Z"
      },
      {
        "duration": 11,
        "start_time": "2024-03-18T12:48:46.530Z"
      },
      {
        "duration": 6,
        "start_time": "2024-03-18T12:52:12.703Z"
      },
      {
        "duration": 3200,
        "start_time": "2024-03-18T12:52:15.679Z"
      },
      {
        "duration": 6,
        "start_time": "2024-03-18T12:58:25.005Z"
      },
      {
        "duration": 6,
        "start_time": "2024-03-18T12:58:35.748Z"
      },
      {
        "duration": 1054,
        "start_time": "2024-03-18T12:58:40.012Z"
      },
      {
        "duration": 6,
        "start_time": "2024-03-18T12:59:04.524Z"
      },
      {
        "duration": 3086,
        "start_time": "2024-03-18T12:59:08.170Z"
      },
      {
        "duration": 8,
        "start_time": "2024-03-18T12:59:58.073Z"
      },
      {
        "duration": 3134,
        "start_time": "2024-03-18T13:00:03.703Z"
      },
      {
        "duration": 8,
        "start_time": "2024-03-18T13:01:11.392Z"
      },
      {
        "duration": 6,
        "start_time": "2024-03-18T13:01:29.232Z"
      },
      {
        "duration": 3422,
        "start_time": "2024-03-18T13:01:33.014Z"
      },
      {
        "duration": 5,
        "start_time": "2024-03-18T13:02:41.997Z"
      },
      {
        "duration": 3316,
        "start_time": "2024-03-18T13:02:45.974Z"
      },
      {
        "duration": 6,
        "start_time": "2024-03-18T13:03:26.452Z"
      },
      {
        "duration": 3347,
        "start_time": "2024-03-18T13:03:36.603Z"
      },
      {
        "duration": 7,
        "start_time": "2024-03-18T13:04:19.876Z"
      },
      {
        "duration": 3137,
        "start_time": "2024-03-18T13:04:23.235Z"
      },
      {
        "duration": 5,
        "start_time": "2024-03-18T13:06:18.881Z"
      },
      {
        "duration": 1961,
        "start_time": "2024-03-18T13:06:24.181Z"
      },
      {
        "duration": 6,
        "start_time": "2024-03-18T13:09:39.068Z"
      },
      {
        "duration": 2039,
        "start_time": "2024-03-18T13:09:46.683Z"
      },
      {
        "duration": 6,
        "start_time": "2024-03-18T13:10:43.531Z"
      },
      {
        "duration": 2079,
        "start_time": "2024-03-18T13:10:47.514Z"
      },
      {
        "duration": 5,
        "start_time": "2024-03-18T13:12:13.831Z"
      },
      {
        "duration": 2258,
        "start_time": "2024-03-18T13:12:16.807Z"
      },
      {
        "duration": 6,
        "start_time": "2024-03-18T13:14:21.394Z"
      },
      {
        "duration": 1868,
        "start_time": "2024-03-18T13:14:26.747Z"
      },
      {
        "duration": 1929,
        "start_time": "2024-03-18T13:14:36.067Z"
      },
      {
        "duration": 158,
        "start_time": "2024-03-18T13:58:19.370Z"
      },
      {
        "duration": 72,
        "start_time": "2024-03-18T13:58:52.809Z"
      },
      {
        "duration": 160,
        "start_time": "2024-03-18T13:58:58.392Z"
      },
      {
        "duration": 165,
        "start_time": "2024-03-18T13:59:20.489Z"
      },
      {
        "duration": 4,
        "start_time": "2024-03-18T14:00:33.662Z"
      },
      {
        "duration": 2382,
        "start_time": "2024-03-18T14:01:44.037Z"
      },
      {
        "duration": 16,
        "start_time": "2024-03-18T14:01:46.421Z"
      },
      {
        "duration": 25,
        "start_time": "2024-03-18T14:01:46.438Z"
      },
      {
        "duration": 263,
        "start_time": "2024-03-18T14:01:46.465Z"
      },
      {
        "duration": 16,
        "start_time": "2024-03-18T14:01:46.729Z"
      },
      {
        "duration": 151,
        "start_time": "2024-03-18T14:01:46.746Z"
      },
      {
        "duration": 23,
        "start_time": "2024-03-18T14:01:46.898Z"
      },
      {
        "duration": 138,
        "start_time": "2024-03-18T14:01:46.923Z"
      },
      {
        "duration": 932,
        "start_time": "2024-03-18T14:01:47.062Z"
      },
      {
        "duration": 159,
        "start_time": "2024-03-18T14:01:47.996Z"
      },
      {
        "duration": 16,
        "start_time": "2024-03-18T14:01:48.157Z"
      },
      {
        "duration": 148,
        "start_time": "2024-03-18T14:01:48.174Z"
      },
      {
        "duration": 23,
        "start_time": "2024-03-18T14:01:48.323Z"
      },
      {
        "duration": 142,
        "start_time": "2024-03-18T14:01:48.348Z"
      },
      {
        "duration": 911,
        "start_time": "2024-03-18T14:01:48.492Z"
      },
      {
        "duration": 161,
        "start_time": "2024-03-18T14:01:49.405Z"
      },
      {
        "duration": 16,
        "start_time": "2024-03-18T14:01:49.568Z"
      },
      {
        "duration": 145,
        "start_time": "2024-03-18T14:01:49.585Z"
      },
      {
        "duration": 33,
        "start_time": "2024-03-18T14:01:49.732Z"
      },
      {
        "duration": 129,
        "start_time": "2024-03-18T14:01:49.767Z"
      },
      {
        "duration": 1110,
        "start_time": "2024-03-18T14:01:49.898Z"
      },
      {
        "duration": 495,
        "start_time": "2024-03-18T14:01:51.010Z"
      },
      {
        "duration": 5,
        "start_time": "2024-03-18T14:01:51.507Z"
      },
      {
        "duration": 158,
        "start_time": "2024-03-18T14:02:47.604Z"
      },
      {
        "duration": 155,
        "start_time": "2024-03-18T14:03:03.348Z"
      },
      {
        "duration": 2558,
        "start_time": "2024-03-18T14:03:41.219Z"
      },
      {
        "duration": 18,
        "start_time": "2024-03-18T14:03:43.780Z"
      },
      {
        "duration": 5,
        "start_time": "2024-03-18T14:03:43.800Z"
      },
      {
        "duration": 174,
        "start_time": "2024-03-18T14:03:43.807Z"
      },
      {
        "duration": 17,
        "start_time": "2024-03-18T14:03:43.983Z"
      },
      {
        "duration": 157,
        "start_time": "2024-03-18T14:03:44.001Z"
      },
      {
        "duration": 27,
        "start_time": "2024-03-18T14:03:44.159Z"
      },
      {
        "duration": 139,
        "start_time": "2024-03-18T14:03:44.188Z"
      },
      {
        "duration": 961,
        "start_time": "2024-03-18T14:03:44.329Z"
      },
      {
        "duration": 155,
        "start_time": "2024-03-18T14:03:45.292Z"
      },
      {
        "duration": 27,
        "start_time": "2024-03-18T14:03:45.449Z"
      },
      {
        "duration": 163,
        "start_time": "2024-03-18T14:03:45.478Z"
      },
      {
        "duration": 31,
        "start_time": "2024-03-18T14:03:45.643Z"
      },
      {
        "duration": 136,
        "start_time": "2024-03-18T14:03:45.676Z"
      },
      {
        "duration": 895,
        "start_time": "2024-03-18T14:03:45.814Z"
      },
      {
        "duration": 160,
        "start_time": "2024-03-18T14:03:46.711Z"
      },
      {
        "duration": 17,
        "start_time": "2024-03-18T14:03:46.872Z"
      },
      {
        "duration": 152,
        "start_time": "2024-03-18T14:03:46.890Z"
      },
      {
        "duration": 26,
        "start_time": "2024-03-18T14:03:47.044Z"
      },
      {
        "duration": 138,
        "start_time": "2024-03-18T14:03:47.071Z"
      },
      {
        "duration": 868,
        "start_time": "2024-03-18T14:03:47.210Z"
      },
      {
        "duration": 499,
        "start_time": "2024-03-18T14:03:48.080Z"
      },
      {
        "duration": 5,
        "start_time": "2024-03-18T14:03:48.580Z"
      },
      {
        "duration": 2449,
        "start_time": "2024-03-18T14:05:24.563Z"
      },
      {
        "duration": 17,
        "start_time": "2024-03-18T14:05:27.015Z"
      },
      {
        "duration": 36,
        "start_time": "2024-03-18T14:05:27.033Z"
      },
      {
        "duration": 205,
        "start_time": "2024-03-18T14:05:27.072Z"
      },
      {
        "duration": 16,
        "start_time": "2024-03-18T14:05:27.279Z"
      },
      {
        "duration": 150,
        "start_time": "2024-03-18T14:05:27.296Z"
      },
      {
        "duration": 30,
        "start_time": "2024-03-18T14:05:27.448Z"
      },
      {
        "duration": 134,
        "start_time": "2024-03-18T14:05:27.480Z"
      },
      {
        "duration": 900,
        "start_time": "2024-03-18T14:05:27.616Z"
      },
      {
        "duration": 4,
        "start_time": "2024-03-18T14:05:31.153Z"
      },
      {
        "duration": 2353,
        "start_time": "2024-03-18T14:05:58.015Z"
      },
      {
        "duration": 17,
        "start_time": "2024-03-18T14:06:00.371Z"
      },
      {
        "duration": 29,
        "start_time": "2024-03-18T14:06:00.390Z"
      },
      {
        "duration": 219,
        "start_time": "2024-03-18T14:06:00.422Z"
      },
      {
        "duration": 34,
        "start_time": "2024-03-18T14:06:00.642Z"
      },
      {
        "duration": 422,
        "start_time": "2024-03-18T14:06:00.678Z"
      },
      {
        "duration": 28,
        "start_time": "2024-03-18T14:06:01.101Z"
      },
      {
        "duration": 248,
        "start_time": "2024-03-18T14:06:01.130Z"
      },
      {
        "duration": 1224,
        "start_time": "2024-03-18T14:06:01.379Z"
      },
      {
        "duration": 3,
        "start_time": "2024-03-18T14:06:02.606Z"
      },
      {
        "duration": 181,
        "start_time": "2024-03-18T14:06:02.611Z"
      },
      {
        "duration": 19,
        "start_time": "2024-03-18T14:06:02.793Z"
      },
      {
        "duration": 173,
        "start_time": "2024-03-18T14:06:02.814Z"
      },
      {
        "duration": 28,
        "start_time": "2024-03-18T14:06:02.989Z"
      },
      {
        "duration": 147,
        "start_time": "2024-03-18T14:06:03.019Z"
      },
      {
        "duration": 925,
        "start_time": "2024-03-18T14:06:03.167Z"
      },
      {
        "duration": 4,
        "start_time": "2024-03-18T14:06:05.864Z"
      },
      {
        "duration": 2414,
        "start_time": "2024-03-18T14:06:52.167Z"
      },
      {
        "duration": 17,
        "start_time": "2024-03-18T14:06:54.584Z"
      },
      {
        "duration": 5,
        "start_time": "2024-03-18T14:06:54.602Z"
      },
      {
        "duration": 191,
        "start_time": "2024-03-18T14:06:54.610Z"
      },
      {
        "duration": 27,
        "start_time": "2024-03-18T14:06:54.803Z"
      },
      {
        "duration": 213,
        "start_time": "2024-03-18T14:06:54.832Z"
      },
      {
        "duration": 33,
        "start_time": "2024-03-18T14:06:55.047Z"
      },
      {
        "duration": 142,
        "start_time": "2024-03-18T14:06:55.082Z"
      },
      {
        "duration": 927,
        "start_time": "2024-03-18T14:06:55.225Z"
      },
      {
        "duration": 11,
        "start_time": "2024-03-18T14:06:56.155Z"
      },
      {
        "duration": 171,
        "start_time": "2024-03-18T14:06:56.168Z"
      },
      {
        "duration": 35,
        "start_time": "2024-03-18T14:06:56.340Z"
      },
      {
        "duration": 178,
        "start_time": "2024-03-18T14:06:56.376Z"
      },
      {
        "duration": 30,
        "start_time": "2024-03-18T14:06:56.555Z"
      },
      {
        "duration": 151,
        "start_time": "2024-03-18T14:06:56.586Z"
      },
      {
        "duration": 959,
        "start_time": "2024-03-18T14:06:56.738Z"
      },
      {
        "duration": 4,
        "start_time": "2024-03-18T14:06:57.699Z"
      },
      {
        "duration": 372,
        "start_time": "2024-03-18T14:06:57.705Z"
      },
      {
        "duration": 19,
        "start_time": "2024-03-18T14:06:58.078Z"
      },
      {
        "duration": 308,
        "start_time": "2024-03-18T14:06:58.098Z"
      },
      {
        "duration": 76,
        "start_time": "2024-03-18T14:06:58.408Z"
      },
      {
        "duration": 294,
        "start_time": "2024-03-18T14:06:58.486Z"
      },
      {
        "duration": 1194,
        "start_time": "2024-03-18T14:06:58.782Z"
      },
      {
        "duration": 516,
        "start_time": "2024-03-18T14:06:59.978Z"
      },
      {
        "duration": 4,
        "start_time": "2024-03-18T14:07:00.495Z"
      },
      {
        "duration": 57,
        "start_time": "2024-03-18T14:07:00.500Z"
      },
      {
        "duration": 23,
        "start_time": "2024-03-18T14:43:01.824Z"
      },
      {
        "duration": 20,
        "start_time": "2024-03-18T14:48:37.101Z"
      },
      {
        "duration": 25,
        "start_time": "2024-03-18T14:48:38.133Z"
      },
      {
        "duration": 19,
        "start_time": "2024-03-18T14:48:38.974Z"
      },
      {
        "duration": 22,
        "start_time": "2024-03-18T14:48:39.933Z"
      },
      {
        "duration": 1906,
        "start_time": "2024-03-18T15:01:18.659Z"
      },
      {
        "duration": 2693,
        "start_time": "2024-03-18T15:05:22.546Z"
      },
      {
        "duration": 2086,
        "start_time": "2024-03-18T15:06:33.872Z"
      },
      {
        "duration": 2022,
        "start_time": "2024-03-18T15:06:59.758Z"
      },
      {
        "duration": 2017,
        "start_time": "2024-03-18T15:14:18.420Z"
      },
      {
        "duration": 2165,
        "start_time": "2024-03-18T15:15:37.906Z"
      },
      {
        "duration": 614,
        "start_time": "2024-03-18T15:16:52.066Z"
      },
      {
        "duration": 10,
        "start_time": "2024-03-18T15:18:06.766Z"
      },
      {
        "duration": 9,
        "start_time": "2024-03-18T15:18:15.527Z"
      },
      {
        "duration": 5,
        "start_time": "2024-03-18T15:18:23.224Z"
      },
      {
        "duration": 6,
        "start_time": "2024-03-18T15:18:42.758Z"
      },
      {
        "duration": 18,
        "start_time": "2024-03-18T15:18:51.881Z"
      },
      {
        "duration": 461,
        "start_time": "2024-03-18T15:19:44.236Z"
      },
      {
        "duration": 4,
        "start_time": "2024-03-18T15:19:53.604Z"
      },
      {
        "duration": 90,
        "start_time": "2024-03-18T15:20:03.598Z"
      },
      {
        "duration": 4,
        "start_time": "2024-03-18T15:20:16.984Z"
      },
      {
        "duration": 88,
        "start_time": "2024-03-18T15:20:18.337Z"
      },
      {
        "duration": 4,
        "start_time": "2024-03-18T15:20:20.817Z"
      },
      {
        "duration": 96,
        "start_time": "2024-03-18T15:20:22.313Z"
      },
      {
        "duration": 4,
        "start_time": "2024-03-18T15:20:57.690Z"
      },
      {
        "duration": 4,
        "start_time": "2024-03-18T15:21:50.641Z"
      },
      {
        "duration": 21,
        "start_time": "2024-03-18T15:21:52.850Z"
      },
      {
        "duration": 1927,
        "start_time": "2024-03-18T15:26:08.923Z"
      },
      {
        "duration": 4,
        "start_time": "2024-03-18T15:29:49.245Z"
      },
      {
        "duration": 3,
        "start_time": "2024-03-18T15:29:52.568Z"
      },
      {
        "duration": 23,
        "start_time": "2024-03-18T15:30:09.544Z"
      },
      {
        "duration": 62,
        "start_time": "2024-03-18T15:30:36.312Z"
      },
      {
        "duration": 2042,
        "start_time": "2024-03-18T15:32:18.314Z"
      },
      {
        "duration": 78,
        "start_time": "2024-03-18T15:33:37.130Z"
      },
      {
        "duration": 457,
        "start_time": "2024-03-18T15:35:18.123Z"
      },
      {
        "duration": 3794,
        "start_time": "2024-03-18T15:37:07.818Z"
      },
      {
        "duration": 18,
        "start_time": "2024-03-18T15:37:11.614Z"
      },
      {
        "duration": 5,
        "start_time": "2024-03-18T15:37:11.633Z"
      },
      {
        "duration": 198,
        "start_time": "2024-03-18T15:37:11.640Z"
      },
      {
        "duration": 28,
        "start_time": "2024-03-18T15:37:11.839Z"
      },
      {
        "duration": 169,
        "start_time": "2024-03-18T15:37:11.868Z"
      },
      {
        "duration": 34,
        "start_time": "2024-03-18T15:37:12.039Z"
      },
      {
        "duration": 143,
        "start_time": "2024-03-18T15:37:12.075Z"
      },
      {
        "duration": 900,
        "start_time": "2024-03-18T15:37:12.219Z"
      },
      {
        "duration": 4,
        "start_time": "2024-03-18T15:37:13.122Z"
      },
      {
        "duration": 254,
        "start_time": "2024-03-18T15:37:13.128Z"
      },
      {
        "duration": 19,
        "start_time": "2024-03-18T15:37:13.384Z"
      },
      {
        "duration": 169,
        "start_time": "2024-03-18T15:37:13.405Z"
      },
      {
        "duration": 23,
        "start_time": "2024-03-18T15:37:13.576Z"
      },
      {
        "duration": 148,
        "start_time": "2024-03-18T15:37:13.601Z"
      },
      {
        "duration": 847,
        "start_time": "2024-03-18T15:37:13.751Z"
      },
      {
        "duration": 4,
        "start_time": "2024-03-18T15:37:14.600Z"
      },
      {
        "duration": 185,
        "start_time": "2024-03-18T15:37:14.606Z"
      },
      {
        "duration": 16,
        "start_time": "2024-03-18T15:37:14.792Z"
      },
      {
        "duration": 185,
        "start_time": "2024-03-18T15:37:14.810Z"
      },
      {
        "duration": 26,
        "start_time": "2024-03-18T15:37:14.997Z"
      },
      {
        "duration": 145,
        "start_time": "2024-03-18T15:37:15.025Z"
      },
      {
        "duration": 920,
        "start_time": "2024-03-18T15:37:15.172Z"
      },
      {
        "duration": 583,
        "start_time": "2024-03-18T15:37:16.094Z"
      },
      {
        "duration": 4,
        "start_time": "2024-03-18T15:37:16.679Z"
      },
      {
        "duration": 49,
        "start_time": "2024-03-18T15:37:16.685Z"
      },
      {
        "duration": 1672,
        "start_time": "2024-03-18T15:37:16.735Z"
      },
      {
        "duration": 4,
        "start_time": "2024-03-18T15:37:18.410Z"
      },
      {
        "duration": 576,
        "start_time": "2024-03-18T15:37:18.415Z"
      },
      {
        "duration": 6,
        "start_time": "2024-03-18T15:37:19.067Z"
      },
      {
        "duration": 221,
        "start_time": "2024-03-18T15:37:19.075Z"
      },
      {
        "duration": 0,
        "start_time": "2024-03-18T15:37:19.297Z"
      },
      {
        "duration": 0,
        "start_time": "2024-03-18T15:37:19.298Z"
      },
      {
        "duration": 0,
        "start_time": "2024-03-18T15:37:19.299Z"
      },
      {
        "duration": 0,
        "start_time": "2024-03-18T15:37:19.301Z"
      },
      {
        "duration": 0,
        "start_time": "2024-03-18T15:37:19.302Z"
      },
      {
        "duration": 0,
        "start_time": "2024-03-18T15:37:19.303Z"
      },
      {
        "duration": 4,
        "start_time": "2024-03-18T15:37:54.125Z"
      },
      {
        "duration": 237,
        "start_time": "2024-03-18T15:37:56.005Z"
      },
      {
        "duration": 12,
        "start_time": "2024-03-18T15:38:02.532Z"
      },
      {
        "duration": 15,
        "start_time": "2024-03-18T15:38:42.069Z"
      },
      {
        "duration": 22,
        "start_time": "2024-03-18T15:41:09.954Z"
      },
      {
        "duration": 17,
        "start_time": "2024-03-18T15:42:41.286Z"
      },
      {
        "duration": 1957,
        "start_time": "2024-03-18T15:43:15.901Z"
      },
      {
        "duration": 2045,
        "start_time": "2024-03-18T15:45:54.099Z"
      },
      {
        "duration": 3860,
        "start_time": "2024-03-18T15:46:20.314Z"
      },
      {
        "duration": 18,
        "start_time": "2024-03-18T15:46:24.177Z"
      },
      {
        "duration": 22,
        "start_time": "2024-03-18T15:46:24.197Z"
      },
      {
        "duration": 193,
        "start_time": "2024-03-18T15:46:24.221Z"
      },
      {
        "duration": 16,
        "start_time": "2024-03-18T15:46:24.415Z"
      },
      {
        "duration": 160,
        "start_time": "2024-03-18T15:46:24.432Z"
      },
      {
        "duration": 26,
        "start_time": "2024-03-18T15:46:24.593Z"
      },
      {
        "duration": 161,
        "start_time": "2024-03-18T15:46:24.621Z"
      },
      {
        "duration": 921,
        "start_time": "2024-03-18T15:46:24.783Z"
      },
      {
        "duration": 4,
        "start_time": "2024-03-18T15:46:25.706Z"
      },
      {
        "duration": 272,
        "start_time": "2024-03-18T15:46:25.712Z"
      },
      {
        "duration": 19,
        "start_time": "2024-03-18T15:46:25.986Z"
      },
      {
        "duration": 170,
        "start_time": "2024-03-18T15:46:26.007Z"
      },
      {
        "duration": 25,
        "start_time": "2024-03-18T15:46:26.178Z"
      },
      {
        "duration": 173,
        "start_time": "2024-03-18T15:46:26.205Z"
      },
      {
        "duration": 913,
        "start_time": "2024-03-18T15:46:26.380Z"
      },
      {
        "duration": 4,
        "start_time": "2024-03-18T15:46:27.295Z"
      },
      {
        "duration": 180,
        "start_time": "2024-03-18T15:46:27.301Z"
      },
      {
        "duration": 17,
        "start_time": "2024-03-18T15:46:27.483Z"
      },
      {
        "duration": 155,
        "start_time": "2024-03-18T15:46:27.501Z"
      },
      {
        "duration": 28,
        "start_time": "2024-03-18T15:46:27.657Z"
      },
      {
        "duration": 165,
        "start_time": "2024-03-18T15:46:27.687Z"
      },
      {
        "duration": 902,
        "start_time": "2024-03-18T15:46:27.853Z"
      },
      {
        "duration": 547,
        "start_time": "2024-03-18T15:46:28.757Z"
      },
      {
        "duration": 4,
        "start_time": "2024-03-18T15:46:29.306Z"
      },
      {
        "duration": 20,
        "start_time": "2024-03-18T15:46:29.312Z"
      },
      {
        "duration": 1732,
        "start_time": "2024-03-18T15:46:29.333Z"
      },
      {
        "duration": 4,
        "start_time": "2024-03-18T15:46:31.069Z"
      },
      {
        "duration": 698,
        "start_time": "2024-03-18T15:46:31.074Z"
      },
      {
        "duration": 93,
        "start_time": "2024-03-18T15:46:31.775Z"
      },
      {
        "duration": 78,
        "start_time": "2024-03-18T15:46:31.870Z"
      },
      {
        "duration": 299,
        "start_time": "2024-03-18T15:46:31.950Z"
      },
      {
        "duration": 2,
        "start_time": "2024-03-18T15:46:32.251Z"
      },
      {
        "duration": 41,
        "start_time": "2024-03-18T15:46:32.254Z"
      },
      {
        "duration": 10,
        "start_time": "2024-03-18T15:46:32.297Z"
      },
      {
        "duration": 1962,
        "start_time": "2024-03-18T15:46:32.308Z"
      },
      {
        "duration": 3,
        "start_time": "2024-03-18T15:46:34.272Z"
      },
      {
        "duration": 3732,
        "start_time": "2024-03-18T15:47:37.104Z"
      },
      {
        "duration": 18,
        "start_time": "2024-03-18T15:47:40.838Z"
      },
      {
        "duration": 22,
        "start_time": "2024-03-18T15:47:40.857Z"
      },
      {
        "duration": 169,
        "start_time": "2024-03-18T15:47:40.881Z"
      },
      {
        "duration": 22,
        "start_time": "2024-03-18T15:47:41.052Z"
      },
      {
        "duration": 148,
        "start_time": "2024-03-18T15:47:41.076Z"
      },
      {
        "duration": 23,
        "start_time": "2024-03-18T15:47:41.226Z"
      },
      {
        "duration": 143,
        "start_time": "2024-03-18T15:47:41.251Z"
      },
      {
        "duration": 944,
        "start_time": "2024-03-18T15:47:41.396Z"
      },
      {
        "duration": 3,
        "start_time": "2024-03-18T15:47:42.342Z"
      },
      {
        "duration": 154,
        "start_time": "2024-03-18T15:47:42.347Z"
      },
      {
        "duration": 18,
        "start_time": "2024-03-18T15:47:42.502Z"
      },
      {
        "duration": 248,
        "start_time": "2024-03-18T15:47:42.522Z"
      },
      {
        "duration": 25,
        "start_time": "2024-03-18T15:47:42.772Z"
      },
      {
        "duration": 208,
        "start_time": "2024-03-18T15:47:42.798Z"
      },
      {
        "duration": 875,
        "start_time": "2024-03-18T15:47:43.008Z"
      },
      {
        "duration": 156,
        "start_time": "2024-03-18T15:47:43.884Z"
      },
      {
        "duration": 29,
        "start_time": "2024-03-18T15:47:44.042Z"
      },
      {
        "duration": 177,
        "start_time": "2024-03-18T15:47:44.072Z"
      },
      {
        "duration": 33,
        "start_time": "2024-03-18T15:47:44.251Z"
      },
      {
        "duration": 143,
        "start_time": "2024-03-18T15:47:44.286Z"
      },
      {
        "duration": 851,
        "start_time": "2024-03-18T15:47:44.430Z"
      },
      {
        "duration": 529,
        "start_time": "2024-03-18T15:47:45.283Z"
      },
      {
        "duration": 5,
        "start_time": "2024-03-18T15:47:45.814Z"
      },
      {
        "duration": 159,
        "start_time": "2024-03-18T15:47:45.821Z"
      },
      {
        "duration": 0,
        "start_time": "2024-03-18T15:47:45.982Z"
      },
      {
        "duration": 0,
        "start_time": "2024-03-18T15:47:45.983Z"
      },
      {
        "duration": 0,
        "start_time": "2024-03-18T15:47:45.984Z"
      },
      {
        "duration": 0,
        "start_time": "2024-03-18T15:47:45.985Z"
      },
      {
        "duration": 0,
        "start_time": "2024-03-18T15:47:45.986Z"
      },
      {
        "duration": 0,
        "start_time": "2024-03-18T15:47:45.988Z"
      },
      {
        "duration": 0,
        "start_time": "2024-03-18T15:47:45.988Z"
      },
      {
        "duration": 0,
        "start_time": "2024-03-18T15:47:45.990Z"
      },
      {
        "duration": 0,
        "start_time": "2024-03-18T15:47:45.991Z"
      },
      {
        "duration": 0,
        "start_time": "2024-03-18T15:47:45.992Z"
      },
      {
        "duration": 0,
        "start_time": "2024-03-18T15:47:45.993Z"
      },
      {
        "duration": 3724,
        "start_time": "2024-03-18T15:48:57.287Z"
      },
      {
        "duration": 18,
        "start_time": "2024-03-18T15:49:01.013Z"
      },
      {
        "duration": 51,
        "start_time": "2024-03-18T15:49:01.033Z"
      },
      {
        "duration": 272,
        "start_time": "2024-03-18T15:49:01.088Z"
      },
      {
        "duration": 18,
        "start_time": "2024-03-18T15:49:01.361Z"
      },
      {
        "duration": 219,
        "start_time": "2024-03-18T15:49:01.381Z"
      },
      {
        "duration": 30,
        "start_time": "2024-03-18T15:49:01.602Z"
      },
      {
        "duration": 166,
        "start_time": "2024-03-18T15:49:01.634Z"
      },
      {
        "duration": 913,
        "start_time": "2024-03-18T15:49:01.802Z"
      },
      {
        "duration": 4,
        "start_time": "2024-03-18T15:49:02.719Z"
      },
      {
        "duration": 158,
        "start_time": "2024-03-18T15:49:02.725Z"
      },
      {
        "duration": 18,
        "start_time": "2024-03-18T15:49:02.885Z"
      },
      {
        "duration": 274,
        "start_time": "2024-03-18T15:49:02.905Z"
      },
      {
        "duration": 23,
        "start_time": "2024-03-18T15:49:03.180Z"
      },
      {
        "duration": 142,
        "start_time": "2024-03-18T15:49:03.205Z"
      },
      {
        "duration": 851,
        "start_time": "2024-03-18T15:49:03.348Z"
      },
      {
        "duration": 158,
        "start_time": "2024-03-18T15:49:04.200Z"
      },
      {
        "duration": 25,
        "start_time": "2024-03-18T15:49:04.359Z"
      },
      {
        "duration": 162,
        "start_time": "2024-03-18T15:49:04.386Z"
      },
      {
        "duration": 33,
        "start_time": "2024-03-18T15:49:04.549Z"
      },
      {
        "duration": 154,
        "start_time": "2024-03-18T15:49:04.583Z"
      },
      {
        "duration": 856,
        "start_time": "2024-03-18T15:49:04.738Z"
      },
      {
        "duration": 556,
        "start_time": "2024-03-18T15:49:05.595Z"
      },
      {
        "duration": 1787,
        "start_time": "2024-03-18T15:49:06.152Z"
      },
      {
        "duration": 3,
        "start_time": "2024-03-18T15:49:07.941Z"
      },
      {
        "duration": 823,
        "start_time": "2024-03-18T15:49:07.945Z"
      },
      {
        "duration": 5,
        "start_time": "2024-03-18T15:49:08.770Z"
      },
      {
        "duration": 11,
        "start_time": "2024-03-18T15:49:08.779Z"
      },
      {
        "duration": 259,
        "start_time": "2024-03-18T15:49:08.792Z"
      },
      {
        "duration": 13,
        "start_time": "2024-03-18T15:49:09.053Z"
      },
      {
        "duration": 27,
        "start_time": "2024-03-18T15:49:09.067Z"
      },
      {
        "duration": 2,
        "start_time": "2024-03-18T15:49:09.096Z"
      },
      {
        "duration": 1973,
        "start_time": "2024-03-18T15:49:09.100Z"
      },
      {
        "duration": 4,
        "start_time": "2024-03-18T15:49:11.074Z"
      },
      {
        "duration": 84,
        "start_time": "2024-03-18T15:51:49.837Z"
      },
      {
        "duration": 3781,
        "start_time": "2024-03-18T16:06:27.215Z"
      },
      {
        "duration": 19,
        "start_time": "2024-03-18T16:06:30.998Z"
      },
      {
        "duration": 68,
        "start_time": "2024-03-18T16:06:31.018Z"
      },
      {
        "duration": 253,
        "start_time": "2024-03-18T16:06:31.088Z"
      },
      {
        "duration": 24,
        "start_time": "2024-03-18T16:06:31.343Z"
      },
      {
        "duration": 190,
        "start_time": "2024-03-18T16:06:31.368Z"
      },
      {
        "duration": 30,
        "start_time": "2024-03-18T16:06:31.559Z"
      },
      {
        "duration": 184,
        "start_time": "2024-03-18T16:06:31.590Z"
      },
      {
        "duration": 918,
        "start_time": "2024-03-18T16:06:31.776Z"
      },
      {
        "duration": 3,
        "start_time": "2024-03-18T16:06:32.696Z"
      },
      {
        "duration": 176,
        "start_time": "2024-03-18T16:06:32.701Z"
      },
      {
        "duration": 16,
        "start_time": "2024-03-18T16:06:32.879Z"
      },
      {
        "duration": 157,
        "start_time": "2024-03-18T16:06:32.896Z"
      },
      {
        "duration": 115,
        "start_time": "2024-03-18T16:06:33.055Z"
      },
      {
        "duration": 138,
        "start_time": "2024-03-18T16:06:33.172Z"
      },
      {
        "duration": 860,
        "start_time": "2024-03-18T16:06:33.311Z"
      },
      {
        "duration": 158,
        "start_time": "2024-03-18T16:06:34.173Z"
      },
      {
        "duration": 17,
        "start_time": "2024-03-18T16:06:34.332Z"
      },
      {
        "duration": 158,
        "start_time": "2024-03-18T16:06:34.350Z"
      },
      {
        "duration": 25,
        "start_time": "2024-03-18T16:06:34.510Z"
      },
      {
        "duration": 170,
        "start_time": "2024-03-18T16:06:34.537Z"
      },
      {
        "duration": 866,
        "start_time": "2024-03-18T16:06:34.708Z"
      },
      {
        "duration": 540,
        "start_time": "2024-03-18T16:06:35.576Z"
      },
      {
        "duration": 1704,
        "start_time": "2024-03-18T16:06:36.118Z"
      },
      {
        "duration": 3,
        "start_time": "2024-03-18T16:06:37.824Z"
      },
      {
        "duration": 642,
        "start_time": "2024-03-18T16:06:37.829Z"
      },
      {
        "duration": 93,
        "start_time": "2024-03-18T16:06:38.473Z"
      },
      {
        "duration": 21,
        "start_time": "2024-03-18T16:06:38.569Z"
      },
      {
        "duration": 242,
        "start_time": "2024-03-18T16:06:38.591Z"
      },
      {
        "duration": 2,
        "start_time": "2024-03-18T16:06:38.835Z"
      },
      {
        "duration": 36,
        "start_time": "2024-03-18T16:06:38.839Z"
      },
      {
        "duration": 3,
        "start_time": "2024-03-18T16:06:38.877Z"
      },
      {
        "duration": 1988,
        "start_time": "2024-03-18T16:06:38.881Z"
      },
      {
        "duration": 3,
        "start_time": "2024-03-18T16:06:40.871Z"
      },
      {
        "duration": 3917,
        "start_time": "2024-03-18T16:07:42.039Z"
      },
      {
        "duration": 17,
        "start_time": "2024-03-18T16:07:45.959Z"
      },
      {
        "duration": 19,
        "start_time": "2024-03-18T16:07:45.978Z"
      },
      {
        "duration": 177,
        "start_time": "2024-03-18T16:07:45.999Z"
      },
      {
        "duration": 15,
        "start_time": "2024-03-18T16:07:46.177Z"
      },
      {
        "duration": 149,
        "start_time": "2024-03-18T16:07:46.194Z"
      },
      {
        "duration": 38,
        "start_time": "2024-03-18T16:07:46.345Z"
      },
      {
        "duration": 130,
        "start_time": "2024-03-18T16:07:46.385Z"
      },
      {
        "duration": 969,
        "start_time": "2024-03-18T16:07:46.516Z"
      },
      {
        "duration": 4,
        "start_time": "2024-03-18T16:07:47.487Z"
      },
      {
        "duration": 179,
        "start_time": "2024-03-18T16:07:47.492Z"
      },
      {
        "duration": 16,
        "start_time": "2024-03-18T16:07:47.673Z"
      },
      {
        "duration": 242,
        "start_time": "2024-03-18T16:07:47.690Z"
      },
      {
        "duration": 32,
        "start_time": "2024-03-18T16:07:47.933Z"
      },
      {
        "duration": 139,
        "start_time": "2024-03-18T16:07:47.967Z"
      },
      {
        "duration": 879,
        "start_time": "2024-03-18T16:07:48.108Z"
      },
      {
        "duration": 157,
        "start_time": "2024-03-18T16:07:48.989Z"
      },
      {
        "duration": 19,
        "start_time": "2024-03-18T16:07:49.147Z"
      },
      {
        "duration": 144,
        "start_time": "2024-03-18T16:07:49.168Z"
      },
      {
        "duration": 22,
        "start_time": "2024-03-18T16:07:49.314Z"
      },
      {
        "duration": 137,
        "start_time": "2024-03-18T16:07:49.338Z"
      },
      {
        "duration": 877,
        "start_time": "2024-03-18T16:07:49.477Z"
      },
      {
        "duration": 480,
        "start_time": "2024-03-18T16:07:50.355Z"
      },
      {
        "duration": 1632,
        "start_time": "2024-03-18T16:07:50.836Z"
      },
      {
        "duration": 4,
        "start_time": "2024-03-18T16:07:52.470Z"
      },
      {
        "duration": 595,
        "start_time": "2024-03-18T16:07:52.476Z"
      },
      {
        "duration": 4,
        "start_time": "2024-03-18T16:07:53.166Z"
      },
      {
        "duration": 14,
        "start_time": "2024-03-18T16:07:53.172Z"
      },
      {
        "duration": 233,
        "start_time": "2024-03-18T16:07:53.187Z"
      },
      {
        "duration": 2,
        "start_time": "2024-03-18T16:07:53.422Z"
      },
      {
        "duration": 41,
        "start_time": "2024-03-18T16:07:53.425Z"
      },
      {
        "duration": 3,
        "start_time": "2024-03-18T16:07:53.467Z"
      },
      {
        "duration": 1918,
        "start_time": "2024-03-18T16:07:53.472Z"
      },
      {
        "duration": 4,
        "start_time": "2024-03-18T16:07:55.391Z"
      },
      {
        "duration": 4704,
        "start_time": "2024-03-18T18:33:31.243Z"
      },
      {
        "duration": 16,
        "start_time": "2024-03-18T18:33:35.949Z"
      },
      {
        "duration": 4,
        "start_time": "2024-03-18T18:33:35.967Z"
      },
      {
        "duration": 165,
        "start_time": "2024-03-18T18:33:35.973Z"
      },
      {
        "duration": 17,
        "start_time": "2024-03-18T18:33:36.139Z"
      },
      {
        "duration": 168,
        "start_time": "2024-03-18T18:33:36.158Z"
      },
      {
        "duration": 32,
        "start_time": "2024-03-18T18:33:36.328Z"
      },
      {
        "duration": 144,
        "start_time": "2024-03-18T18:33:36.362Z"
      },
      {
        "duration": 1023,
        "start_time": "2024-03-18T18:33:36.507Z"
      },
      {
        "duration": 3,
        "start_time": "2024-03-18T18:33:37.533Z"
      },
      {
        "duration": 183,
        "start_time": "2024-03-18T18:33:37.538Z"
      },
      {
        "duration": 17,
        "start_time": "2024-03-18T18:33:37.723Z"
      },
      {
        "duration": 158,
        "start_time": "2024-03-18T18:33:37.741Z"
      },
      {
        "duration": 108,
        "start_time": "2024-03-18T18:33:37.900Z"
      },
      {
        "duration": 135,
        "start_time": "2024-03-18T18:33:38.010Z"
      },
      {
        "duration": 891,
        "start_time": "2024-03-18T18:33:38.146Z"
      },
      {
        "duration": 158,
        "start_time": "2024-03-18T18:33:39.039Z"
      },
      {
        "duration": 16,
        "start_time": "2024-03-18T18:33:39.198Z"
      },
      {
        "duration": 146,
        "start_time": "2024-03-18T18:33:39.215Z"
      },
      {
        "duration": 32,
        "start_time": "2024-03-18T18:33:39.362Z"
      },
      {
        "duration": 151,
        "start_time": "2024-03-18T18:33:39.395Z"
      },
      {
        "duration": 876,
        "start_time": "2024-03-18T18:33:39.547Z"
      },
      {
        "duration": 455,
        "start_time": "2024-03-18T18:33:40.425Z"
      },
      {
        "duration": 1765,
        "start_time": "2024-03-18T18:33:40.882Z"
      },
      {
        "duration": 4,
        "start_time": "2024-03-18T18:33:42.648Z"
      },
      {
        "duration": 640,
        "start_time": "2024-03-18T18:33:42.654Z"
      },
      {
        "duration": 6,
        "start_time": "2024-03-18T18:33:43.297Z"
      },
      {
        "duration": 4,
        "start_time": "2024-03-18T18:33:43.396Z"
      },
      {
        "duration": 252,
        "start_time": "2024-03-18T18:33:43.401Z"
      },
      {
        "duration": 2,
        "start_time": "2024-03-18T18:33:43.655Z"
      },
      {
        "duration": 40,
        "start_time": "2024-03-18T18:33:43.659Z"
      },
      {
        "duration": 2,
        "start_time": "2024-03-18T18:33:43.701Z"
      },
      {
        "duration": 1998,
        "start_time": "2024-03-18T18:33:43.705Z"
      },
      {
        "duration": 4,
        "start_time": "2024-03-18T18:33:45.704Z"
      },
      {
        "duration": 3168,
        "start_time": "2024-03-18T18:33:59.271Z"
      },
      {
        "duration": 14,
        "start_time": "2024-03-18T18:34:24.615Z"
      },
      {
        "duration": 12,
        "start_time": "2024-03-18T18:34:29.606Z"
      },
      {
        "duration": 6,
        "start_time": "2024-03-18T18:34:42.306Z"
      },
      {
        "duration": 1629,
        "start_time": "2024-03-18T18:35:46.009Z"
      },
      {
        "duration": 5408,
        "start_time": "2024-03-18T19:04:14.746Z"
      },
      {
        "duration": 18,
        "start_time": "2024-03-18T19:04:20.157Z"
      },
      {
        "duration": 5,
        "start_time": "2024-03-18T19:04:20.177Z"
      },
      {
        "duration": 420,
        "start_time": "2024-03-18T19:04:20.183Z"
      },
      {
        "duration": 21,
        "start_time": "2024-03-18T19:04:20.605Z"
      },
      {
        "duration": 160,
        "start_time": "2024-03-18T19:04:20.628Z"
      },
      {
        "duration": 49,
        "start_time": "2024-03-18T19:04:20.790Z"
      },
      {
        "duration": 185,
        "start_time": "2024-03-18T19:04:20.841Z"
      },
      {
        "duration": 980,
        "start_time": "2024-03-18T19:04:21.028Z"
      },
      {
        "duration": 4,
        "start_time": "2024-03-18T19:04:22.014Z"
      },
      {
        "duration": 250,
        "start_time": "2024-03-18T19:04:22.020Z"
      },
      {
        "duration": 25,
        "start_time": "2024-03-18T19:04:22.271Z"
      },
      {
        "duration": 172,
        "start_time": "2024-03-18T19:04:22.298Z"
      },
      {
        "duration": 23,
        "start_time": "2024-03-18T19:04:22.472Z"
      },
      {
        "duration": 168,
        "start_time": "2024-03-18T19:04:22.497Z"
      },
      {
        "duration": 1049,
        "start_time": "2024-03-18T19:04:22.667Z"
      },
      {
        "duration": 252,
        "start_time": "2024-03-18T19:04:23.718Z"
      },
      {
        "duration": 16,
        "start_time": "2024-03-18T19:04:23.972Z"
      },
      {
        "duration": 145,
        "start_time": "2024-03-18T19:04:23.990Z"
      },
      {
        "duration": 24,
        "start_time": "2024-03-18T19:04:24.137Z"
      },
      {
        "duration": 162,
        "start_time": "2024-03-18T19:04:24.163Z"
      },
      {
        "duration": 978,
        "start_time": "2024-03-18T19:04:24.327Z"
      },
      {
        "duration": 578,
        "start_time": "2024-03-18T19:04:25.306Z"
      },
      {
        "duration": 2033,
        "start_time": "2024-03-18T19:04:25.886Z"
      },
      {
        "duration": 8,
        "start_time": "2024-03-18T19:04:27.922Z"
      },
      {
        "duration": 682,
        "start_time": "2024-03-18T19:04:53.239Z"
      },
      {
        "duration": 498,
        "start_time": "2024-03-18T20:07:04.119Z"
      },
      {
        "duration": 127,
        "start_time": "2024-03-18T20:07:37.579Z"
      },
      {
        "duration": 468,
        "start_time": "2024-03-18T20:09:16.974Z"
      },
      {
        "duration": 509,
        "start_time": "2024-03-18T20:10:22.310Z"
      },
      {
        "duration": 539,
        "start_time": "2024-03-18T20:10:44.079Z"
      },
      {
        "duration": 513,
        "start_time": "2024-03-18T20:10:56.105Z"
      },
      {
        "duration": 501,
        "start_time": "2024-03-18T20:11:21.716Z"
      },
      {
        "duration": 195,
        "start_time": "2024-03-18T20:13:04.525Z"
      },
      {
        "duration": 520,
        "start_time": "2024-03-18T20:13:09.508Z"
      },
      {
        "duration": 493,
        "start_time": "2024-03-18T20:13:49.926Z"
      },
      {
        "duration": 532,
        "start_time": "2024-03-18T20:23:04.888Z"
      },
      {
        "duration": 1438,
        "start_time": "2024-03-18T20:29:59.910Z"
      },
      {
        "duration": 3936,
        "start_time": "2024-03-18T20:30:25.275Z"
      },
      {
        "duration": 18,
        "start_time": "2024-03-18T20:30:29.213Z"
      },
      {
        "duration": 5,
        "start_time": "2024-03-18T20:30:29.233Z"
      },
      {
        "duration": 176,
        "start_time": "2024-03-18T20:30:29.240Z"
      },
      {
        "duration": 15,
        "start_time": "2024-03-18T20:30:29.418Z"
      },
      {
        "duration": 166,
        "start_time": "2024-03-18T20:30:29.434Z"
      },
      {
        "duration": 27,
        "start_time": "2024-03-18T20:30:29.601Z"
      },
      {
        "duration": 153,
        "start_time": "2024-03-18T20:30:29.629Z"
      },
      {
        "duration": 1015,
        "start_time": "2024-03-18T20:30:29.784Z"
      },
      {
        "duration": 4,
        "start_time": "2024-03-18T20:30:30.802Z"
      },
      {
        "duration": 252,
        "start_time": "2024-03-18T20:30:30.815Z"
      },
      {
        "duration": 27,
        "start_time": "2024-03-18T20:30:31.069Z"
      },
      {
        "duration": 200,
        "start_time": "2024-03-18T20:30:31.098Z"
      },
      {
        "duration": 124,
        "start_time": "2024-03-18T20:30:31.300Z"
      },
      {
        "duration": 165,
        "start_time": "2024-03-18T20:30:31.426Z"
      },
      {
        "duration": 903,
        "start_time": "2024-03-18T20:30:31.592Z"
      },
      {
        "duration": 197,
        "start_time": "2024-03-18T20:30:32.496Z"
      },
      {
        "duration": 29,
        "start_time": "2024-03-18T20:30:32.695Z"
      },
      {
        "duration": 164,
        "start_time": "2024-03-18T20:30:32.725Z"
      },
      {
        "duration": 36,
        "start_time": "2024-03-18T20:30:32.891Z"
      },
      {
        "duration": 151,
        "start_time": "2024-03-18T20:30:32.929Z"
      },
      {
        "duration": 948,
        "start_time": "2024-03-18T20:30:33.082Z"
      },
      {
        "duration": 544,
        "start_time": "2024-03-18T20:30:34.032Z"
      },
      {
        "duration": 1839,
        "start_time": "2024-03-18T20:30:34.579Z"
      },
      {
        "duration": 5,
        "start_time": "2024-03-18T20:30:36.419Z"
      },
      {
        "duration": 697,
        "start_time": "2024-03-18T20:30:36.425Z"
      },
      {
        "duration": 92,
        "start_time": "2024-03-18T20:30:37.124Z"
      },
      {
        "duration": 5,
        "start_time": "2024-03-18T20:30:37.220Z"
      },
      {
        "duration": 292,
        "start_time": "2024-03-18T20:30:37.227Z"
      },
      {
        "duration": 3,
        "start_time": "2024-03-18T20:30:37.522Z"
      },
      {
        "duration": 27,
        "start_time": "2024-03-18T20:30:37.526Z"
      },
      {
        "duration": 3,
        "start_time": "2024-03-18T20:30:37.555Z"
      },
      {
        "duration": 2184,
        "start_time": "2024-03-18T20:30:37.560Z"
      },
      {
        "duration": 1542,
        "start_time": "2024-03-18T20:30:39.746Z"
      },
      {
        "duration": 0,
        "start_time": "2024-03-18T20:30:41.290Z"
      },
      {
        "duration": 4765,
        "start_time": "2024-03-18T20:32:00.458Z"
      },
      {
        "duration": 4326,
        "start_time": "2024-03-18T20:32:25.308Z"
      },
      {
        "duration": 1648,
        "start_time": "2024-03-18T20:32:43.054Z"
      },
      {
        "duration": 1625,
        "start_time": "2024-03-18T20:32:49.056Z"
      },
      {
        "duration": 2028,
        "start_time": "2024-03-18T20:38:10.154Z"
      },
      {
        "duration": 2058,
        "start_time": "2024-03-18T20:38:30.143Z"
      },
      {
        "duration": 1826,
        "start_time": "2024-03-18T20:38:57.001Z"
      },
      {
        "duration": 2059,
        "start_time": "2024-03-18T20:39:10.056Z"
      },
      {
        "duration": 1653,
        "start_time": "2024-03-18T20:39:17.936Z"
      },
      {
        "duration": 2073,
        "start_time": "2024-03-18T20:47:43.096Z"
      },
      {
        "duration": 2080,
        "start_time": "2024-03-18T20:53:23.637Z"
      },
      {
        "duration": 2057,
        "start_time": "2024-03-18T20:53:44.827Z"
      },
      {
        "duration": 3938,
        "start_time": "2024-03-18T20:55:40.728Z"
      },
      {
        "duration": 18,
        "start_time": "2024-03-18T20:55:44.668Z"
      },
      {
        "duration": 4,
        "start_time": "2024-03-18T20:55:44.688Z"
      },
      {
        "duration": 188,
        "start_time": "2024-03-18T20:55:44.694Z"
      },
      {
        "duration": 18,
        "start_time": "2024-03-18T20:55:44.884Z"
      },
      {
        "duration": 166,
        "start_time": "2024-03-18T20:55:44.904Z"
      },
      {
        "duration": 26,
        "start_time": "2024-03-18T20:55:45.071Z"
      },
      {
        "duration": 161,
        "start_time": "2024-03-18T20:55:45.099Z"
      },
      {
        "duration": 967,
        "start_time": "2024-03-18T20:55:45.261Z"
      },
      {
        "duration": 4,
        "start_time": "2024-03-18T20:55:46.231Z"
      },
      {
        "duration": 156,
        "start_time": "2024-03-18T20:55:46.236Z"
      },
      {
        "duration": 22,
        "start_time": "2024-03-18T20:55:46.394Z"
      },
      {
        "duration": 148,
        "start_time": "2024-03-18T20:55:46.417Z"
      },
      {
        "duration": 114,
        "start_time": "2024-03-18T20:55:46.566Z"
      },
      {
        "duration": 159,
        "start_time": "2024-03-18T20:55:46.682Z"
      },
      {
        "duration": 904,
        "start_time": "2024-03-18T20:55:46.843Z"
      },
      {
        "duration": 161,
        "start_time": "2024-03-18T20:55:47.748Z"
      },
      {
        "duration": 16,
        "start_time": "2024-03-18T20:55:47.911Z"
      },
      {
        "duration": 152,
        "start_time": "2024-03-18T20:55:47.929Z"
      },
      {
        "duration": 36,
        "start_time": "2024-03-18T20:55:48.082Z"
      },
      {
        "duration": 145,
        "start_time": "2024-03-18T20:55:48.119Z"
      },
      {
        "duration": 913,
        "start_time": "2024-03-18T20:55:48.266Z"
      },
      {
        "duration": 463,
        "start_time": "2024-03-18T20:55:49.181Z"
      },
      {
        "duration": 1761,
        "start_time": "2024-03-18T20:55:49.646Z"
      },
      {
        "duration": 4,
        "start_time": "2024-03-18T20:55:51.414Z"
      },
      {
        "duration": 598,
        "start_time": "2024-03-18T20:55:51.420Z"
      },
      {
        "duration": 95,
        "start_time": "2024-03-18T20:55:52.021Z"
      },
      {
        "duration": 15,
        "start_time": "2024-03-18T20:55:52.120Z"
      },
      {
        "duration": 286,
        "start_time": "2024-03-18T20:55:52.137Z"
      },
      {
        "duration": 3,
        "start_time": "2024-03-18T20:55:52.424Z"
      },
      {
        "duration": 37,
        "start_time": "2024-03-18T20:55:52.428Z"
      },
      {
        "duration": 2,
        "start_time": "2024-03-18T20:55:52.467Z"
      },
      {
        "duration": 2051,
        "start_time": "2024-03-18T20:55:52.471Z"
      },
      {
        "duration": 4,
        "start_time": "2024-03-18T20:55:54.523Z"
      },
      {
        "duration": 4001,
        "start_time": "2024-03-18T21:01:14.620Z"
      },
      {
        "duration": 18,
        "start_time": "2024-03-18T21:01:18.624Z"
      },
      {
        "duration": 5,
        "start_time": "2024-03-18T21:01:18.644Z"
      },
      {
        "duration": 172,
        "start_time": "2024-03-18T21:01:18.652Z"
      },
      {
        "duration": 18,
        "start_time": "2024-03-18T21:01:18.825Z"
      },
      {
        "duration": 171,
        "start_time": "2024-03-18T21:01:18.844Z"
      },
      {
        "duration": 26,
        "start_time": "2024-03-18T21:01:19.017Z"
      },
      {
        "duration": 164,
        "start_time": "2024-03-18T21:01:19.045Z"
      },
      {
        "duration": 955,
        "start_time": "2024-03-18T21:01:19.211Z"
      },
      {
        "duration": 4,
        "start_time": "2024-03-18T21:01:20.169Z"
      },
      {
        "duration": 163,
        "start_time": "2024-03-18T21:01:20.174Z"
      },
      {
        "duration": 17,
        "start_time": "2024-03-18T21:01:20.339Z"
      },
      {
        "duration": 165,
        "start_time": "2024-03-18T21:01:20.358Z"
      },
      {
        "duration": 118,
        "start_time": "2024-03-18T21:01:20.524Z"
      },
      {
        "duration": 168,
        "start_time": "2024-03-18T21:01:20.644Z"
      },
      {
        "duration": 947,
        "start_time": "2024-03-18T21:01:20.815Z"
      },
      {
        "duration": 182,
        "start_time": "2024-03-18T21:01:21.764Z"
      },
      {
        "duration": 18,
        "start_time": "2024-03-18T21:01:21.947Z"
      },
      {
        "duration": 186,
        "start_time": "2024-03-18T21:01:21.966Z"
      },
      {
        "duration": 24,
        "start_time": "2024-03-18T21:01:22.154Z"
      },
      {
        "duration": 146,
        "start_time": "2024-03-18T21:01:22.180Z"
      },
      {
        "duration": 981,
        "start_time": "2024-03-18T21:01:22.328Z"
      },
      {
        "duration": 514,
        "start_time": "2024-03-18T21:01:23.311Z"
      },
      {
        "duration": 1782,
        "start_time": "2024-03-18T21:01:23.827Z"
      },
      {
        "duration": 4,
        "start_time": "2024-03-18T21:01:25.614Z"
      },
      {
        "duration": 796,
        "start_time": "2024-03-18T21:01:25.619Z"
      },
      {
        "duration": 5,
        "start_time": "2024-03-18T21:01:26.416Z"
      },
      {
        "duration": 5,
        "start_time": "2024-03-18T21:01:26.425Z"
      },
      {
        "duration": 271,
        "start_time": "2024-03-18T21:01:26.431Z"
      },
      {
        "duration": 4,
        "start_time": "2024-03-18T21:01:26.715Z"
      },
      {
        "duration": 27,
        "start_time": "2024-03-18T21:01:26.720Z"
      },
      {
        "duration": 3,
        "start_time": "2024-03-18T21:01:26.748Z"
      },
      {
        "duration": 2108,
        "start_time": "2024-03-18T21:01:26.753Z"
      },
      {
        "duration": 4,
        "start_time": "2024-03-18T21:01:28.863Z"
      },
      {
        "duration": 4071,
        "start_time": "2024-03-18T21:03:24.303Z"
      },
      {
        "duration": 18,
        "start_time": "2024-03-18T21:03:28.376Z"
      },
      {
        "duration": 5,
        "start_time": "2024-03-18T21:03:28.396Z"
      },
      {
        "duration": 206,
        "start_time": "2024-03-18T21:03:28.403Z"
      },
      {
        "duration": 18,
        "start_time": "2024-03-18T21:03:28.611Z"
      },
      {
        "duration": 160,
        "start_time": "2024-03-18T21:03:28.630Z"
      },
      {
        "duration": 35,
        "start_time": "2024-03-18T21:03:28.792Z"
      },
      {
        "duration": 155,
        "start_time": "2024-03-18T21:03:28.829Z"
      },
      {
        "duration": 1013,
        "start_time": "2024-03-18T21:03:28.985Z"
      },
      {
        "duration": 4,
        "start_time": "2024-03-18T21:03:30.001Z"
      },
      {
        "duration": 175,
        "start_time": "2024-03-18T21:03:30.015Z"
      },
      {
        "duration": 24,
        "start_time": "2024-03-18T21:03:30.191Z"
      },
      {
        "duration": 220,
        "start_time": "2024-03-18T21:03:30.217Z"
      },
      {
        "duration": 121,
        "start_time": "2024-03-18T21:03:30.439Z"
      },
      {
        "duration": 158,
        "start_time": "2024-03-18T21:03:30.562Z"
      },
      {
        "duration": 944,
        "start_time": "2024-03-18T21:03:30.722Z"
      },
      {
        "duration": 171,
        "start_time": "2024-03-18T21:03:31.668Z"
      },
      {
        "duration": 20,
        "start_time": "2024-03-18T21:03:31.841Z"
      },
      {
        "duration": 176,
        "start_time": "2024-03-18T21:03:31.862Z"
      },
      {
        "duration": 27,
        "start_time": "2024-03-18T21:03:32.039Z"
      },
      {
        "duration": 170,
        "start_time": "2024-03-18T21:03:32.068Z"
      },
      {
        "duration": 920,
        "start_time": "2024-03-18T21:03:32.240Z"
      },
      {
        "duration": 569,
        "start_time": "2024-03-18T21:03:33.161Z"
      },
      {
        "duration": 1784,
        "start_time": "2024-03-18T21:03:33.732Z"
      },
      {
        "duration": 4,
        "start_time": "2024-03-18T21:03:35.518Z"
      },
      {
        "duration": 596,
        "start_time": "2024-03-18T21:03:35.524Z"
      },
      {
        "duration": 91,
        "start_time": "2024-03-18T21:03:36.125Z"
      },
      {
        "duration": 5,
        "start_time": "2024-03-18T21:03:36.219Z"
      },
      {
        "duration": 277,
        "start_time": "2024-03-18T21:03:36.225Z"
      },
      {
        "duration": 11,
        "start_time": "2024-03-18T21:03:36.504Z"
      },
      {
        "duration": 22,
        "start_time": "2024-03-18T21:03:36.516Z"
      },
      {
        "duration": 3,
        "start_time": "2024-03-18T21:03:36.539Z"
      },
      {
        "duration": 2086,
        "start_time": "2024-03-18T21:03:36.543Z"
      },
      {
        "duration": 3,
        "start_time": "2024-03-18T21:03:38.631Z"
      },
      {
        "duration": 3986,
        "start_time": "2024-03-18T21:05:04.767Z"
      },
      {
        "duration": 18,
        "start_time": "2024-03-18T21:05:08.755Z"
      },
      {
        "duration": 6,
        "start_time": "2024-03-18T21:05:08.775Z"
      },
      {
        "duration": 174,
        "start_time": "2024-03-18T21:05:08.783Z"
      },
      {
        "duration": 17,
        "start_time": "2024-03-18T21:05:08.960Z"
      },
      {
        "duration": 190,
        "start_time": "2024-03-18T21:05:08.979Z"
      },
      {
        "duration": 26,
        "start_time": "2024-03-18T21:05:09.171Z"
      },
      {
        "duration": 160,
        "start_time": "2024-03-18T21:05:09.198Z"
      },
      {
        "duration": 922,
        "start_time": "2024-03-18T21:05:09.360Z"
      },
      {
        "duration": 5,
        "start_time": "2024-03-18T21:05:10.285Z"
      },
      {
        "duration": 164,
        "start_time": "2024-03-18T21:05:10.292Z"
      },
      {
        "duration": 21,
        "start_time": "2024-03-18T21:05:10.458Z"
      },
      {
        "duration": 169,
        "start_time": "2024-03-18T21:05:10.481Z"
      },
      {
        "duration": 114,
        "start_time": "2024-03-18T21:05:10.651Z"
      },
      {
        "duration": 154,
        "start_time": "2024-03-18T21:05:10.767Z"
      },
      {
        "duration": 934,
        "start_time": "2024-03-18T21:05:10.923Z"
      },
      {
        "duration": 168,
        "start_time": "2024-03-18T21:05:11.858Z"
      },
      {
        "duration": 18,
        "start_time": "2024-03-18T21:05:12.028Z"
      },
      {
        "duration": 160,
        "start_time": "2024-03-18T21:05:12.047Z"
      },
      {
        "duration": 25,
        "start_time": "2024-03-18T21:05:12.209Z"
      },
      {
        "duration": 144,
        "start_time": "2024-03-18T21:05:12.235Z"
      },
      {
        "duration": 902,
        "start_time": "2024-03-18T21:05:12.381Z"
      },
      {
        "duration": 519,
        "start_time": "2024-03-18T21:05:13.284Z"
      },
      {
        "duration": 1799,
        "start_time": "2024-03-18T21:05:13.804Z"
      },
      {
        "duration": 10,
        "start_time": "2024-03-18T21:05:15.605Z"
      },
      {
        "duration": 702,
        "start_time": "2024-03-18T21:05:15.616Z"
      },
      {
        "duration": 95,
        "start_time": "2024-03-18T21:05:16.320Z"
      },
      {
        "duration": 7,
        "start_time": "2024-03-18T21:05:16.419Z"
      },
      {
        "duration": 266,
        "start_time": "2024-03-18T21:05:16.427Z"
      },
      {
        "duration": 3,
        "start_time": "2024-03-18T21:05:16.694Z"
      },
      {
        "duration": 31,
        "start_time": "2024-03-18T21:05:16.699Z"
      },
      {
        "duration": 4,
        "start_time": "2024-03-18T21:05:16.731Z"
      },
      {
        "duration": 2122,
        "start_time": "2024-03-18T21:05:16.736Z"
      },
      {
        "duration": 4,
        "start_time": "2024-03-18T21:05:18.860Z"
      },
      {
        "duration": 4051,
        "start_time": "2024-03-18T21:06:33.906Z"
      },
      {
        "duration": 18,
        "start_time": "2024-03-18T21:06:37.959Z"
      },
      {
        "duration": 5,
        "start_time": "2024-03-18T21:06:37.979Z"
      },
      {
        "duration": 209,
        "start_time": "2024-03-18T21:06:37.985Z"
      },
      {
        "duration": 27,
        "start_time": "2024-03-18T21:06:38.197Z"
      },
      {
        "duration": 171,
        "start_time": "2024-03-18T21:06:38.226Z"
      },
      {
        "duration": 32,
        "start_time": "2024-03-18T21:06:38.399Z"
      },
      {
        "duration": 147,
        "start_time": "2024-03-18T21:06:38.433Z"
      },
      {
        "duration": 1006,
        "start_time": "2024-03-18T21:06:38.582Z"
      },
      {
        "duration": 4,
        "start_time": "2024-03-18T21:06:39.589Z"
      },
      {
        "duration": 181,
        "start_time": "2024-03-18T21:06:39.595Z"
      },
      {
        "duration": 18,
        "start_time": "2024-03-18T21:06:39.778Z"
      },
      {
        "duration": 185,
        "start_time": "2024-03-18T21:06:39.797Z"
      },
      {
        "duration": 34,
        "start_time": "2024-03-18T21:06:39.984Z"
      },
      {
        "duration": 234,
        "start_time": "2024-03-18T21:06:40.020Z"
      },
      {
        "duration": 935,
        "start_time": "2024-03-18T21:06:40.256Z"
      },
      {
        "duration": 167,
        "start_time": "2024-03-18T21:06:41.192Z"
      },
      {
        "duration": 16,
        "start_time": "2024-03-18T21:06:41.360Z"
      },
      {
        "duration": 150,
        "start_time": "2024-03-18T21:06:41.378Z"
      },
      {
        "duration": 23,
        "start_time": "2024-03-18T21:06:41.530Z"
      },
      {
        "duration": 142,
        "start_time": "2024-03-18T21:06:41.554Z"
      },
      {
        "duration": 942,
        "start_time": "2024-03-18T21:06:41.697Z"
      },
      {
        "duration": 497,
        "start_time": "2024-03-18T21:06:42.641Z"
      },
      {
        "duration": 1801,
        "start_time": "2024-03-18T21:06:43.139Z"
      },
      {
        "duration": 4,
        "start_time": "2024-03-18T21:06:44.942Z"
      },
      {
        "duration": 671,
        "start_time": "2024-03-18T21:06:44.947Z"
      },
      {
        "duration": 95,
        "start_time": "2024-03-18T21:06:45.620Z"
      },
      {
        "duration": 13,
        "start_time": "2024-03-18T21:06:45.717Z"
      },
      {
        "duration": 273,
        "start_time": "2024-03-18T21:06:45.731Z"
      },
      {
        "duration": 9,
        "start_time": "2024-03-18T21:06:46.006Z"
      },
      {
        "duration": 24,
        "start_time": "2024-03-18T21:06:46.017Z"
      },
      {
        "duration": 3,
        "start_time": "2024-03-18T21:06:46.043Z"
      },
      {
        "duration": 2081,
        "start_time": "2024-03-18T21:06:46.047Z"
      },
      {
        "duration": 4,
        "start_time": "2024-03-18T21:06:48.130Z"
      }
    ],
    "kernelspec": {
      "display_name": "Python 3 (ipykernel)",
      "language": "python",
      "name": "python3"
    },
    "language_info": {
      "codemirror_mode": {
        "name": "ipython",
        "version": 3
      },
      "file_extension": ".py",
      "mimetype": "text/x-python",
      "name": "python",
      "nbconvert_exporter": "python",
      "pygments_lexer": "ipython3",
      "version": "3.9.5"
    },
    "toc": {
      "base_numbering": 1,
      "nav_menu": {},
      "number_sections": true,
      "sideBar": true,
      "skip_h1_title": true,
      "title_cell": "Table of Contents",
      "title_sidebar": "Contents",
      "toc_cell": false,
      "toc_position": {
        "height": "calc(100% - 180px)",
        "left": "10px",
        "top": "150px",
        "width": "165px"
      },
      "toc_section_display": true,
      "toc_window_display": false
    },
    "colab": {
      "provenance": [],
      "toc_visible": true,
      "include_colab_link": true
    }
  },
  "nbformat": 4,
  "nbformat_minor": 0
}